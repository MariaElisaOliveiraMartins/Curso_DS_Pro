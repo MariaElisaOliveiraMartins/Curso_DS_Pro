{
  "nbformat": 4,
  "nbformat_minor": 0,
  "metadata": {
    "colab": {
      "name": "Aula8.ipynb",
      "provenance": [],
      "collapsed_sections": [],
      "toc_visible": true,
      "include_colab_link": true
    },
    "kernelspec": {
      "name": "python3",
      "display_name": "Python 3"
    }
  },
  "cells": [
    {
      "cell_type": "markdown",
      "metadata": {
        "id": "view-in-github",
        "colab_type": "text"
      },
      "source": [
        "<a href=\"https://colab.research.google.com/github/MariaElisaOliveiraMartins/Curso_DS_Pro/blob/main/Aula8.ipynb\" target=\"_parent\"><img src=\"https://colab.research.google.com/assets/colab-badge.svg\" alt=\"Open In Colab\"/></a>"
      ]
    },
    {
      "cell_type": "markdown",
      "metadata": {
        "id": "WVzYYfkiKkdp"
      },
      "source": [
        "# Aula 08\n",
        "## AutoML "
      ]
    },
    {
      "cell_type": "markdown",
      "metadata": {
        "id": "zyL_TcktmZpb"
      },
      "source": [
        "## Definição \n",
        "\n",
        "\n",
        "“AutoML tenta automatizar a parte de ajuste de ML da ciência de dados”, o que significa que o AutoML tenta automatizar partes do fluxo de trabalho da ciência de dados.\n",
        "\n",
        "Antes de começarmos, vamos entender as palavras-chave do aprendizado de máquina e da ciência de dados, o aprendizado de máquina trata principalmente principalmente da modelagem de dados (selecionar o melhor algoritmo, ajustar seus parâmetros etc.) é apenas uma parte do kit de ferramentas de ciência de dados que envolve ciência de dados, como preparação de dados, análise descritiva etc.\n",
        "\n",
        "Então, basicamente, o autoML é um processo automático de seleção de algoritmo de modelo, ajuste de hiperparâmetro, modelagem iterativa e avaliação de modelo. NÃO é ciência de dados automatizada, nem desenvolvimento automatizado de inteligência artificial."
      ]
    },
    {
      "cell_type": "markdown",
      "metadata": {
        "id": "srnKbHjAzazr"
      },
      "source": [
        "### Alternativas existentes\n",
        "\n",
        "**auto-sklearn** é uma camada de otimização de hiperparâmetros bayesiana sobre o scikit-learn.\n",
        "\n",
        "**TPOT** (TeaPOT) é uma biblioteca Python que cria e otimiza automaticamente pipelines completos de aprendizado de máquina usando programação genética.\n",
        "\n",
        "**TransmogrifAI** é uma biblioteca Scala / SparkML criada pela Salesforce para limpeza automatizada de dados, engenharia de recursos, seleção de modelos e otimização de hiperparâmetros.\n",
        "\n",
        "**H2O AutoML** realiza pré-processamento (simples) de dados, automatiza o processo de treinamento de grandes conjuntos de dados e modelos."
      ]
    },
    {
      "cell_type": "markdown",
      "metadata": {
        "id": "wI0J_VmxmUgL"
      },
      "source": [
        "## H2O"
      ]
    },
    {
      "cell_type": "markdown",
      "metadata": {
        "id": "JoBwu6PMdLgn"
      },
      "source": [
        "O H2O.ai oferece uma variedade de plataformas de IA e de aprendizado de máquina, como a plataforma H2O de código aberto líder do setor, para integrações do Apache Spark Sparkling Water, a premiada plataforma de aprendizado automático de máquina, a plataforma AI Driverless H2O que aumenta e complementa os esforços de cientistas de dados. Por fim, o H2O Q é a nova plataforma de IA para usuários corporativos. "
      ]
    },
    {
      "cell_type": "markdown",
      "metadata": {
        "id": "GQq8NceReAOO"
      },
      "source": [
        "### Instalando no Colab"
      ]
    },
    {
      "cell_type": "code",
      "metadata": {
        "id": "bWlzv2PLduBC"
      },
      "source": [
        "!pip install requests\n",
        "!pip install tabulate\n",
        "!pip install \"colorama>=0.3.8\"\n",
        "!pip install future\n",
        "!pip install -f http://h2o-release.s3.amazonaws.com/h2o/latest_stable_Py.html h2o"
      ],
      "execution_count": null,
      "outputs": []
    },
    {
      "cell_type": "code",
      "metadata": {
        "id": "DzdO81cvKjGL"
      },
      "source": [
        "import os       #importing os to set environment variable\n",
        "def install_java():\n",
        "  !apt-get install -y openjdk-8-jdk-headless -qq > /dev/null      #install openjdk\n",
        "  os.environ[\"JAVA_HOME\"] = \"/usr/lib/jvm/java-8-openjdk-amd64\"     #set environment variable\n",
        "  !java -version       #check java version\n",
        "install_java()"
      ],
      "execution_count": null,
      "outputs": []
    },
    {
      "cell_type": "code",
      "metadata": {
        "id": "N2Xu5ZI1KqdU"
      },
      "source": [
        "! pip install h2o"
      ],
      "execution_count": null,
      "outputs": []
    },
    {
      "cell_type": "markdown",
      "metadata": {
        "id": "byUqu5XreW5r"
      },
      "source": [
        "### Instalando \"local\""
      ]
    },
    {
      "cell_type": "markdown",
      "metadata": {
        "id": "LYtCC-v1e-h9"
      },
      "source": [
        "#### Instalar H2O no python:\n",
        "\n",
        "\n",
        "\n",
        "1.   Requisitos\n",
        "\n",
        "```\n",
        "pip install requests\n",
        "pip install tabulate\n",
        "pip install \"colorama>=0.3.8\"\n",
        "pip install future\n",
        "```\n",
        "\n",
        "2. H2O\n",
        "\n",
        "```\n",
        "pip install -f http://h2o-release.s3.amazonaws.com/h2o/latest_stable_Py.html h2o\n",
        "```\n",
        "\n",
        "#### H2O Flow\n",
        "\n",
        "1. Clique no botão **Download** que você verá em http://h2o-release.s3.amazonaws.com/h2o/latest_stable.html.\n",
        "\n",
        "2. Crie um diretório, descompacte lá o arquivo baixado.\n",
        "\n",
        "3. Execute:\n",
        "\n",
        "```\n",
        "java -jar h2o.jar\n",
        "```\n",
        "4. Aparecerá uma mensagem como:\n",
        "\n",
        "```\n",
        "Open H2O Flow in your web browser: http://10.212.60.3:54321\n",
        "```\n",
        "5. Abra esse link e aparecerá o H2O Flow\n",
        "\n",
        "\n",
        "\n",
        "\n"
      ]
    },
    {
      "cell_type": "markdown",
      "metadata": {
        "id": "7ZI4sT3IeOXN"
      },
      "source": [
        "### Exercício 1"
      ]
    },
    {
      "cell_type": "code",
      "metadata": {
        "id": "t9Fwr1ugaGxf"
      },
      "source": [
        "import numpy as np\n",
        "import pandas as pd\n",
        "import matplotlib.pyplot as plt"
      ],
      "execution_count": null,
      "outputs": []
    },
    {
      "cell_type": "code",
      "metadata": {
        "id": "KHg6MkkY_YST"
      },
      "source": [
        "import h2o"
      ],
      "execution_count": null,
      "outputs": []
    },
    {
      "cell_type": "code",
      "metadata": {
        "id": "gyF7yB_ki_Hl"
      },
      "source": [
        "h2o.init()"
      ],
      "execution_count": null,
      "outputs": []
    },
    {
      "cell_type": "markdown",
      "metadata": {
        "id": "L6KO_XqU0s_t"
      },
      "source": [
        "Dados: [exemplo sobre fraudes no Kaggle](https://www.kaggle.com/mlg-ulb/creditcardfraud)\n",
        "\n",
        "**Descrição:**\n",
        "\n",
        "O conjunto de dados contêm transações realizadas com cartões de crédito em setembro de 2013 por portadores de cartões europeus.\n",
        "Esse conjunto de dados apresenta transações que ocorreram em dois dias, nas quais temos 492 fraudes em 284.807 transações. O conjunto de dados é altamente desequilibrado, a classe positiva (fraudes) representa 0,172% de todas as transações.\n",
        "\n",
        "Ele contém apenas variáveis ​​de entrada numéricas que são o resultado de uma transformação PCA. Infelizmente, devido a problemas de confidencialidade, não podemos fornecer os recursos originais e mais informações básicas sobre os dados. Recursos V1, V2,… V28 são os principais componentes obtidos com o PCA, os únicos recursos que não foram transformados com o PCA são 'Time' e 'Value'. O recurso 'Hour' contém os segundos decorridos entre cada transação e a primeira transação no conjunto de dados. O recurso 'Value' é o valor da transação, esse recurso pode ser usado para aprendizado sensível a custos dependente de exemplo. O recurso 'Class' é a variável de resposta e assume o valor 1 em caso de fraude e 0 em caso contrário.\n",
        "\t\n"
      ]
    },
    {
      "cell_type": "code",
      "metadata": {
        "id": "fe5nst9Gz4Db"
      },
      "source": [
        "df = pd.read_csv('/content/drive/My Drive/DadosPythonPro/310_23498_bundle_archive.zip')"
      ],
      "execution_count": null,
      "outputs": []
    },
    {
      "cell_type": "code",
      "metadata": {
        "id": "DtKVo_kr0ZQQ"
      },
      "source": [
        "df.columns"
      ],
      "execution_count": null,
      "outputs": []
    },
    {
      "cell_type": "code",
      "metadata": {
        "id": "QGOCZACo0l4d"
      },
      "source": [
        "df.describe()"
      ],
      "execution_count": null,
      "outputs": []
    },
    {
      "cell_type": "code",
      "metadata": {
        "id": "PICmc6kn2Q8T"
      },
      "source": [
        "df.groupby('Class')['Class'].count()"
      ],
      "execution_count": null,
      "outputs": []
    },
    {
      "cell_type": "code",
      "metadata": {
        "id": "QW3MGNEn2YF3"
      },
      "source": [
        "plt.figure(figsize=(12,8))\n",
        "plt.scatter(df[df.Class == 0].Time, df[df.Class == 0].Amount, c='green', label=\"Não fraudes\")\n",
        "plt.scatter(df[df.Class == 1].Time, df[df.Class == 1].Amount, c='red', label=\"Fraudes\")\n",
        "plt.title(\"Transações ao longo do tempo\")\n",
        "plt.legend()\n",
        "plt.show()"
      ],
      "execution_count": null,
      "outputs": []
    },
    {
      "cell_type": "code",
      "metadata": {
        "id": "JE0e1-ZG3Fkr"
      },
      "source": [
        "import h2o\n",
        "from h2o.estimators.gbm import H2OGradientBoostingEstimator\n",
        "from h2o.automl import H2OAutoML"
      ],
      "execution_count": null,
      "outputs": []
    },
    {
      "cell_type": "code",
      "metadata": {
        "id": "RpVp3vMN42J2"
      },
      "source": [
        "h2o.init()"
      ],
      "execution_count": null,
      "outputs": []
    },
    {
      "cell_type": "code",
      "metadata": {
        "id": "ZWcuGSKnkPsd"
      },
      "source": [
        "df = h2o.import_file('/content/drive/My Drive/DadosPythonPro/310_23498_bundle_archive.zip')"
      ],
      "execution_count": null,
      "outputs": []
    },
    {
      "cell_type": "code",
      "metadata": {
        "id": "u5LybKfQ5Hu-"
      },
      "source": [
        "d = df.split_frame(ratios = [0.8], seed = 1234)\n",
        "df_train = d[0] # 80% para treinamento\n",
        "df_test = d[1] # 20% para teste"
      ],
      "execution_count": null,
      "outputs": []
    },
    {
      "cell_type": "code",
      "metadata": {
        "id": "aQZyE4qx5T_d"
      },
      "source": [
        "# Colunas de predição\n",
        "predictors = list(df.columns) \n",
        "predictors.remove('Time')\n",
        "predictors.remove('Class')"
      ],
      "execution_count": null,
      "outputs": []
    },
    {
      "cell_type": "code",
      "metadata": {
        "id": "6s3PClIJlJnO"
      },
      "source": [
        "# Convertendo para inteiros\n",
        "\n",
        "df_train['Class'] = df_train['Class'].asfactor()"
      ],
      "execution_count": null,
      "outputs": []
    },
    {
      "cell_type": "code",
      "metadata": {
        "id": "c5V1nsmRlUmr"
      },
      "source": [
        "aml = H2OAutoML(max_models = 3, seed = 1, max_runtime_secs=200)\n",
        "aml.train(x = predictors, y = 'Class', training_frame = df_train, validation_frame = df_test)"
      ],
      "execution_count": null,
      "outputs": []
    },
    {
      "cell_type": "code",
      "metadata": {
        "id": "tP1kTHXqlWyo"
      },
      "source": [
        "print(aml.leader.confusion_matrix)"
      ],
      "execution_count": null,
      "outputs": []
    },
    {
      "cell_type": "code",
      "metadata": {
        "id": "XG6J4FaWnhIm"
      },
      "source": [
        "aml.leader"
      ],
      "execution_count": null,
      "outputs": []
    },
    {
      "cell_type": "code",
      "metadata": {
        "id": "1ypJGfRCnweU"
      },
      "source": [
        "# Salvando o modelo\n",
        "h2o.save_model(aml.leader, path = \"/content/drive/My Drive/credit_card\")"
      ],
      "execution_count": null,
      "outputs": []
    },
    {
      "cell_type": "markdown",
      "metadata": {
        "id": "NocccdpHrsTc"
      },
      "source": [
        "### Exercicio 2"
      ]
    },
    {
      "cell_type": "code",
      "metadata": {
        "id": "Tw1SMxTTqTwY"
      },
      "source": [
        "# Obtendo os dados\n",
        "df = h2o.import_file(\"https://github.com/h2oai/h2o-sparkling/raw/master/data/prostate.csv\")\n"
      ],
      "execution_count": null,
      "outputs": []
    },
    {
      "cell_type": "code",
      "metadata": {
        "id": "aKqO9CVIsDGT"
      },
      "source": [
        "df.head()"
      ],
      "execution_count": null,
      "outputs": []
    },
    {
      "cell_type": "code",
      "metadata": {
        "id": "3TvLhHZOtCG1"
      },
      "source": [
        "# Checando o balanceamento\n",
        "df.group_by(\"CAPSULE\").count().get_frame()"
      ],
      "execution_count": null,
      "outputs": []
    },
    {
      "cell_type": "code",
      "metadata": {
        "id": "S0ZQpv3rr6Vy"
      },
      "source": [
        "# Separando treinamento e teste\n",
        "train, test = df.split_frame(ratios=[.9])\n",
        "x = train.columns\n",
        "y = \"CAPSULE\"\n",
        "x.remove(y)"
      ],
      "execution_count": null,
      "outputs": []
    },
    {
      "cell_type": "code",
      "metadata": {
        "id": "QPXCqGhNtYZC"
      },
      "source": [
        "# Convertendo para fator, já que é classificação\n",
        "train[y] = train[y].asfactor()\n",
        "test[y] = test[y].asfactor()"
      ],
      "execution_count": null,
      "outputs": []
    },
    {
      "cell_type": "code",
      "metadata": {
        "id": "1c8HMsX5txL7"
      },
      "source": [
        "# \"Rodando\" os modelos por 60 segundos\n",
        "aml = H2OAutoML(max_runtime_secs = 60)\n",
        "aml.train(x = x, y = y, training_frame = train, leaderboard_frame = test)\n"
      ],
      "execution_count": null,
      "outputs": []
    },
    {
      "cell_type": "code",
      "metadata": {
        "id": "D0QTRGu3t9ra"
      },
      "source": [
        "aml.leaderboard"
      ],
      "execution_count": null,
      "outputs": []
    },
    {
      "cell_type": "code",
      "metadata": {
        "id": "NaQ0uturul9j"
      },
      "source": [
        "aml.leader"
      ],
      "execution_count": null,
      "outputs": []
    },
    {
      "cell_type": "code",
      "metadata": {
        "id": "F-bcS290uBHc"
      },
      "source": [
        "# Fazendo predições\n",
        "preds = aml.predict(test)\n",
        "#preds = aml.leader.predict(test)"
      ],
      "execution_count": null,
      "outputs": []
    },
    {
      "cell_type": "code",
      "metadata": {
        "id": "tEbvQ0QIuGou"
      },
      "source": [
        "preds"
      ],
      "execution_count": null,
      "outputs": []
    }
  ]
}