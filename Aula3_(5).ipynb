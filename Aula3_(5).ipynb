{
  "nbformat": 4,
  "nbformat_minor": 0,
  "metadata": {
    "colab": {
      "name": "Aula3 (5).ipynb",
      "provenance": [],
      "collapsed_sections": [
        "t35gw4g3HkkG",
        "YBJtOqsUKs4K",
        "WE4uqQgPMG05",
        "eh-KfktTQDqO",
        "C2Ks0LZVRC83",
        "6uM0l3YNTloj",
        "6OE4iNaycsLS",
        "AXQm8X1Ocz62"
      ],
      "toc_visible": true,
      "include_colab_link": true
    },
    "kernelspec": {
      "name": "python3",
      "display_name": "Python 3"
    }
  },
  "cells": [
    {
      "cell_type": "markdown",
      "metadata": {
        "id": "view-in-github",
        "colab_type": "text"
      },
      "source": [
        "<a href=\"https://colab.research.google.com/github/MariaElisaOliveiraMartins/Curso_DS_Pro/blob/main/Aula3_(5).ipynb\" target=\"_parent\"><img src=\"https://colab.research.google.com/assets/colab-badge.svg\" alt=\"Open In Colab\"/></a>"
      ]
    },
    {
      "cell_type": "markdown",
      "metadata": {
        "id": "t35gw4g3HkkG"
      },
      "source": [
        "# Estruturas de dados em Python => Criando objetos simples e complexos\n"
      ]
    },
    {
      "cell_type": "markdown",
      "metadata": {
        "id": "5215RJS-Hvzs"
      },
      "source": [
        "### Variáveis => Posições de memória que armazemam dados. "
      ]
    },
    {
      "cell_type": "code",
      "metadata": {
        "id": "EjP0_nefHuZa"
      },
      "source": [
        "x = 3\n",
        "nome = \"Mauro\"\n",
        "logica = True"
      ],
      "execution_count": null,
      "outputs": []
    },
    {
      "cell_type": "code",
      "metadata": {
        "id": "w6If2vjYGHvf"
      },
      "source": [
        "nome1 = \"Mauro\"\n",
        "nome2 = \"Bete\"\n",
        "nome3 = \"Pedro\""
      ],
      "execution_count": null,
      "outputs": []
    },
    {
      "cell_type": "markdown",
      "metadata": {
        "id": "5tc-DQQnINZk"
      },
      "source": [
        "### Listas => são conjuntos de dados cujos elementos podem ser alterados.\n",
        "\n"
      ]
    },
    {
      "cell_type": "code",
      "metadata": {
        "id": "73FQFsLPIS3V",
        "outputId": "2d4b902c-504e-42af-df0b-e0debf54c2bb",
        "colab": {
          "base_uri": "https://localhost:8080/",
          "height": 68
        }
      },
      "source": [
        "nomes = [\"Mauro\",\"Pedro\", \"Bete\"] \n",
        "print(nomes)\n",
        "nomes = [nome1,nome2,nome3]\n",
        "print(nomes)\n",
        "nomes.append(\"João\")\n",
        "print(nomes)"
      ],
      "execution_count": null,
      "outputs": [
        {
          "output_type": "stream",
          "text": [
            "['Mauro', 'Pedro', 'Bete']\n",
            "['Mauro', 'Bete', 'Pedro']\n",
            "['Mauro', 'Bete', 'Pedro', 'João']\n"
          ],
          "name": "stdout"
        }
      ]
    },
    {
      "cell_type": "code",
      "metadata": {
        "id": "fvHpCG0FInYK",
        "outputId": "601f481f-50ec-463b-d3ab-49a391db5da1",
        "colab": {
          "base_uri": "https://localhost:8080/",
          "height": 34
        }
      },
      "source": [
        "nomes.remove(\"Mauro\")\n",
        "print(nomes)\n",
        "#nomes.remove(\"Maria\")"
      ],
      "execution_count": null,
      "outputs": [
        {
          "output_type": "stream",
          "text": [
            "['Bete', 'Pedro', 'João']\n"
          ],
          "name": "stdout"
        }
      ]
    },
    {
      "cell_type": "code",
      "metadata": {
        "id": "_bXYaEPCI8wC",
        "outputId": "128d44b8-b144-467e-b90b-7ca6adc6bb82",
        "colab": {
          "base_uri": "https://localhost:8080/",
          "height": 34
        }
      },
      "source": [
        "\"Maria\" in nomes"
      ],
      "execution_count": null,
      "outputs": [
        {
          "output_type": "execute_result",
          "data": {
            "text/plain": [
              "False"
            ]
          },
          "metadata": {
            "tags": []
          },
          "execution_count": 38
        }
      ]
    },
    {
      "cell_type": "code",
      "metadata": {
        "id": "3wNC-6-7JC5z",
        "outputId": "ecb5124e-5fbe-4f35-8b7f-66ae4ccd5382",
        "colab": {
          "base_uri": "https://localhost:8080/",
          "height": 34
        }
      },
      "source": [
        "if \"Maria\" in nomes:\n",
        "  nomes.remove(\"Maria\")\n",
        "else:\n",
        "  print(\"Não tem Maria em nomes\")\n"
      ],
      "execution_count": null,
      "outputs": [
        {
          "output_type": "stream",
          "text": [
            "Não tem Maria em nomes\n"
          ],
          "name": "stdout"
        }
      ]
    },
    {
      "cell_type": "code",
      "metadata": {
        "id": "uBEahWKGJO6g",
        "outputId": "aa6c35dc-e9b8-4bfc-8835-11babf928350",
        "colab": {
          "base_uri": "https://localhost:8080/",
          "height": 68
        }
      },
      "source": [
        "for nome in nomes:\n",
        "  print(nome)"
      ],
      "execution_count": null,
      "outputs": [
        {
          "output_type": "stream",
          "text": [
            "Bete\n",
            "Pedro\n",
            "João\n"
          ],
          "name": "stdout"
        }
      ]
    },
    {
      "cell_type": "markdown",
      "metadata": {
        "id": "kyyeWtXeM2jX"
      },
      "source": [
        "## Tuplas => Também são conujunto de dados, porém seus elementos não podem ser alterados.\n"
      ]
    },
    {
      "cell_type": "code",
      "metadata": {
        "id": "dpPpBpfrM5dW",
        "outputId": "30475800-7ad8-4896-e6fb-60778a5dadd6",
        "colab": {
          "base_uri": "https://localhost:8080/",
          "height": 51
        }
      },
      "source": [
        "primos = (1,2,3,5,7,11,13,17,23)\n",
        "print(primos)\n",
        "primo_par = 2,\n",
        "print(primo_par)"
      ],
      "execution_count": null,
      "outputs": [
        {
          "output_type": "stream",
          "text": [
            "(1, 2, 3, 5, 7, 11, 13, 17, 23)\n",
            "(2,)\n"
          ],
          "name": "stdout"
        }
      ]
    },
    {
      "cell_type": "markdown",
      "metadata": {
        "id": "otaxoRpcJbPc"
      },
      "source": [
        "\n",
        "\n",
        "```\n",
        "# Isto está formatado como código\n",
        "```\n",
        "\n",
        "## Dicionários => Armazenamento randômico para estrutura de dados."
      ]
    },
    {
      "cell_type": "code",
      "metadata": {
        "id": "29dKdg9TJWeK"
      },
      "source": [
        "comida = {}"
      ],
      "execution_count": null,
      "outputs": []
    },
    {
      "cell_type": "code",
      "metadata": {
        "id": "7D7qP9bkJmB7",
        "outputId": "49fad92e-33d1-40f9-da3d-ad720a1e49cb",
        "colab": {
          "base_uri": "https://localhost:8080/",
          "height": 34
        }
      },
      "source": [
        "comida[\"feijoada\"] = \"Minha comida preferida\"\n",
        "comida[\"coentro\"] = \"Vixi, detesto!\"\n",
        "comida"
      ],
      "execution_count": null,
      "outputs": [
        {
          "output_type": "execute_result",
          "data": {
            "text/plain": [
              "{'coentro': 'Vixi, detesto!', 'feijoada': 'Minha comida preferida'}"
            ]
          },
          "metadata": {
            "tags": []
          },
          "execution_count": 43
        }
      ]
    },
    {
      "cell_type": "code",
      "metadata": {
        "id": "6b9a8pg-JzkK",
        "outputId": "6b3081f0-fbfe-41fe-dad5-16081c1776ad",
        "colab": {
          "base_uri": "https://localhost:8080/",
          "height": 35
        }
      },
      "source": [
        "comida[\"coentro\"]"
      ],
      "execution_count": null,
      "outputs": [
        {
          "output_type": "execute_result",
          "data": {
            "application/vnd.google.colaboratory.intrinsic": {
              "type": "string"
            },
            "text/plain": [
              "'Vixi, detesto!'"
            ]
          },
          "metadata": {
            "tags": []
          },
          "execution_count": 44
        }
      ]
    },
    {
      "cell_type": "code",
      "metadata": {
        "id": "vNb4HPusJ5ec"
      },
      "source": [
        "comida[\"queijo\"] = \"Uai, sou mineiro!\""
      ],
      "execution_count": null,
      "outputs": []
    },
    {
      "cell_type": "code",
      "metadata": {
        "id": "nvXqlwsMKC6P",
        "outputId": "6b913e5a-1624-41e5-d120-6f7ebdb3b1c1",
        "colab": {
          "base_uri": "https://localhost:8080/",
          "height": 34
        }
      },
      "source": [
        "print(comida)"
      ],
      "execution_count": null,
      "outputs": [
        {
          "output_type": "stream",
          "text": [
            "{'feijoada': 'Minha comida preferida', 'coentro': 'Vixi, detesto!', 'queijo': 'Uai, sou mineiro!'}\n"
          ],
          "name": "stdout"
        }
      ]
    },
    {
      "cell_type": "code",
      "metadata": {
        "id": "c2mVQlANKEeL",
        "outputId": "3ede02ba-f9c5-47c4-f237-59b92350ab04",
        "colab": {
          "base_uri": "https://localhost:8080/",
          "height": 51
        }
      },
      "source": [
        "if 'queijo' in comida:\n",
        "  print(\"O que eu acho de queijo é: \")\n",
        "  print(comida[\"queijo\"])"
      ],
      "execution_count": null,
      "outputs": [
        {
          "output_type": "stream",
          "text": [
            "O que eu acho de queijo é: \n",
            "Uai, sou mineiro!\n"
          ],
          "name": "stdout"
        }
      ]
    },
    {
      "cell_type": "code",
      "metadata": {
        "id": "AyTtnuSUKWPF"
      },
      "source": [
        "del comida[\"coentro\"]"
      ],
      "execution_count": null,
      "outputs": []
    },
    {
      "cell_type": "code",
      "metadata": {
        "id": "Nn61tvHCKiBr",
        "outputId": "c27e45e8-25e3-469e-9e1b-c95eecfc311b",
        "colab": {
          "base_uri": "https://localhost:8080/",
          "height": 34
        }
      },
      "source": [
        "print(comida)"
      ],
      "execution_count": null,
      "outputs": [
        {
          "output_type": "stream",
          "text": [
            "{'feijoada': 'Minha comida preferida', 'queijo': 'Uai, sou mineiro!'}\n"
          ],
          "name": "stdout"
        }
      ]
    },
    {
      "cell_type": "code",
      "metadata": {
        "id": "pl1H8JUlPqkP",
        "outputId": "e65a7994-908c-4198-be81-15b0beff9a55",
        "colab": {
          "base_uri": "https://localhost:8080/",
          "height": 51
        }
      },
      "source": [
        "for key in comida:\n",
        "  print(key,' -> ',comida[key])"
      ],
      "execution_count": null,
      "outputs": [
        {
          "output_type": "stream",
          "text": [
            "feijoada  ->  Minha comida preferida\n",
            "queijo  ->  Uai, sou mineiro!\n"
          ],
          "name": "stdout"
        }
      ]
    },
    {
      "cell_type": "code",
      "metadata": {
        "id": "b-SPJ_pZwbfY",
        "outputId": "dc7e0c7a-1822-4cfd-be9d-c876919b376c",
        "colab": {
          "base_uri": "https://localhost:8080/",
          "height": 34
        }
      },
      "source": [
        "pares = (2, 4, 6, 8, 10)\n",
        "impares = (1, 3, 5, 7, 9)\n",
        "numeros = {}\n",
        "numeros['pares'] = pares\n",
        "numeros['impares'] = impares\n",
        "print (numeros)"
      ],
      "execution_count": null,
      "outputs": [
        {
          "output_type": "stream",
          "text": [
            "{'pares': (2, 4, 6, 8, 10), 'impares': (1, 3, 5, 7, 9)}\n"
          ],
          "name": "stdout"
        }
      ]
    },
    {
      "cell_type": "markdown",
      "metadata": {
        "id": "YBJtOqsUKs4K"
      },
      "source": [
        "## Combinando estruturas de dados => Dicionário de tuplas de listas (objetos complexos).\n",
        "\n"
      ]
    },
    {
      "cell_type": "code",
      "metadata": {
        "id": "6SsyDx2UKsCi"
      },
      "source": [
        "eu = {\"família\" : nomes,\n",
        "      \"comidas\" : comida}"
      ],
      "execution_count": null,
      "outputs": []
    },
    {
      "cell_type": "code",
      "metadata": {
        "id": "99GAVZobKjSr",
        "outputId": "96ae60f7-28b2-4b53-9f07-94d159d13355",
        "colab": {
          "base_uri": "https://localhost:8080/",
          "height": 34
        }
      },
      "source": [
        "print(eu)"
      ],
      "execution_count": null,
      "outputs": [
        {
          "output_type": "stream",
          "text": [
            "{'família': ['Bete', 'Pedro', 'João'], 'comidas': {'feijoada': 'Minha comida preferida', 'queijo': 'Uai, sou mineiro!'}}\n"
          ],
          "name": "stdout"
        }
      ]
    },
    {
      "cell_type": "markdown",
      "metadata": {
        "id": "WE4uqQgPMG05"
      },
      "source": [
        "## Outros exemplos em estrutura de dados => Identificando tipos de dados dos objetos complexos.\n",
        "\n",
        "\n"
      ]
    },
    {
      "cell_type": "code",
      "metadata": {
        "id": "9omwZHleLpK8",
        "outputId": "d7a016da-0b7c-4c49-8992-37d2388fc6a9",
        "colab": {
          "base_uri": "https://localhost:8080/",
          "height": 34
        }
      },
      "source": [
        " print(sorted(nomes))"
      ],
      "execution_count": null,
      "outputs": [
        {
          "output_type": "stream",
          "text": [
            "['Bete', 'João', 'Pedro']\n"
          ],
          "name": "stdout"
        }
      ]
    },
    {
      "cell_type": "code",
      "metadata": {
        "id": "evmBdehRMjbo",
        "outputId": "d9be927c-88d8-4d45-ea14-680a8f6bdefc",
        "colab": {
          "base_uri": "https://localhost:8080/",
          "height": 85
        }
      },
      "source": [
        "print(type(nome1))\n",
        "print(type(nomes))\n",
        "print(type(primos))\n",
        "print(type(eu))"
      ],
      "execution_count": null,
      "outputs": [
        {
          "output_type": "stream",
          "text": [
            "<class 'str'>\n",
            "<class 'list'>\n",
            "<class 'tuple'>\n",
            "<class 'dict'>\n"
          ],
          "name": "stdout"
        }
      ]
    },
    {
      "cell_type": "markdown",
      "metadata": {
        "id": "eh-KfktTQDqO"
      },
      "source": [
        "## Pandas => Importação da biblioteca. "
      ]
    },
    {
      "cell_type": "code",
      "metadata": {
        "id": "DFB0P0v1QDDV"
      },
      "source": [
        "import pandas as pd\n",
        "from pandas import Series, DataFrame"
      ],
      "execution_count": null,
      "outputs": []
    },
    {
      "cell_type": "markdown",
      "metadata": {
        "id": "C2Ks0LZVRC83"
      },
      "source": [
        "## Série => Método da biblioteca Pandas para tratamento de séries de dados."
      ]
    },
    {
      "cell_type": "code",
      "metadata": {
        "id": "wr8pH0kkQnd4",
        "outputId": "51bafc2a-6627-4a12-fb31-94ad5cf44b5e",
        "colab": {
          "base_uri": "https://localhost:8080/",
          "height": 153
        }
      },
      "source": [
        "ser_1 = Series([1, 1, 2, -3, -5, 8, 13]) # Cria de uma série cuja estrutura se assemelha aos vetores/lista de dados c/ os índices e seus conteúdos.\n",
        "ser_1                                    # Exibe os índices com seus respectivos conteúdos."
      ],
      "execution_count": null,
      "outputs": [
        {
          "output_type": "execute_result",
          "data": {
            "text/plain": [
              "0     1\n",
              "1     1\n",
              "2     2\n",
              "3    -3\n",
              "4    -5\n",
              "5     8\n",
              "6    13\n",
              "dtype: int64"
            ]
          },
          "metadata": {
            "tags": []
          },
          "execution_count": 57
        }
      ]
    },
    {
      "cell_type": "code",
      "metadata": {
        "id": "z7Ina-Y5RPUL",
        "outputId": "f96e3ae7-eb5a-43ab-e71f-bcabd12790d2",
        "colab": {
          "base_uri": "https://localhost:8080/",
          "height": 51
        }
      },
      "source": [
        "print(ser_1.index)  # Exibe a estrutura dos índices da série.\n",
        "print(ser_1.values) # Exibe os valores da série.\n"
      ],
      "execution_count": null,
      "outputs": [
        {
          "output_type": "stream",
          "text": [
            "RangeIndex(start=0, stop=7, step=1)\n",
            "[ 1  1  2 -3 -5  8 13]\n"
          ],
          "name": "stdout"
        }
      ]
    },
    {
      "cell_type": "code",
      "metadata": {
        "id": "Nqz_uXCqw8Aa",
        "outputId": "64421141-6a66-4c4b-8e89-0b8e5e857618",
        "colab": {
          "base_uri": "https://localhost:8080/",
          "height": 51
        }
      },
      "source": [
        "ser_teste = Series([1, 1, 2, -3, -5], index=['a', 'b', 'c', 'd', 'e']) # Cria uma série definindo os índices.\n",
        "print(ser_teste.index)  # Exibe a estrutura dos índices da série.\n",
        "print(ser_teste.values) # Exibição os valores da série."
      ],
      "execution_count": null,
      "outputs": [
        {
          "output_type": "stream",
          "text": [
            "Index(['a', 'b', 'c', 'd', 'e'], dtype='object')\n",
            "[ 1  1  2 -3 -5]\n"
          ],
          "name": "stdout"
        }
      ]
    },
    {
      "cell_type": "code",
      "metadata": {
        "id": "kkUpFyoYRoPQ",
        "outputId": "4a202427-b073-4770-bd1c-3d71e07ca6c7",
        "colab": {
          "base_uri": "https://localhost:8080/",
          "height": 119
        }
      },
      "source": [
        "ser_2 = Series([1, 1, 2, -3, -5], index=['a', 'b', 'c', 'd', 'e']) # Cria identificadores para os índices da série.\n",
        "ser_2 # Exibição do conteúdo da série."
      ],
      "execution_count": null,
      "outputs": [
        {
          "output_type": "execute_result",
          "data": {
            "text/plain": [
              "a    1\n",
              "b    1\n",
              "c    2\n",
              "d   -3\n",
              "e   -5\n",
              "dtype: int64"
            ]
          },
          "metadata": {
            "tags": []
          },
          "execution_count": 60
        }
      ]
    },
    {
      "cell_type": "code",
      "metadata": {
        "id": "MjQPr7iwR1gB",
        "outputId": "9e9f90e2-869f-4174-b204-b64a6d4c3bab",
        "colab": {
          "base_uri": "https://localhost:8080/",
          "height": 34
        }
      },
      "source": [
        "ser_2['d'] # Exibe o conteúdo (valor) do elemento indicado pelo identificador especificado."
      ],
      "execution_count": null,
      "outputs": [
        {
          "output_type": "execute_result",
          "data": {
            "text/plain": [
              "-3"
            ]
          },
          "metadata": {
            "tags": []
          },
          "execution_count": 61
        }
      ]
    },
    {
      "cell_type": "code",
      "metadata": {
        "id": "30CUgAWER4XX",
        "outputId": "1b85fef9-5f31-46ee-d58d-213f4e789887",
        "colab": {
          "base_uri": "https://localhost:8080/",
          "height": 34
        }
      },
      "source": [
        "ser_2[4] == ser_2['e'] # Compara o valor do elemento especificado pelo identificador atribuído à série com o conteúdo especificado pelo índice da série."
      ],
      "execution_count": null,
      "outputs": [
        {
          "output_type": "execute_result",
          "data": {
            "text/plain": [
              "True"
            ]
          },
          "metadata": {
            "tags": []
          },
          "execution_count": 62
        }
      ]
    },
    {
      "cell_type": "code",
      "metadata": {
        "id": "J18f_OLMSAyB",
        "outputId": "2e148ac2-4d17-42ed-98c4-6ec8d12dfc2a",
        "colab": {
          "base_uri": "https://localhost:8080/",
          "height": 85
        }
      },
      "source": [
        "ser_2[['c', 'a', 'b']] # Exibe um subconjunto da séire cujos identificadores são especificados como uma lista de índices. "
      ],
      "execution_count": null,
      "outputs": [
        {
          "output_type": "execute_result",
          "data": {
            "text/plain": [
              "c    2\n",
              "a    1\n",
              "b    1\n",
              "dtype: int64"
            ]
          },
          "metadata": {
            "tags": []
          },
          "execution_count": 63
        }
      ]
    },
    {
      "cell_type": "code",
      "metadata": {
        "id": "0_XYe0glSDyE",
        "outputId": "66b2fa29-ce0d-4b0e-951e-a52b321a681e",
        "colab": {
          "base_uri": "https://localhost:8080/",
          "height": 85
        }
      },
      "source": [
        "ser_2[ser_2 > 0] # Exibe um subconjunto da série cujos valores satisfazem a condição especificada no índice (filtro). "
      ],
      "execution_count": null,
      "outputs": [
        {
          "output_type": "execute_result",
          "data": {
            "text/plain": [
              "a    1\n",
              "b    1\n",
              "c    2\n",
              "dtype: int64"
            ]
          },
          "metadata": {
            "tags": []
          },
          "execution_count": 64
        }
      ]
    },
    {
      "cell_type": "code",
      "metadata": {
        "id": "QR8K3RXiSG8f",
        "outputId": "72b85cba-7652-4869-99d7-df73f79f69e1",
        "colab": {
          "base_uri": "https://localhost:8080/",
          "height": 119
        }
      },
      "source": [
        "ser_2 * (10 - 4) / 2 + 1 # Efetua a operação aritmética especificada sobre os elementos da série."
      ],
      "execution_count": null,
      "outputs": [
        {
          "output_type": "execute_result",
          "data": {
            "text/plain": [
              "a     4.0\n",
              "b     4.0\n",
              "c     7.0\n",
              "d    -8.0\n",
              "e   -14.0\n",
              "dtype: float64"
            ]
          },
          "metadata": {
            "tags": []
          },
          "execution_count": 65
        }
      ]
    },
    {
      "cell_type": "markdown",
      "metadata": {
        "id": "bPwrvTl62KmD"
      },
      "source": [
        "## NunPy => Importação da biblioteca."
      ]
    },
    {
      "cell_type": "code",
      "metadata": {
        "id": "DsfNFE8KSJzK"
      },
      "source": [
        "import numpy as np # Importa a biblioteca.\n",
        "np.exp(ser_2)      # Aplica o exponecial e**x sobre os elementos da série onde cada elemento da série é o expoente da função."
      ],
      "execution_count": null,
      "outputs": []
    },
    {
      "cell_type": "code",
      "metadata": {
        "id": "OeUMfdiVSMv_",
        "outputId": "b4926e54-eca7-4007-f089-62025a36a780",
        "colab": {
          "base_uri": "https://localhost:8080/",
          "height": 68
        }
      },
      "source": [
        "ser_3 = Series(eu) # Converte uma estrutura complexa (um dicionário de lista e tuplas) em uma série.\n",
        "ser_3              # Exibe o conteúdo e o formato da estrutura."
      ],
      "execution_count": null,
      "outputs": [
        {
          "output_type": "execute_result",
          "data": {
            "text/plain": [
              "família                                  [Bete, Pedro, João]\n",
              "comidas    {'feijoada': 'Minha comida preferida', 'queijo...\n",
              "dtype: object"
            ]
          },
          "metadata": {
            "tags": []
          },
          "execution_count": 67
        }
      ]
    },
    {
      "cell_type": "code",
      "metadata": {
        "id": "5M3KMkCiSluS",
        "outputId": "ca68a2b6-9055-43d5-e1db-195de8298042",
        "colab": {
          "base_uri": "https://localhost:8080/",
          "height": 68
        }
      },
      "source": [
        "pd.isnull(ser_3) # Verifica a existencia de nulos (NaN) na série."
      ],
      "execution_count": null,
      "outputs": [
        {
          "output_type": "execute_result",
          "data": {
            "text/plain": [
              "família    False\n",
              "comidas    False\n",
              "dtype: bool"
            ]
          },
          "metadata": {
            "tags": []
          },
          "execution_count": 70
        }
      ]
    },
    {
      "cell_type": "markdown",
      "metadata": {
        "id": "6uM0l3YNTloj"
      },
      "source": [
        "## Dataframe => Utilização da biblioteca Pandas"
      ]
    },
    {
      "cell_type": "code",
      "metadata": {
        "id": "sqh4OJtJTH1j",
        "outputId": "5b843e47-ddc9-435d-9a7f-199e1d96b6e0",
        "colab": {
          "base_uri": "https://localhost:8080/",
          "height": 153
        }
      },
      "source": [
        "info = {'estado' : ['MG', 'MG', 'MG', 'SP', 'SP'],\n",
        "        'ano' : [2012, 2013, 2014, 2014, 2015],\n",
        "        'pop' : [5.0, 5.1, 5.2, 4.0, 4.1]}       # Cria uma estrutura complexa de dados (objeto = dicionário de tuplas de listas).\n",
        "print(type(info))                                # Exibe o tipo do objeto.\n",
        "df = DataFrame(info)                             # Converte o objeto criado em um dataframde do Pandas.\n",
        "print(type(df))                                  # Exibe o tipo do objeto criado pelo Pandas.\n",
        "print(df)                                        # Exibe o conteúdo do objeto (dataframe)."
      ],
      "execution_count": null,
      "outputs": [
        {
          "output_type": "stream",
          "text": [
            "<class 'dict'>\n",
            "<class 'pandas.core.frame.DataFrame'>\n",
            "  estado   ano  pop\n",
            "0     MG  2012  5.0\n",
            "1     MG  2013  5.1\n",
            "2     MG  2014  5.2\n",
            "3     SP  2014  4.0\n",
            "4     SP  2015  4.1\n"
          ],
          "name": "stdout"
        }
      ]
    },
    {
      "cell_type": "code",
      "metadata": {
        "id": "Z_iFFDT3S403",
        "outputId": "036ad75d-6881-4c7b-f691-546d5a3f51b2",
        "colab": {
          "base_uri": "https://localhost:8080/",
          "height": 204
        }
      },
      "source": [
        "df = DataFrame(info, columns=['ano', 'estado', 'pop', 'desempregados']) # Acrescenta nova coluna ao dataframe.\n",
        "df"
      ],
      "execution_count": null,
      "outputs": [
        {
          "output_type": "execute_result",
          "data": {
            "text/html": [
              "<div>\n",
              "<style scoped>\n",
              "    .dataframe tbody tr th:only-of-type {\n",
              "        vertical-align: middle;\n",
              "    }\n",
              "\n",
              "    .dataframe tbody tr th {\n",
              "        vertical-align: top;\n",
              "    }\n",
              "\n",
              "    .dataframe thead th {\n",
              "        text-align: right;\n",
              "    }\n",
              "</style>\n",
              "<table border=\"1\" class=\"dataframe\">\n",
              "  <thead>\n",
              "    <tr style=\"text-align: right;\">\n",
              "      <th></th>\n",
              "      <th>ano</th>\n",
              "      <th>estado</th>\n",
              "      <th>pop</th>\n",
              "      <th>desempregados</th>\n",
              "    </tr>\n",
              "  </thead>\n",
              "  <tbody>\n",
              "    <tr>\n",
              "      <th>0</th>\n",
              "      <td>2012</td>\n",
              "      <td>MG</td>\n",
              "      <td>5.0</td>\n",
              "      <td>NaN</td>\n",
              "    </tr>\n",
              "    <tr>\n",
              "      <th>1</th>\n",
              "      <td>2013</td>\n",
              "      <td>MG</td>\n",
              "      <td>5.1</td>\n",
              "      <td>NaN</td>\n",
              "    </tr>\n",
              "    <tr>\n",
              "      <th>2</th>\n",
              "      <td>2014</td>\n",
              "      <td>MG</td>\n",
              "      <td>5.2</td>\n",
              "      <td>NaN</td>\n",
              "    </tr>\n",
              "    <tr>\n",
              "      <th>3</th>\n",
              "      <td>2014</td>\n",
              "      <td>SP</td>\n",
              "      <td>4.0</td>\n",
              "      <td>NaN</td>\n",
              "    </tr>\n",
              "    <tr>\n",
              "      <th>4</th>\n",
              "      <td>2015</td>\n",
              "      <td>SP</td>\n",
              "      <td>4.1</td>\n",
              "      <td>NaN</td>\n",
              "    </tr>\n",
              "  </tbody>\n",
              "</table>\n",
              "</div>"
            ],
            "text/plain": [
              "    ano estado  pop desempregados\n",
              "0  2012     MG  5.0           NaN\n",
              "1  2013     MG  5.1           NaN\n",
              "2  2014     MG  5.2           NaN\n",
              "3  2014     SP  4.0           NaN\n",
              "4  2015     SP  4.1           NaN"
            ]
          },
          "metadata": {
            "tags": []
          },
          "execution_count": 73
        }
      ]
    },
    {
      "cell_type": "code",
      "metadata": {
        "id": "j6BnS3f-Vr5h",
        "outputId": "24235c96-2059-4426-e5b6-d87231f6d258",
        "colab": {
          "base_uri": "https://localhost:8080/",
          "height": 221
        }
      },
      "source": [
        "print(df['ano'])          # Exibe uma coluna específica do dataframe tratando a mesma como um vetores. \n",
        "print(df.desempregados)   # Exibe uma coluna específica do dataframe tratando a mesma como um objeto."
      ],
      "execution_count": null,
      "outputs": [
        {
          "output_type": "stream",
          "text": [
            "0    2012\n",
            "1    2013\n",
            "2    2014\n",
            "3    2014\n",
            "4    2015\n",
            "Name: ano, dtype: int64\n",
            "0    NaN\n",
            "1    NaN\n",
            "2    NaN\n",
            "3    NaN\n",
            "4    NaN\n",
            "Name: desempregados, dtype: object\n"
          ],
          "name": "stdout"
        }
      ]
    },
    {
      "cell_type": "code",
      "metadata": {
        "id": "o2aev0S9V81L",
        "outputId": "eef50283-ccd0-498b-af85-8f5d91233a97",
        "colab": {
          "base_uri": "https://localhost:8080/",
          "height": 102
        }
      },
      "source": [
        "df.iloc[4] # Exibe o conteúdo da linha do dataframe indicada pelo índice especificado no método \"iloc\".  "
      ],
      "execution_count": null,
      "outputs": [
        {
          "output_type": "execute_result",
          "data": {
            "text/plain": [
              "ano              2015\n",
              "estado             SP\n",
              "pop               4.1\n",
              "desempregados     NaN\n",
              "Name: 4, dtype: object"
            ]
          },
          "metadata": {
            "tags": []
          },
          "execution_count": 75
        }
      ]
    },
    {
      "cell_type": "code",
      "metadata": {
        "id": "kNULdXkwWSY6",
        "outputId": "0d2a613d-cab7-43ad-f0fe-f1331aa6add9",
        "colab": {
          "base_uri": "https://localhost:8080/",
          "height": 34
        }
      },
      "source": [
        "type(df.iloc[4])  # Exibe o tipo da linha indicada na função \"iloc\" (obs: como os tipos das colunas em um dataframe variam, as linhas tornam-se séries)."
      ],
      "execution_count": null,
      "outputs": [
        {
          "output_type": "execute_result",
          "data": {
            "text/plain": [
              "pandas.core.series.Series"
            ]
          },
          "metadata": {
            "tags": []
          },
          "execution_count": 76
        }
      ]
    },
    {
      "cell_type": "code",
      "metadata": {
        "id": "NiGA84CsWdpe",
        "outputId": "0d54cb25-43e5-4961-a7c3-92ed8e90d046",
        "colab": {
          "base_uri": "https://localhost:8080/",
          "height": 204
        }
      },
      "source": [
        "df.desempregados = np.random.rand(5) * 1000000 # Atribui valor à coluna \"desempregados\" usando uma função randômica para gerar 5 números aleatórios e multiplica-los por um valor escalar (1 milhão). \n",
        "df"
      ],
      "execution_count": null,
      "outputs": [
        {
          "output_type": "execute_result",
          "data": {
            "text/html": [
              "<div>\n",
              "<style scoped>\n",
              "    .dataframe tbody tr th:only-of-type {\n",
              "        vertical-align: middle;\n",
              "    }\n",
              "\n",
              "    .dataframe tbody tr th {\n",
              "        vertical-align: top;\n",
              "    }\n",
              "\n",
              "    .dataframe thead th {\n",
              "        text-align: right;\n",
              "    }\n",
              "</style>\n",
              "<table border=\"1\" class=\"dataframe\">\n",
              "  <thead>\n",
              "    <tr style=\"text-align: right;\">\n",
              "      <th></th>\n",
              "      <th>ano</th>\n",
              "      <th>estado</th>\n",
              "      <th>pop</th>\n",
              "      <th>desempregados</th>\n",
              "    </tr>\n",
              "  </thead>\n",
              "  <tbody>\n",
              "    <tr>\n",
              "      <th>0</th>\n",
              "      <td>2012</td>\n",
              "      <td>MG</td>\n",
              "      <td>5.0</td>\n",
              "      <td>576205.168437</td>\n",
              "    </tr>\n",
              "    <tr>\n",
              "      <th>1</th>\n",
              "      <td>2013</td>\n",
              "      <td>MG</td>\n",
              "      <td>5.1</td>\n",
              "      <td>44926.157074</td>\n",
              "    </tr>\n",
              "    <tr>\n",
              "      <th>2</th>\n",
              "      <td>2014</td>\n",
              "      <td>MG</td>\n",
              "      <td>5.2</td>\n",
              "      <td>49944.918668</td>\n",
              "    </tr>\n",
              "    <tr>\n",
              "      <th>3</th>\n",
              "      <td>2014</td>\n",
              "      <td>SP</td>\n",
              "      <td>4.0</td>\n",
              "      <td>29445.571457</td>\n",
              "    </tr>\n",
              "    <tr>\n",
              "      <th>4</th>\n",
              "      <td>2015</td>\n",
              "      <td>SP</td>\n",
              "      <td>4.1</td>\n",
              "      <td>515313.246276</td>\n",
              "    </tr>\n",
              "  </tbody>\n",
              "</table>\n",
              "</div>"
            ],
            "text/plain": [
              "    ano estado  pop  desempregados\n",
              "0  2012     MG  5.0  576205.168437\n",
              "1  2013     MG  5.1   44926.157074\n",
              "2  2014     MG  5.2   49944.918668\n",
              "3  2014     SP  4.0   29445.571457\n",
              "4  2015     SP  4.1  515313.246276"
            ]
          },
          "metadata": {
            "tags": []
          },
          "execution_count": 77
        }
      ]
    },
    {
      "cell_type": "code",
      "metadata": {
        "id": "TD6FiiVrW7Ou",
        "outputId": "8ee3b187-de4b-44b7-f5c5-58273ea16a48",
        "colab": {
          "base_uri": "https://localhost:8080/",
          "height": 204
        }
      },
      "source": [
        "df.desempregados = df.desempregados.astype(int) # Converte o tipo da coluna \"desempregados\" (de real para inteiro).\n",
        "df"
      ],
      "execution_count": null,
      "outputs": [
        {
          "output_type": "execute_result",
          "data": {
            "text/html": [
              "<div>\n",
              "<style scoped>\n",
              "    .dataframe tbody tr th:only-of-type {\n",
              "        vertical-align: middle;\n",
              "    }\n",
              "\n",
              "    .dataframe tbody tr th {\n",
              "        vertical-align: top;\n",
              "    }\n",
              "\n",
              "    .dataframe thead th {\n",
              "        text-align: right;\n",
              "    }\n",
              "</style>\n",
              "<table border=\"1\" class=\"dataframe\">\n",
              "  <thead>\n",
              "    <tr style=\"text-align: right;\">\n",
              "      <th></th>\n",
              "      <th>ano</th>\n",
              "      <th>estado</th>\n",
              "      <th>pop</th>\n",
              "      <th>desempregados</th>\n",
              "    </tr>\n",
              "  </thead>\n",
              "  <tbody>\n",
              "    <tr>\n",
              "      <th>0</th>\n",
              "      <td>2012</td>\n",
              "      <td>MG</td>\n",
              "      <td>5.0</td>\n",
              "      <td>576205</td>\n",
              "    </tr>\n",
              "    <tr>\n",
              "      <th>1</th>\n",
              "      <td>2013</td>\n",
              "      <td>MG</td>\n",
              "      <td>5.1</td>\n",
              "      <td>44926</td>\n",
              "    </tr>\n",
              "    <tr>\n",
              "      <th>2</th>\n",
              "      <td>2014</td>\n",
              "      <td>MG</td>\n",
              "      <td>5.2</td>\n",
              "      <td>49944</td>\n",
              "    </tr>\n",
              "    <tr>\n",
              "      <th>3</th>\n",
              "      <td>2014</td>\n",
              "      <td>SP</td>\n",
              "      <td>4.0</td>\n",
              "      <td>29445</td>\n",
              "    </tr>\n",
              "    <tr>\n",
              "      <th>4</th>\n",
              "      <td>2015</td>\n",
              "      <td>SP</td>\n",
              "      <td>4.1</td>\n",
              "      <td>515313</td>\n",
              "    </tr>\n",
              "  </tbody>\n",
              "</table>\n",
              "</div>"
            ],
            "text/plain": [
              "    ano estado  pop  desempregados\n",
              "0  2012     MG  5.0         576205\n",
              "1  2013     MG  5.1          44926\n",
              "2  2014     MG  5.2          49944\n",
              "3  2014     SP  4.0          29445\n",
              "4  2015     SP  4.1         515313"
            ]
          },
          "metadata": {
            "tags": []
          },
          "execution_count": 78
        }
      ]
    },
    {
      "cell_type": "code",
      "metadata": {
        "id": "fbn7OfLLXj7Y",
        "outputId": "ec0204fb-e097-4ce6-b222-cc925e3c16eb",
        "colab": {
          "base_uri": "https://localhost:8080/",
          "height": 204
        }
      },
      "source": [
        "desempregados = Series([454333, 232111, 242422], index=[2, 3, 4]) # Cria uma série (objeto) definindo valores e índices. \n",
        "df.desempregados = desempregados                                  # Atribui o conteúdo da série criada sobre parte da coluna do dataframe (correspondente aos índices).\n",
        "df"
      ],
      "execution_count": null,
      "outputs": [
        {
          "output_type": "execute_result",
          "data": {
            "text/html": [
              "<div>\n",
              "<style scoped>\n",
              "    .dataframe tbody tr th:only-of-type {\n",
              "        vertical-align: middle;\n",
              "    }\n",
              "\n",
              "    .dataframe tbody tr th {\n",
              "        vertical-align: top;\n",
              "    }\n",
              "\n",
              "    .dataframe thead th {\n",
              "        text-align: right;\n",
              "    }\n",
              "</style>\n",
              "<table border=\"1\" class=\"dataframe\">\n",
              "  <thead>\n",
              "    <tr style=\"text-align: right;\">\n",
              "      <th></th>\n",
              "      <th>ano</th>\n",
              "      <th>estado</th>\n",
              "      <th>pop</th>\n",
              "      <th>desempregados</th>\n",
              "    </tr>\n",
              "  </thead>\n",
              "  <tbody>\n",
              "    <tr>\n",
              "      <th>0</th>\n",
              "      <td>2012</td>\n",
              "      <td>MG</td>\n",
              "      <td>5.0</td>\n",
              "      <td>NaN</td>\n",
              "    </tr>\n",
              "    <tr>\n",
              "      <th>1</th>\n",
              "      <td>2013</td>\n",
              "      <td>MG</td>\n",
              "      <td>5.1</td>\n",
              "      <td>NaN</td>\n",
              "    </tr>\n",
              "    <tr>\n",
              "      <th>2</th>\n",
              "      <td>2014</td>\n",
              "      <td>MG</td>\n",
              "      <td>5.2</td>\n",
              "      <td>454333.0</td>\n",
              "    </tr>\n",
              "    <tr>\n",
              "      <th>3</th>\n",
              "      <td>2014</td>\n",
              "      <td>SP</td>\n",
              "      <td>4.0</td>\n",
              "      <td>232111.0</td>\n",
              "    </tr>\n",
              "    <tr>\n",
              "      <th>4</th>\n",
              "      <td>2015</td>\n",
              "      <td>SP</td>\n",
              "      <td>4.1</td>\n",
              "      <td>242422.0</td>\n",
              "    </tr>\n",
              "  </tbody>\n",
              "</table>\n",
              "</div>"
            ],
            "text/plain": [
              "    ano estado  pop  desempregados\n",
              "0  2012     MG  5.0            NaN\n",
              "1  2013     MG  5.1            NaN\n",
              "2  2014     MG  5.2       454333.0\n",
              "3  2014     SP  4.0       232111.0\n",
              "4  2015     SP  4.1       242422.0"
            ]
          },
          "metadata": {
            "tags": []
          },
          "execution_count": 79
        }
      ]
    },
    {
      "cell_type": "code",
      "metadata": {
        "id": "D5AvJtkqYfEW",
        "outputId": "8319090e-a57b-4452-f642-fcc81440fb38",
        "colab": {
          "base_uri": "https://localhost:8080/",
          "height": 204
        }
      },
      "source": [
        "df['nonsense'] = df.ano * df.desempregados # Cria uma nova coluna (ridúcula) no dataframe (obs: só pra apagar depois... KKKK!)\n",
        "df"
      ],
      "execution_count": null,
      "outputs": [
        {
          "output_type": "execute_result",
          "data": {
            "text/html": [
              "<div>\n",
              "<style scoped>\n",
              "    .dataframe tbody tr th:only-of-type {\n",
              "        vertical-align: middle;\n",
              "    }\n",
              "\n",
              "    .dataframe tbody tr th {\n",
              "        vertical-align: top;\n",
              "    }\n",
              "\n",
              "    .dataframe thead th {\n",
              "        text-align: right;\n",
              "    }\n",
              "</style>\n",
              "<table border=\"1\" class=\"dataframe\">\n",
              "  <thead>\n",
              "    <tr style=\"text-align: right;\">\n",
              "      <th></th>\n",
              "      <th>ano</th>\n",
              "      <th>estado</th>\n",
              "      <th>pop</th>\n",
              "      <th>desempregados</th>\n",
              "      <th>nonsense</th>\n",
              "    </tr>\n",
              "  </thead>\n",
              "  <tbody>\n",
              "    <tr>\n",
              "      <th>0</th>\n",
              "      <td>2012</td>\n",
              "      <td>MG</td>\n",
              "      <td>5.0</td>\n",
              "      <td>NaN</td>\n",
              "      <td>NaN</td>\n",
              "    </tr>\n",
              "    <tr>\n",
              "      <th>1</th>\n",
              "      <td>2013</td>\n",
              "      <td>MG</td>\n",
              "      <td>5.1</td>\n",
              "      <td>NaN</td>\n",
              "      <td>NaN</td>\n",
              "    </tr>\n",
              "    <tr>\n",
              "      <th>2</th>\n",
              "      <td>2014</td>\n",
              "      <td>MG</td>\n",
              "      <td>5.2</td>\n",
              "      <td>454333.0</td>\n",
              "      <td>915026662.0</td>\n",
              "    </tr>\n",
              "    <tr>\n",
              "      <th>3</th>\n",
              "      <td>2014</td>\n",
              "      <td>SP</td>\n",
              "      <td>4.0</td>\n",
              "      <td>232111.0</td>\n",
              "      <td>467471554.0</td>\n",
              "    </tr>\n",
              "    <tr>\n",
              "      <th>4</th>\n",
              "      <td>2015</td>\n",
              "      <td>SP</td>\n",
              "      <td>4.1</td>\n",
              "      <td>242422.0</td>\n",
              "      <td>488480330.0</td>\n",
              "    </tr>\n",
              "  </tbody>\n",
              "</table>\n",
              "</div>"
            ],
            "text/plain": [
              "    ano estado  pop  desempregados     nonsense\n",
              "0  2012     MG  5.0            NaN          NaN\n",
              "1  2013     MG  5.1            NaN          NaN\n",
              "2  2014     MG  5.2       454333.0  915026662.0\n",
              "3  2014     SP  4.0       232111.0  467471554.0\n",
              "4  2015     SP  4.1       242422.0  488480330.0"
            ]
          },
          "metadata": {
            "tags": []
          },
          "execution_count": 80
        }
      ]
    },
    {
      "cell_type": "code",
      "metadata": {
        "id": "l30qF_ZoYpHw",
        "outputId": "8847744c-f34f-4a21-b0d4-388d57e9fffb",
        "colab": {
          "base_uri": "https://localhost:8080/",
          "height": 204
        }
      },
      "source": [
        "del df['nonsense']  # Remove a coluna criada (KKKK!) \n",
        "df"
      ],
      "execution_count": null,
      "outputs": [
        {
          "output_type": "execute_result",
          "data": {
            "text/html": [
              "<div>\n",
              "<style scoped>\n",
              "    .dataframe tbody tr th:only-of-type {\n",
              "        vertical-align: middle;\n",
              "    }\n",
              "\n",
              "    .dataframe tbody tr th {\n",
              "        vertical-align: top;\n",
              "    }\n",
              "\n",
              "    .dataframe thead th {\n",
              "        text-align: right;\n",
              "    }\n",
              "</style>\n",
              "<table border=\"1\" class=\"dataframe\">\n",
              "  <thead>\n",
              "    <tr style=\"text-align: right;\">\n",
              "      <th></th>\n",
              "      <th>ano</th>\n",
              "      <th>estado</th>\n",
              "      <th>pop</th>\n",
              "      <th>desempregados</th>\n",
              "    </tr>\n",
              "  </thead>\n",
              "  <tbody>\n",
              "    <tr>\n",
              "      <th>0</th>\n",
              "      <td>2012</td>\n",
              "      <td>MG</td>\n",
              "      <td>5.0</td>\n",
              "      <td>NaN</td>\n",
              "    </tr>\n",
              "    <tr>\n",
              "      <th>1</th>\n",
              "      <td>2013</td>\n",
              "      <td>MG</td>\n",
              "      <td>5.1</td>\n",
              "      <td>NaN</td>\n",
              "    </tr>\n",
              "    <tr>\n",
              "      <th>2</th>\n",
              "      <td>2014</td>\n",
              "      <td>MG</td>\n",
              "      <td>5.2</td>\n",
              "      <td>454333.0</td>\n",
              "    </tr>\n",
              "    <tr>\n",
              "      <th>3</th>\n",
              "      <td>2014</td>\n",
              "      <td>SP</td>\n",
              "      <td>4.0</td>\n",
              "      <td>232111.0</td>\n",
              "    </tr>\n",
              "    <tr>\n",
              "      <th>4</th>\n",
              "      <td>2015</td>\n",
              "      <td>SP</td>\n",
              "      <td>4.1</td>\n",
              "      <td>242422.0</td>\n",
              "    </tr>\n",
              "  </tbody>\n",
              "</table>\n",
              "</div>"
            ],
            "text/plain": [
              "    ano estado  pop  desempregados\n",
              "0  2012     MG  5.0            NaN\n",
              "1  2013     MG  5.1            NaN\n",
              "2  2014     MG  5.2       454333.0\n",
              "3  2014     SP  4.0       232111.0\n",
              "4  2015     SP  4.1       242422.0"
            ]
          },
          "metadata": {
            "tags": []
          },
          "execution_count": 81
        }
      ]
    },
    {
      "cell_type": "code",
      "metadata": {
        "id": "2F74_JPeY2Be",
        "outputId": "b9ebe821-2953-46a4-cd1c-da031aedb21e",
        "colab": {
          "base_uri": "https://localhost:8080/",
          "height": 204
        }
      },
      "source": [
        "df2 = df[['ano','pop']]   # Cria um novo dataframe composto por um subconjunto de colunas do dataframe original (obs: o índice do dataframe é uma lista de colunas).\n",
        "df2"
      ],
      "execution_count": null,
      "outputs": [
        {
          "output_type": "execute_result",
          "data": {
            "text/html": [
              "<div>\n",
              "<style scoped>\n",
              "    .dataframe tbody tr th:only-of-type {\n",
              "        vertical-align: middle;\n",
              "    }\n",
              "\n",
              "    .dataframe tbody tr th {\n",
              "        vertical-align: top;\n",
              "    }\n",
              "\n",
              "    .dataframe thead th {\n",
              "        text-align: right;\n",
              "    }\n",
              "</style>\n",
              "<table border=\"1\" class=\"dataframe\">\n",
              "  <thead>\n",
              "    <tr style=\"text-align: right;\">\n",
              "      <th></th>\n",
              "      <th>ano</th>\n",
              "      <th>pop</th>\n",
              "    </tr>\n",
              "  </thead>\n",
              "  <tbody>\n",
              "    <tr>\n",
              "      <th>0</th>\n",
              "      <td>2012</td>\n",
              "      <td>5.0</td>\n",
              "    </tr>\n",
              "    <tr>\n",
              "      <th>1</th>\n",
              "      <td>2013</td>\n",
              "      <td>5.1</td>\n",
              "    </tr>\n",
              "    <tr>\n",
              "      <th>2</th>\n",
              "      <td>2014</td>\n",
              "      <td>5.2</td>\n",
              "    </tr>\n",
              "    <tr>\n",
              "      <th>3</th>\n",
              "      <td>2014</td>\n",
              "      <td>4.0</td>\n",
              "    </tr>\n",
              "    <tr>\n",
              "      <th>4</th>\n",
              "      <td>2015</td>\n",
              "      <td>4.1</td>\n",
              "    </tr>\n",
              "  </tbody>\n",
              "</table>\n",
              "</div>"
            ],
            "text/plain": [
              "    ano  pop\n",
              "0  2012  5.0\n",
              "1  2013  5.1\n",
              "2  2014  5.2\n",
              "3  2014  4.0\n",
              "4  2015  4.1"
            ]
          },
          "metadata": {
            "tags": []
          },
          "execution_count": 83
        }
      ]
    },
    {
      "cell_type": "code",
      "metadata": {
        "id": "GIJWVRUiZC8U",
        "outputId": "077f7157-7a5e-4fb2-db10-7dc1d159c420",
        "colab": {
          "base_uri": "https://localhost:8080/",
          "height": 111
        }
      },
      "source": [
        "df2.T # Exibe a transposição do dataframe (função \"T\" = tranposição da matrizes)."
      ],
      "execution_count": null,
      "outputs": [
        {
          "output_type": "execute_result",
          "data": {
            "text/html": [
              "<div>\n",
              "<style scoped>\n",
              "    .dataframe tbody tr th:only-of-type {\n",
              "        vertical-align: middle;\n",
              "    }\n",
              "\n",
              "    .dataframe tbody tr th {\n",
              "        vertical-align: top;\n",
              "    }\n",
              "\n",
              "    .dataframe thead th {\n",
              "        text-align: right;\n",
              "    }\n",
              "</style>\n",
              "<table border=\"1\" class=\"dataframe\">\n",
              "  <thead>\n",
              "    <tr style=\"text-align: right;\">\n",
              "      <th></th>\n",
              "      <th>0</th>\n",
              "      <th>1</th>\n",
              "      <th>2</th>\n",
              "      <th>3</th>\n",
              "      <th>4</th>\n",
              "    </tr>\n",
              "  </thead>\n",
              "  <tbody>\n",
              "    <tr>\n",
              "      <th>ano</th>\n",
              "      <td>2012.0</td>\n",
              "      <td>2013.0</td>\n",
              "      <td>2014.0</td>\n",
              "      <td>2014.0</td>\n",
              "      <td>2015.0</td>\n",
              "    </tr>\n",
              "    <tr>\n",
              "      <th>pop</th>\n",
              "      <td>5.0</td>\n",
              "      <td>5.1</td>\n",
              "      <td>5.2</td>\n",
              "      <td>4.0</td>\n",
              "      <td>4.1</td>\n",
              "    </tr>\n",
              "  </tbody>\n",
              "</table>\n",
              "</div>"
            ],
            "text/plain": [
              "          0       1       2       3       4\n",
              "ano  2012.0  2013.0  2014.0  2014.0  2015.0\n",
              "pop     5.0     5.1     5.2     4.0     4.1"
            ]
          },
          "metadata": {
            "tags": []
          },
          "execution_count": 84
        }
      ]
    },
    {
      "cell_type": "code",
      "metadata": {
        "id": "ddVqemygZVAU",
        "outputId": "6fee1e82-065a-4a23-cdff-68fb490cc11f",
        "colab": {
          "base_uri": "https://localhost:8080/",
          "height": 102
        }
      },
      "source": [
        "df.values  # Exibe o dataframe como um array de listas."
      ],
      "execution_count": null,
      "outputs": [
        {
          "output_type": "execute_result",
          "data": {
            "text/plain": [
              "array([[2012, 'MG', 5.0, nan],\n",
              "       [2013, 'MG', 5.1, nan],\n",
              "       [2014, 'MG', 5.2, 454333.0],\n",
              "       [2014, 'SP', 4.0, 232111.0],\n",
              "       [2015, 'SP', 4.1, 242422.0]], dtype=object)"
            ]
          },
          "metadata": {
            "tags": []
          },
          "execution_count": 86
        }
      ]
    },
    {
      "cell_type": "code",
      "metadata": {
        "id": "aE2nhfH6ZdQA",
        "outputId": "9350027f-a358-4181-c0e9-11671a00fb2f",
        "colab": {
          "base_uri": "https://localhost:8080/",
          "height": 34
        }
      },
      "source": [
        "type(df.values) # Confirma o tipo do retorno (exibição) da função \"values\"."
      ],
      "execution_count": null,
      "outputs": [
        {
          "output_type": "execute_result",
          "data": {
            "text/plain": [
              "numpy.ndarray"
            ]
          },
          "metadata": {
            "tags": []
          },
          "execution_count": 87
        }
      ]
    },
    {
      "cell_type": "code",
      "metadata": {
        "id": "LQ0pm6h0ZxEI",
        "outputId": "88bac7cb-d418-4405-cbab-017b984a61eb",
        "colab": {
          "base_uri": "https://localhost:8080/",
          "height": 142
        }
      },
      "source": [
        "df2 = df.copy() # Copia o conteúdo do dataframe original criando um novo dataframe (obs: sem a função \"copy\" o novo objeto faz apenas uma referencia ao objeto original).\n",
        "df.drop([0, 1]) # Elimina as linhas indicadas pela lista de índices (dataframe original)."
      ],
      "execution_count": null,
      "outputs": [
        {
          "output_type": "execute_result",
          "data": {
            "text/html": [
              "<div>\n",
              "<style scoped>\n",
              "    .dataframe tbody tr th:only-of-type {\n",
              "        vertical-align: middle;\n",
              "    }\n",
              "\n",
              "    .dataframe tbody tr th {\n",
              "        vertical-align: top;\n",
              "    }\n",
              "\n",
              "    .dataframe thead th {\n",
              "        text-align: right;\n",
              "    }\n",
              "</style>\n",
              "<table border=\"1\" class=\"dataframe\">\n",
              "  <thead>\n",
              "    <tr style=\"text-align: right;\">\n",
              "      <th></th>\n",
              "      <th>ano</th>\n",
              "      <th>estado</th>\n",
              "      <th>pop</th>\n",
              "      <th>desempregados</th>\n",
              "    </tr>\n",
              "  </thead>\n",
              "  <tbody>\n",
              "    <tr>\n",
              "      <th>2</th>\n",
              "      <td>2014</td>\n",
              "      <td>MG</td>\n",
              "      <td>5.2</td>\n",
              "      <td>454333.0</td>\n",
              "    </tr>\n",
              "    <tr>\n",
              "      <th>3</th>\n",
              "      <td>2014</td>\n",
              "      <td>SP</td>\n",
              "      <td>4.0</td>\n",
              "      <td>232111.0</td>\n",
              "    </tr>\n",
              "    <tr>\n",
              "      <th>4</th>\n",
              "      <td>2015</td>\n",
              "      <td>SP</td>\n",
              "      <td>4.1</td>\n",
              "      <td>242422.0</td>\n",
              "    </tr>\n",
              "  </tbody>\n",
              "</table>\n",
              "</div>"
            ],
            "text/plain": [
              "    ano estado  pop  desempregados\n",
              "2  2014     MG  5.2       454333.0\n",
              "3  2014     SP  4.0       232111.0\n",
              "4  2015     SP  4.1       242422.0"
            ]
          },
          "metadata": {
            "tags": []
          },
          "execution_count": 90
        }
      ]
    },
    {
      "cell_type": "code",
      "metadata": {
        "id": "H8t1OsD3Z_dN",
        "outputId": "ee5fa571-066a-41dc-ef4e-2d74e1f0407a",
        "colab": {
          "base_uri": "https://localhost:8080/",
          "height": 204
        }
      },
      "source": [
        "df2"
      ],
      "execution_count": null,
      "outputs": [
        {
          "output_type": "execute_result",
          "data": {
            "text/html": [
              "<div>\n",
              "<style scoped>\n",
              "    .dataframe tbody tr th:only-of-type {\n",
              "        vertical-align: middle;\n",
              "    }\n",
              "\n",
              "    .dataframe tbody tr th {\n",
              "        vertical-align: top;\n",
              "    }\n",
              "\n",
              "    .dataframe thead th {\n",
              "        text-align: right;\n",
              "    }\n",
              "</style>\n",
              "<table border=\"1\" class=\"dataframe\">\n",
              "  <thead>\n",
              "    <tr style=\"text-align: right;\">\n",
              "      <th></th>\n",
              "      <th>ano</th>\n",
              "      <th>estado</th>\n",
              "      <th>pop</th>\n",
              "      <th>desempregados</th>\n",
              "    </tr>\n",
              "  </thead>\n",
              "  <tbody>\n",
              "    <tr>\n",
              "      <th>0</th>\n",
              "      <td>2012</td>\n",
              "      <td>MG</td>\n",
              "      <td>5.0</td>\n",
              "      <td>NaN</td>\n",
              "    </tr>\n",
              "    <tr>\n",
              "      <th>1</th>\n",
              "      <td>2013</td>\n",
              "      <td>MG</td>\n",
              "      <td>5.1</td>\n",
              "      <td>NaN</td>\n",
              "    </tr>\n",
              "    <tr>\n",
              "      <th>2</th>\n",
              "      <td>2014</td>\n",
              "      <td>MG</td>\n",
              "      <td>5.2</td>\n",
              "      <td>454333.0</td>\n",
              "    </tr>\n",
              "    <tr>\n",
              "      <th>3</th>\n",
              "      <td>2014</td>\n",
              "      <td>SP</td>\n",
              "      <td>4.0</td>\n",
              "      <td>232111.0</td>\n",
              "    </tr>\n",
              "    <tr>\n",
              "      <th>4</th>\n",
              "      <td>2015</td>\n",
              "      <td>SP</td>\n",
              "      <td>4.1</td>\n",
              "      <td>242422.0</td>\n",
              "    </tr>\n",
              "  </tbody>\n",
              "</table>\n",
              "</div>"
            ],
            "text/plain": [
              "    ano estado  pop  desempregados\n",
              "0  2012     MG  5.0            NaN\n",
              "1  2013     MG  5.1            NaN\n",
              "2  2014     MG  5.2       454333.0\n",
              "3  2014     SP  4.0       232111.0\n",
              "4  2015     SP  4.1       242422.0"
            ]
          },
          "metadata": {
            "tags": []
          },
          "execution_count": 91
        }
      ]
    },
    {
      "cell_type": "code",
      "metadata": {
        "id": "IFUApmbYawTu",
        "outputId": "685628a7-7576-434f-f07b-ef9fe5a61f00",
        "colab": {
          "base_uri": "https://localhost:8080/",
          "height": 119
        }
      },
      "source": [
        "df2.ano > 2013  # Aplica um filtro sobre uma coluna do dataframe exibindo/retornando o valor booleano resultante da expressão lógica. "
      ],
      "execution_count": null,
      "outputs": [
        {
          "output_type": "execute_result",
          "data": {
            "text/plain": [
              "0    False\n",
              "1    False\n",
              "2     True\n",
              "3     True\n",
              "4     True\n",
              "Name: ano, dtype: bool"
            ]
          },
          "metadata": {
            "tags": []
          },
          "execution_count": 92
        }
      ]
    },
    {
      "cell_type": "code",
      "metadata": {
        "id": "mKkhps67aAqH",
        "outputId": "5a928d56-a983-4e36-af4a-39f906b4b9e1",
        "colab": {
          "base_uri": "https://localhost:8080/",
          "height": 142
        }
      },
      "source": [
        "df2[df2.ano > 2013]  # Aplica um filtro sobre as linhas do dataframe exibindo/retornando aquelas que satisfazem a condição da expressão lógica."
      ],
      "execution_count": null,
      "outputs": [
        {
          "output_type": "execute_result",
          "data": {
            "text/html": [
              "<div>\n",
              "<style scoped>\n",
              "    .dataframe tbody tr th:only-of-type {\n",
              "        vertical-align: middle;\n",
              "    }\n",
              "\n",
              "    .dataframe tbody tr th {\n",
              "        vertical-align: top;\n",
              "    }\n",
              "\n",
              "    .dataframe thead th {\n",
              "        text-align: right;\n",
              "    }\n",
              "</style>\n",
              "<table border=\"1\" class=\"dataframe\">\n",
              "  <thead>\n",
              "    <tr style=\"text-align: right;\">\n",
              "      <th></th>\n",
              "      <th>ano</th>\n",
              "      <th>estado</th>\n",
              "      <th>pop</th>\n",
              "      <th>desempregados</th>\n",
              "    </tr>\n",
              "  </thead>\n",
              "  <tbody>\n",
              "    <tr>\n",
              "      <th>2</th>\n",
              "      <td>2014</td>\n",
              "      <td>MG</td>\n",
              "      <td>5.2</td>\n",
              "      <td>454333.0</td>\n",
              "    </tr>\n",
              "    <tr>\n",
              "      <th>3</th>\n",
              "      <td>2014</td>\n",
              "      <td>SP</td>\n",
              "      <td>4.0</td>\n",
              "      <td>232111.0</td>\n",
              "    </tr>\n",
              "    <tr>\n",
              "      <th>4</th>\n",
              "      <td>2015</td>\n",
              "      <td>SP</td>\n",
              "      <td>4.1</td>\n",
              "      <td>242422.0</td>\n",
              "    </tr>\n",
              "  </tbody>\n",
              "</table>\n",
              "</div>"
            ],
            "text/plain": [
              "    ano estado  pop  desempregados\n",
              "2  2014     MG  5.2       454333.0\n",
              "3  2014     SP  4.0       232111.0\n",
              "4  2015     SP  4.1       242422.0"
            ]
          },
          "metadata": {
            "tags": []
          },
          "execution_count": 93
        }
      ]
    },
    {
      "cell_type": "code",
      "metadata": {
        "id": "5kpwZAgpasEl",
        "outputId": "67eece21-6269-4b38-ca96-22df407735c2",
        "colab": {
          "base_uri": "https://localhost:8080/",
          "height": 111
        }
      },
      "source": [
        "df2.iloc[2:4]  # Exibe as linhas do dataframe indicadas no intervalo entre os índices da função \"iloc\" (o útimo índice é \"exclusive\")."
      ],
      "execution_count": null,
      "outputs": [
        {
          "output_type": "execute_result",
          "data": {
            "text/html": [
              "<div>\n",
              "<style scoped>\n",
              "    .dataframe tbody tr th:only-of-type {\n",
              "        vertical-align: middle;\n",
              "    }\n",
              "\n",
              "    .dataframe tbody tr th {\n",
              "        vertical-align: top;\n",
              "    }\n",
              "\n",
              "    .dataframe thead th {\n",
              "        text-align: right;\n",
              "    }\n",
              "</style>\n",
              "<table border=\"1\" class=\"dataframe\">\n",
              "  <thead>\n",
              "    <tr style=\"text-align: right;\">\n",
              "      <th></th>\n",
              "      <th>ano</th>\n",
              "      <th>estado</th>\n",
              "      <th>pop</th>\n",
              "      <th>desempregados</th>\n",
              "    </tr>\n",
              "  </thead>\n",
              "  <tbody>\n",
              "    <tr>\n",
              "      <th>2</th>\n",
              "      <td>2014</td>\n",
              "      <td>MG</td>\n",
              "      <td>5.2</td>\n",
              "      <td>454333.0</td>\n",
              "    </tr>\n",
              "    <tr>\n",
              "      <th>3</th>\n",
              "      <td>2014</td>\n",
              "      <td>SP</td>\n",
              "      <td>4.0</td>\n",
              "      <td>232111.0</td>\n",
              "    </tr>\n",
              "  </tbody>\n",
              "</table>\n",
              "</div>"
            ],
            "text/plain": [
              "    ano estado  pop  desempregados\n",
              "2  2014     MG  5.2       454333.0\n",
              "3  2014     SP  4.0       232111.0"
            ]
          },
          "metadata": {
            "tags": []
          },
          "execution_count": 94
        }
      ]
    },
    {
      "cell_type": "code",
      "metadata": {
        "id": "o9gLiESwbFtO",
        "outputId": "60458910-ab26-4141-bf6d-bc3cb0357b25",
        "colab": {
          "base_uri": "https://localhost:8080/",
          "height": 68
        }
      },
      "source": [
        "df2.iloc[2:4].estado # Exibe o resultado de uma combinação de filtros (aplicados às linhas e colunas simultâneamente)."
      ],
      "execution_count": null,
      "outputs": [
        {
          "output_type": "execute_result",
          "data": {
            "text/plain": [
              "2    MG\n",
              "3    SP\n",
              "Name: estado, dtype: object"
            ]
          },
          "metadata": {
            "tags": []
          },
          "execution_count": 96
        }
      ]
    },
    {
      "cell_type": "markdown",
      "metadata": {
        "id": "CAmwWFRKbrB0"
      },
      "source": [
        "## Numpy arrays"
      ]
    },
    {
      "cell_type": "markdown",
      "metadata": {
        "id": "6OE4iNaycsLS"
      },
      "source": [
        "### Criando arrays"
      ]
    },
    {
      "cell_type": "code",
      "metadata": {
        "id": "iutsqrptbRM7",
        "outputId": "1873c0e2-7e3e-4776-88d2-05a392be7365",
        "colab": {
          "base_uri": "https://localhost:8080/",
          "height": 153
        }
      },
      "source": [
        "import numpy as np\n",
        "\n",
        "a = np.array([1, 2, 3])   # Cria um vetor (array) simples com 3 elementos.\n",
        "print(type(a))            # Exibe o tipo do vetor.    \n",
        "print(a.shape)            # Exibe a dimensão do vetor.\n",
        "print(a[0], a[1], a[2])   # Exibe os elementos do vetor um a um explicitando seus índices.\n",
        "a[0] = 5                  # Atribui um valor a um elemento do vetor explicitando o seu índice.\n",
        "print(a)                  # Exibe o vetor atualizado.\n",
        "\n",
        "b = np.array([[1,2,3],[4,5,6]])    # Cria uma matriz (array de arrays).\n",
        "print(b)                           # Exibe o conteúdo da matriz (elementos).\n",
        "print(b.shape)                     # Exibe a dimensão da matriz.\n",
        "print(b[0, 0], b[0, 1], b[1, 0])   # Exibe os elementos da matriz um a um explicitando seus índices."
      ],
      "execution_count": null,
      "outputs": [
        {
          "output_type": "stream",
          "text": [
            "<class 'numpy.ndarray'>\n",
            "(3,)\n",
            "1 2 3\n",
            "[5 2 3]\n",
            "[[1 2 3]\n",
            " [4 5 6]]\n",
            "(2, 3)\n",
            "1 2 4\n"
          ],
          "name": "stdout"
        }
      ]
    },
    {
      "cell_type": "code",
      "metadata": {
        "id": "ZJGYWKogcCOd",
        "outputId": "1945a665-35e2-4a28-b9b8-bb4580554f2d",
        "colab": {
          "base_uri": "https://localhost:8080/",
          "height": 187
        }
      },
      "source": [
        "a = np.zeros((2,2))   #Cria matriz 2 X 2 preenchida com zeros.\n",
        "print(a)              \n",
        "                      \n",
        "\n",
        "b = np.ones((1,2))    # Cria matriz 1 X 2 preenchida com \"1s\"\n",
        "print(b)              \n",
        "\n",
        "c = np.full((2,2), 7) # Cria matriz 2 X 2 preenchida com \"7s\" (constante).\n",
        "print(c)               \n",
        "                       \n",
        "\n",
        "d = np.eye(3)         # Cria uma matriz-identidade (matriz quadrada cuja diagonal princial é preenchida com \"1s\" e o restante com \"0s\") de dimensão 3 X 3.\n",
        "print(d)              \n",
        "\n",
        "e = np.random.random((2,2))  # Cria uma matriz 2 X 2 com números aleatórios.\n",
        "print(e)                     \n",
        "                             "
      ],
      "execution_count": null,
      "outputs": [
        {
          "output_type": "stream",
          "text": [
            "[[0. 0.]\n",
            " [0. 0.]]\n",
            "[[1. 1.]]\n",
            "[[7 7]\n",
            " [7 7]]\n",
            "[[1. 0. 0.]\n",
            " [0. 1. 0.]\n",
            " [0. 0. 1.]]\n",
            "[[0.68449909 0.33669639]\n",
            " [0.00924142 0.50717776]]\n"
          ],
          "name": "stdout"
        }
      ]
    },
    {
      "cell_type": "markdown",
      "metadata": {
        "id": "AXQm8X1Ocz62"
      },
      "source": [
        "### Indexando arrays"
      ]
    },
    {
      "cell_type": "code",
      "metadata": {
        "id": "odsmOQaScpGF",
        "outputId": "8b4455d6-be74-4423-f71d-fb9960406d70",
        "colab": {
          "base_uri": "https://localhost:8080/",
          "height": 170
        }
      },
      "source": [
        "a = np.array([[1,2,3,4], [5,6,7,8], [9,10,11,12]]) # Cria matriz 3 X 4.\n",
        "print(a)\n",
        "\n",
        "# Usando slicing para obter sub-array com as primeiras 2 linhas\n",
        "# e as colunas 1 e 2\n",
        "\n",
        "b = a[:2, 1:3]    # Abribui para \"b\" um recorte da matriz \"a\" de dimensão 2 X 2 (linhas 0 e 1 , colunas 1 e 2).\n",
        "print(b)\n",
        "\n",
        "# Uma fatia de um array é uma VISÃO desse mesmo array. Isso significa\n",
        "# que modificar um elemento de \"b\" mudará o valor em \"a\".\n",
        "\n",
        "print(a[0, 1])    # Exibe o elemento da primeira linha e segunda coluna da matriz \"a\".\n",
        "b[0, 0] = 77      # Atribui o valor \"77\" ao elemento da primeira linha e primeira coluna na matriz \"b\" gerada a partir de \"a\".\n",
        "print(a[0, 1])    # \n",
        "\n",
        "c = a[:2, 1:3].copy()\n",
        "print(c)"
      ],
      "execution_count": null,
      "outputs": [
        {
          "output_type": "stream",
          "text": [
            "[[ 1  2  3  4]\n",
            " [ 5  6  7  8]\n",
            " [ 9 10 11 12]]\n",
            "[[2 3]\n",
            " [6 7]]\n",
            "2\n",
            "77\n",
            "[[77  3]\n",
            " [ 6  7]]\n"
          ],
          "name": "stdout"
        }
      ]
    },
    {
      "cell_type": "code",
      "metadata": {
        "id": "KgIwVMpNMDnM",
        "outputId": "8b4455d6-be74-4423-f71d-fb9960406d70",
        "colab": {
          "base_uri": "https://localhost:8080/",
          "height": 170
        }
      },
      "source": [
        "a = np.array([[1,2,3,4], [5,6,7,8], [9,10,11,12]]) # Cria matriz 3 X 4.\n",
        "print(a)\n",
        "\n",
        "# Usando slicing para obter sub-array com as primeiras 2 linhas\n",
        "# e as colunas 1 e 2\n",
        "\n",
        "b = a[:2, 1:3]    # Abribui para \"b\" um recorte da matriz \"a\" de dimensão 2 X 2 (linhas 0 e 1 , colunas 1 e 2).\n",
        "print(b)\n",
        "\n",
        "# Uma fatia de um array é uma VISÃO desse mesmo array. Isso significa\n",
        "# que modificar um elemento de \"b\" mudará o valor em \"a\".\n",
        "\n",
        "print(a[0, 1])    # Exibe o elemento da primeira linha e segunda coluna da matriz \"a\".\n",
        "b[0, 0] = 77      # Atribui o valor \"77\" ao elemento da primeira linha e primeira coluna na matriz \"b\" gerada a partir de \"a\".\n",
        "print(a[0, 1])    # \n",
        "\n",
        "c = a[:2, 1:3].copy()\n",
        "print(c)"
      ],
      "execution_count": null,
      "outputs": [
        {
          "output_type": "stream",
          "text": [
            "[[ 1  2  3  4]\n",
            " [ 5  6  7  8]\n",
            " [ 9 10 11 12]]\n",
            "[[2 3]\n",
            " [6 7]]\n",
            "2\n",
            "77\n",
            "[[77  3]\n",
            " [ 6  7]]\n"
          ],
          "name": "stdout"
        }
      ]
    },
    {
      "cell_type": "code",
      "metadata": {
        "id": "5R3IWU0mMEzL",
        "outputId": "8b4455d6-be74-4423-f71d-fb9960406d70",
        "colab": {
          "base_uri": "https://localhost:8080/",
          "height": 170
        }
      },
      "source": [
        "a = np.array([[1,2,3,4], [5,6,7,8], [9,10,11,12]]) # Cria matriz 3 X 4.\n",
        "print(a)\n",
        "\n",
        "# Usando slicing para obter sub-array com as primeiras 2 linhas\n",
        "# e as colunas 1 e 2\n",
        "\n",
        "b = a[:2, 1:3]    # Abribui para \"b\" um recorte da matriz \"a\" de dimensão 2 X 2 (linhas 0 e 1 , colunas 1 e 2).\n",
        "print(b)\n",
        "\n",
        "# Uma fatia de um array é uma VISÃO desse mesmo array. Isso significa\n",
        "# que modificar um elemento de \"b\" mudará o valor em \"a\".\n",
        "\n",
        "print(a[0, 1])    # Exibe o elemento da linha 0 (primeira linha) e coluna 1 (segunda coluna) da matriz \"a\".\n",
        "b[0, 0] = 77      # Atribui o valor \"77\" ao elemento da primeira linha e primeira coluna na matriz \"b\" (gerada a partir de \"a\").\n",
        "print(a[0, 1])    # Exibe novamente o elemento da linha 0 (primeira linha) e coluna 1 (segunda coluna) da matriz \"a\", demonstrando que o mesmo foi modificado.\n",
        "\n",
        "c = a[:2, 1:3].copy()  # Cria um novo objeto \"c\", do tipo matriz, atribuindo a ele uma cópia do recorte de \"a\".\n",
        "print(c)               # Exibe a nova matriz."
      ],
      "execution_count": null,
      "outputs": [
        {
          "output_type": "stream",
          "text": [
            "[[ 1  2  3  4]\n",
            " [ 5  6  7  8]\n",
            " [ 9 10 11 12]]\n",
            "[[2 3]\n",
            " [6 7]]\n",
            "2\n",
            "77\n",
            "[[77  3]\n",
            " [ 6  7]]\n"
          ],
          "name": "stdout"
        }
      ]
    },
    {
      "cell_type": "code",
      "metadata": {
        "id": "vXMuIa4jeGHm",
        "outputId": "047b8e81-a996-4184-e8a4-973062b7eeab",
        "colab": {
          "base_uri": "https://localhost:8080/",
          "height": 102
        }
      },
      "source": [
        "c[0, 0] = -1000       # Atribui um novo elemento à nova matriz \"c\" (primeira linha e primeira coluna = 0 X 0).\n",
        "print(c)              # Exibe o conteúdo da nova matriz \"c\".\n",
        "print(a)              # Exibe o conteúdo da matriz original (\"a\")."
      ],
      "execution_count": null,
      "outputs": [
        {
          "output_type": "stream",
          "text": [
            "[[-1000     3]\n",
            " [    6     7]]\n",
            "[[ 1 77  3  4]\n",
            " [ 5  6  7  8]\n",
            " [ 9 10 11 12]]\n"
          ],
          "name": "stdout"
        }
      ]
    },
    {
      "cell_type": "code",
      "metadata": {
        "id": "lt-y8MrPeHdQ",
        "outputId": "1f9fd03a-3b2d-4471-9fb6-b1cfca914331",
        "colab": {
          "base_uri": "https://localhost:8080/",
          "height": 119
        }
      },
      "source": [
        "print (a)            # Exibe o conteúda da matriz \"a\".\n",
        "a > 10               # Exibe uma visão (espelho) da matriz \"a\" cujos elementos corresponde ao resultado da expressão indicada. "
      ],
      "execution_count": null,
      "outputs": [
        {
          "output_type": "stream",
          "text": [
            "[[ 1 77  3  4]\n",
            " [ 5  6  7  8]\n",
            " [ 9 10 11 12]]\n"
          ],
          "name": "stdout"
        },
        {
          "output_type": "execute_result",
          "data": {
            "text/plain": [
              "array([[False,  True, False, False],\n",
              "       [False, False, False, False],\n",
              "       [False, False,  True,  True]])"
            ]
          },
          "metadata": {
            "tags": []
          },
          "execution_count": 9
        }
      ]
    },
    {
      "cell_type": "code",
      "metadata": {
        "id": "D3sMRzeHe7Vv",
        "outputId": "f2548726-1cce-47f8-8494-395ff37786ae",
        "colab": {
          "base_uri": "https://localhost:8080/",
          "height": 34
        }
      },
      "source": [
        "print (a)         # Exibe o conteúdo da matriz \"a\".\n",
        "a[a > 10]         # Exibe os elementos da matriz \"a\" que satisfazem a expressão indicada."
      ],
      "execution_count": null,
      "outputs": [
        {
          "output_type": "execute_result",
          "data": {
            "text/plain": [
              "array([77, 11, 12])"
            ]
          },
          "metadata": {
            "tags": []
          },
          "execution_count": 8
        }
      ]
    },
    {
      "cell_type": "markdown",
      "metadata": {
        "id": "DeK7GaHcfVgx"
      },
      "source": [
        "### Operações com arrays"
      ]
    },
    {
      "cell_type": "code",
      "metadata": {
        "id": "ZlG_xq4Re-vN",
        "outputId": "2bc3c67f-1338-4ad5-b07e-127b6d4fdc3b",
        "colab": {
          "base_uri": "https://localhost:8080/",
          "height": 187
        }
      },
      "source": [
        "x = np.array([[1,2],[3,4]], dtype=np.float64)  # Cria a matriz x com valores numéricos reais.\n",
        "y = np.array([[5,6],[7,8]], dtype=np.float64)  # Cria a matriz y com valores numéricos reais.\n",
        "\n",
        "print(x + y)       # Soma cada elemento de \"x\" ao correspondente elemento em \"y\" (soma dos elementos das mesmas posições nas duas matrizes). \n",
        "print(x - y)       # Subtrai de cada elemento de \"x\" o correspondente elemento em \"y\" (subtração dos elementos das mesmas posições nas duas matrizes). \n",
        "print(x * y)       # Multiplica cada elemento de \"x\" ao correspondente elemento em \"y\" (multiplicação entre os elementos das mesmas posições nas duas matrizes). \n",
        "print(x / y)       # Divide cada elemento de \"x\" pelo correspondente elemento em \"y\" (divisão entre os elementos das mesmas posições nas duas matrizes). \n",
        "print(np.sqrt(x))  # Extrai a raiz quadrada de cada um dos elementos da matriz \"x\".\n"
      ],
      "execution_count": null,
      "outputs": [
        {
          "output_type": "stream",
          "text": [
            "[[ 6.  8.]\n",
            " [10. 12.]]\n",
            "[[-4. -4.]\n",
            " [-4. -4.]]\n",
            "[[ 5. 12.]\n",
            " [21. 32.]]\n",
            "[[0.2        0.33333333]\n",
            " [0.42857143 0.5       ]]\n",
            "[[1.         1.41421356]\n",
            " [1.73205081 2.        ]]\n"
          ],
          "name": "stdout"
        }
      ]
    },
    {
      "cell_type": "code",
      "metadata": {
        "id": "-fORHkvbfiQ7",
        "outputId": "3ae27f97-4229-47de-a884-23fd6798de79",
        "colab": {
          "base_uri": "https://localhost:8080/",
          "height": 51
        }
      },
      "source": [
        "print(np.dot(x, y))  # Efetua a multiplicação (matemática) entre as matrizes \"x\" e \"y\" (não entre os elementos) utilizando a função \"dot\". "
      ],
      "execution_count": null,
      "outputs": [
        {
          "output_type": "stream",
          "text": [
            "[[19. 22.]\n",
            " [43. 50.]]\n"
          ],
          "name": "stdout"
        }
      ]
    },
    {
      "cell_type": "code",
      "metadata": {
        "id": "kp0bG6jmgBr2",
        "outputId": "dacba9b1-328a-445e-e89b-0cf8113e2553",
        "colab": {
          "base_uri": "https://localhost:8080/",
          "height": 102
        }
      },
      "source": [
        "print (x)                       # Exibe a matriz \"x\".\n",
        "print(np.sum(x))                # Retorna o somatório entre todos os elementos da matriz \"x\".\n",
        "print(np.sum(x, axis=0))        # Retorna o somatório entre todos os elementos de cada uma das colunas de \"x\" (somatório vertical).\n",
        "print(np.sum(x, axis=1))        # Retorna o somatório entre todos os elementos de cada uma das linhas de \"x\" (somatório horizontal)."
      ],
      "execution_count": null,
      "outputs": [
        {
          "output_type": "stream",
          "text": [
            "[[1. 2.]\n",
            " [3. 4.]]\n",
            "10.0\n",
            "[4. 6.]\n",
            "[3. 7.]\n"
          ],
          "name": "stdout"
        }
      ]
    },
    {
      "cell_type": "markdown",
      "metadata": {
        "id": "zSs7SbTxiGQS"
      },
      "source": [
        "### Exercício => Acessar o meu Google Drive para obter uma imagem do Kiko e exibir um pixel da imagem! "
      ]
    },
    {
      "cell_type": "code",
      "metadata": {
        "id": "P2zIaH-UiHu_",
        "outputId": "32b92ca0-38e1-49cb-b436-b78472349775",
        "colab": {
          "base_uri": "https://localhost:8080/",
          "height": 122
        }
      },
      "source": [
        "from google.colab import drive  # Acessa o Google Drive.\n",
        "drive.mount(\"/content/drive\")   # Monta o meu Drive na minha partição."
      ],
      "execution_count": null,
      "outputs": [
        {
          "output_type": "stream",
          "text": [
            "Go to this URL in a browser: https://accounts.google.com/o/oauth2/auth?client_id=947318989803-6bn6qk8qdgf4n4g3pfee6491hc0brc4i.apps.googleusercontent.com&redirect_uri=urn%3aietf%3awg%3aoauth%3a2.0%3aoob&response_type=code&scope=email%20https%3a%2f%2fwww.googleapis.com%2fauth%2fdocs.test%20https%3a%2f%2fwww.googleapis.com%2fauth%2fdrive%20https%3a%2f%2fwww.googleapis.com%2fauth%2fdrive.photos.readonly%20https%3a%2f%2fwww.googleapis.com%2fauth%2fpeopleapi.readonly\n",
            "\n",
            "Enter your authorization code:\n",
            "··········\n",
            "Mounted at /content/drive\n"
          ],
          "name": "stdout"
        }
      ]
    },
    {
      "cell_type": "code",
      "metadata": {
        "id": "znRt6mssiKFk",
        "outputId": "65ae48b1-728c-4963-95b5-2a43542f9905",
        "colab": {
          "base_uri": "https://localhost:8080/",
          "height": 221
        }
      },
      "source": [
        "!ls drive/'My Drive'/Kiko   # Lista o conteúdo da pasta do Kiko no meu Drive."
      ],
      "execution_count": null,
      "outputs": [
        {
          "output_type": "stream",
          "text": [
            "'19 - Kiko (caaf).pdf'\n",
            "'Clinica CãoPinas (Drs. Priscilla e Alexandre).PNG'\n",
            "'Clinica Vived.PNG'\n",
            "'DIRETRIZ DA PRATICA DE EUTANASIA DO CONCEA.doc'\n",
            "'End. Clínica.PNG'\n",
            "'kiko dormindo.jpg'\n",
            "'kiko e l.jpg'\n",
            " kiko.jpg\n",
            "'Kiko - Maria Elisa 05-12-19.pdf'\n",
            " OgAAAABGwFnq4OEA2a6O2xS3DMeCZbveZBYJ3VZNpg0yf_i1l27DA6nSoQHU_OF7claVMW0L15KDoPZE7HZyjKLzr4AAm1T1UHr6wSpQNVtlCyd3TL-M0xEms4Bq.jpg\n",
            " OMFCO\n",
            "'Vived - Preços e e-mail.txt'\n"
          ],
          "name": "stdout"
        }
      ]
    },
    {
      "cell_type": "code",
      "metadata": {
        "id": "CBxAdo_WiNyd",
        "outputId": "235fda2f-4270-4060-a5e5-ebd82dc5de5b",
        "colab": {
          "base_uri": "https://localhost:8080/",
          "height": 34
        }
      },
      "source": [
        "!pip install Pillow   # Instala a biblioteca Pillow (manipulação de imagens).\n"
      ],
      "execution_count": null,
      "outputs": [
        {
          "output_type": "stream",
          "text": [
            "Requirement already satisfied: Pillow in /usr/local/lib/python3.6/dist-packages (7.0.0)\n"
          ],
          "name": "stdout"
        }
      ]
    },
    {
      "cell_type": "code",
      "metadata": {
        "id": "gUION3C4ibwL"
      },
      "source": [
        "from PIL import Image                                         # Importa a Biblioteca Pillow.\n",
        "img = Image.open(\"/content/drive/My Drive/Kiko/kiko.jpg\")     # Acessa a foto do Kiko a partir do meu Drive."
      ],
      "execution_count": null,
      "outputs": []
    },
    {
      "cell_type": "code",
      "metadata": {
        "id": "B-aT_JBhirfa",
        "outputId": "e79a7982-b7ce-4afc-8809-7cfc4e01ca87",
        "colab": {
          "base_uri": "https://localhost:8080/",
          "height": 51
        }
      },
      "source": [
        "print(type(img))             # Exibe o tipo do arquivo (foto).\n",
        "imgnp = np.array(img)        # Carrega o arquivo (foto do kiko) em um objeto (array de 3 dimensões) utilizando o Numpy.\n",
        "print(type(imgnp))           # Exibe o tipo do objeto criado."
      ],
      "execution_count": null,
      "outputs": [
        {
          "output_type": "stream",
          "text": [
            "<class 'PIL.JpegImagePlugin.JpegImageFile'>\n",
            "<class 'numpy.ndarray'>\n"
          ],
          "name": "stdout"
        }
      ]
    },
    {
      "cell_type": "code",
      "metadata": {
        "id": "vvzzbU87krWh",
        "outputId": "16a5b2ad-5acf-461d-8de2-768366047078",
        "colab": {
          "base_uri": "https://localhost:8080/",
          "height": 34
        }
      },
      "source": [
        "print(imgnp.shape)           # Exibe a dimensão do objeto (array de pixels com 3 dimessões)."
      ],
      "execution_count": null,
      "outputs": [
        {
          "output_type": "stream",
          "text": [
            "(600, 800, 3)\n"
          ],
          "name": "stdout"
        }
      ]
    },
    {
      "cell_type": "code",
      "metadata": {
        "id": "N9cfH1LllgQQ",
        "outputId": "e78c0b46-65cd-4708-b473-43c0496232ef",
        "colab": {
          "base_uri": "https://localhost:8080/",
          "height": 34
        }
      },
      "source": [
        "imgnp[100,200]                 # Exibe os dados da coloração de um pontinho (pixel) da foto do Kiko!  "
      ],
      "execution_count": null,
      "outputs": [
        {
          "output_type": "execute_result",
          "data": {
            "text/plain": [
              "array([126,  92,  47], dtype=uint8)"
            ]
          },
          "metadata": {
            "tags": []
          },
          "execution_count": 19
        }
      ]
    }
  ]
}