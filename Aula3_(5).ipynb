{
  "nbformat": 4,
  "nbformat_minor": 0,
  "metadata": {
    "colab": {
      "name": "Aula3 (5).ipynb",
      "provenance": [],
      "collapsed_sections": [
        "t35gw4g3HkkG",
        "YBJtOqsUKs4K",
        "WE4uqQgPMG05",
        "eh-KfktTQDqO",
        "C2Ks0LZVRC83",
        "6uM0l3YNTloj",
        "6OE4iNaycsLS",
        "AXQm8X1Ocz62"
      ],
      "include_colab_link": true
    },
    "kernelspec": {
      "name": "python3",
      "display_name": "Python 3"
    }
  },
  "cells": [
    {
      "cell_type": "markdown",
      "metadata": {
        "id": "view-in-github",
        "colab_type": "text"
      },
      "source": [
        "<a href=\"https://colab.research.google.com/github/MariaElisaOliveiraMartins/Curso_DS_Pro/blob/main/Aula3_(5).ipynb\" target=\"_parent\"><img src=\"https://colab.research.google.com/assets/colab-badge.svg\" alt=\"Open In Colab\"/></a>"
      ]
    },
    {
      "cell_type": "markdown",
      "metadata": {
        "id": "t35gw4g3HkkG"
      },
      "source": [
        "# Estruturas de dados em Python => Criando objetos simples e complexos\n"
      ]
    },
    {
      "cell_type": "markdown",
      "metadata": {
        "id": "5215RJS-Hvzs"
      },
      "source": [
        "### Variáveis => Posições de memória que armazemam dados. "
      ]
    },
    {
      "cell_type": "code",
      "metadata": {
        "id": "EjP0_nefHuZa"
      },
      "source": [
        "x = 3\n",
        "nome = \"Mauro\"\n",
        "logica = True"
      ],
      "execution_count": 139,
      "outputs": []
    },
    {
      "cell_type": "code",
      "metadata": {
        "id": "w6If2vjYGHvf"
      },
      "source": [
        "nome1 = \"Mauro\"\n",
        "nome2 = \"Bete\"\n",
        "nome3 = \"Pedro\""
      ],
      "execution_count": 140,
      "outputs": []
    },
    {
      "cell_type": "markdown",
      "metadata": {
        "id": "5tc-DQQnINZk"
      },
      "source": [
        "### Listas => são conjuntos de dados cujos elementos podem ser alterados.\n",
        "\n"
      ]
    },
    {
      "cell_type": "code",
      "metadata": {
        "id": "73FQFsLPIS3V",
        "outputId": "82b654fb-78ed-4255-bd6c-1e5154c04eec",
        "colab": {
          "base_uri": "https://localhost:8080/",
          "height": 71
        }
      },
      "source": [
        "nomes = [\"Mauro\",\"Pedro\", \"Bete\"] \n",
        "print(nomes)\n",
        "nomes = [nome1,nome2,nome3]\n",
        "print(nomes)\n",
        "nomes.append(\"João\")\n",
        "print(nomes)"
      ],
      "execution_count": 141,
      "outputs": [
        {
          "output_type": "stream",
          "text": [
            "['Mauro', 'Pedro', 'Bete']\n",
            "['Mauro', 'Bete', 'Pedro']\n",
            "['Mauro', 'Bete', 'Pedro', 'João']\n"
          ],
          "name": "stdout"
        }
      ]
    },
    {
      "cell_type": "code",
      "metadata": {
        "id": "fvHpCG0FInYK",
        "outputId": "96a1f9ff-92c4-46df-94fa-8027a5d618b4",
        "colab": {
          "base_uri": "https://localhost:8080/",
          "height": 35
        }
      },
      "source": [
        "nomes.remove(\"Mauro\")\n",
        "print(nomes)\n",
        "#nomes.remove(\"Maria\")"
      ],
      "execution_count": 142,
      "outputs": [
        {
          "output_type": "stream",
          "text": [
            "['Bete', 'Pedro', 'João']\n"
          ],
          "name": "stdout"
        }
      ]
    },
    {
      "cell_type": "code",
      "metadata": {
        "id": "_bXYaEPCI8wC",
        "outputId": "aa96ef48-861f-4ff7-b1b9-7e291d080a84",
        "colab": {
          "base_uri": "https://localhost:8080/",
          "height": 35
        }
      },
      "source": [
        "\"Maria\" in nomes"
      ],
      "execution_count": 143,
      "outputs": [
        {
          "output_type": "execute_result",
          "data": {
            "text/plain": [
              "False"
            ]
          },
          "metadata": {
            "tags": []
          },
          "execution_count": 143
        }
      ]
    },
    {
      "cell_type": "code",
      "metadata": {
        "id": "3wNC-6-7JC5z",
        "outputId": "dbccd9f3-865b-4747-f9ad-ee0b90736f56",
        "colab": {
          "base_uri": "https://localhost:8080/",
          "height": 35
        }
      },
      "source": [
        "if \"Maria\" in nomes:\n",
        "  nomes.remove(\"Maria\")\n",
        "else:\n",
        "  print(\"Não tem Maria em nomes\")\n"
      ],
      "execution_count": 144,
      "outputs": [
        {
          "output_type": "stream",
          "text": [
            "Não tem Maria em nomes\n"
          ],
          "name": "stdout"
        }
      ]
    },
    {
      "cell_type": "code",
      "metadata": {
        "id": "uBEahWKGJO6g",
        "outputId": "88a22b8c-d279-4a03-cb30-e693b68e4ca2",
        "colab": {
          "base_uri": "https://localhost:8080/",
          "height": 71
        }
      },
      "source": [
        "for nome in nomes:\n",
        "  print(nome)"
      ],
      "execution_count": 145,
      "outputs": [
        {
          "output_type": "stream",
          "text": [
            "Bete\n",
            "Pedro\n",
            "João\n"
          ],
          "name": "stdout"
        }
      ]
    },
    {
      "cell_type": "markdown",
      "metadata": {
        "id": "kyyeWtXeM2jX"
      },
      "source": [
        "## Tuplas => Também são conujunto de dados, porém seus elementos não podem ser alterados.\n"
      ]
    },
    {
      "cell_type": "code",
      "metadata": {
        "id": "dpPpBpfrM5dW",
        "outputId": "11d6665d-a449-4068-c1c3-0ebf939621fa",
        "colab": {
          "base_uri": "https://localhost:8080/",
          "height": 53
        }
      },
      "source": [
        "primos = (1,2,3,5,7,11,13,17,23)\n",
        "print(primos)\n",
        "primo_par = 2,\n",
        "print(primo_par)"
      ],
      "execution_count": 146,
      "outputs": [
        {
          "output_type": "stream",
          "text": [
            "(1, 2, 3, 5, 7, 11, 13, 17, 23)\n",
            "(2,)\n"
          ],
          "name": "stdout"
        }
      ]
    },
    {
      "cell_type": "markdown",
      "metadata": {
        "id": "otaxoRpcJbPc"
      },
      "source": [
        "\n",
        "\n",
        "```\n",
        "# Isto está formatado como código\n",
        "```\n",
        "\n",
        "## Dicionários => Armazenamento randômico para estrutura de dados."
      ]
    },
    {
      "cell_type": "code",
      "metadata": {
        "id": "29dKdg9TJWeK"
      },
      "source": [
        "comida = {}"
      ],
      "execution_count": 147,
      "outputs": []
    },
    {
      "cell_type": "code",
      "metadata": {
        "id": "7D7qP9bkJmB7",
        "outputId": "fa5ad311-2fb8-4da4-f9db-786d4a75f9b3",
        "colab": {
          "base_uri": "https://localhost:8080/",
          "height": 35
        }
      },
      "source": [
        "comida[\"feijoada\"] = \"Minha comida preferida\"\n",
        "comida[\"coentro\"] = \"Vixi, detesto!\"\n",
        "comida"
      ],
      "execution_count": 148,
      "outputs": [
        {
          "output_type": "execute_result",
          "data": {
            "text/plain": [
              "{'coentro': 'Vixi, detesto!', 'feijoada': 'Minha comida preferida'}"
            ]
          },
          "metadata": {
            "tags": []
          },
          "execution_count": 148
        }
      ]
    },
    {
      "cell_type": "code",
      "metadata": {
        "id": "6b9a8pg-JzkK",
        "outputId": "f4350311-6897-4085-9ea0-0a3f27308a32",
        "colab": {
          "base_uri": "https://localhost:8080/",
          "height": 35
        }
      },
      "source": [
        "comida[\"coentro\"]"
      ],
      "execution_count": 149,
      "outputs": [
        {
          "output_type": "execute_result",
          "data": {
            "application/vnd.google.colaboratory.intrinsic+json": {
              "type": "string"
            },
            "text/plain": [
              "'Vixi, detesto!'"
            ]
          },
          "metadata": {
            "tags": []
          },
          "execution_count": 149
        }
      ]
    },
    {
      "cell_type": "code",
      "metadata": {
        "id": "vNb4HPusJ5ec"
      },
      "source": [
        "comida[\"queijo\"] = \"Uai, sou mineiro!\""
      ],
      "execution_count": 150,
      "outputs": []
    },
    {
      "cell_type": "code",
      "metadata": {
        "id": "nvXqlwsMKC6P",
        "outputId": "b4857b85-248d-4d93-85ec-af7f40e8ee6c",
        "colab": {
          "base_uri": "https://localhost:8080/",
          "height": 35
        }
      },
      "source": [
        "print(comida)"
      ],
      "execution_count": 151,
      "outputs": [
        {
          "output_type": "stream",
          "text": [
            "{'feijoada': 'Minha comida preferida', 'coentro': 'Vixi, detesto!', 'queijo': 'Uai, sou mineiro!'}\n"
          ],
          "name": "stdout"
        }
      ]
    },
    {
      "cell_type": "code",
      "metadata": {
        "id": "c2mVQlANKEeL",
        "outputId": "28e89a0e-038b-448f-da4f-a68779a60ac1",
        "colab": {
          "base_uri": "https://localhost:8080/",
          "height": 53
        }
      },
      "source": [
        "if 'queijo' in comida:\n",
        "  print(\"O que eu acho de queijo é: \")\n",
        "  print(comida[\"queijo\"])"
      ],
      "execution_count": 152,
      "outputs": [
        {
          "output_type": "stream",
          "text": [
            "O que eu acho de queijo é: \n",
            "Uai, sou mineiro!\n"
          ],
          "name": "stdout"
        }
      ]
    },
    {
      "cell_type": "code",
      "metadata": {
        "id": "AyTtnuSUKWPF"
      },
      "source": [
        "del comida[\"coentro\"]"
      ],
      "execution_count": 153,
      "outputs": []
    },
    {
      "cell_type": "code",
      "metadata": {
        "id": "Nn61tvHCKiBr",
        "outputId": "d21f8e8d-ba93-41d8-b4a2-dbfd622774ac",
        "colab": {
          "base_uri": "https://localhost:8080/",
          "height": 35
        }
      },
      "source": [
        "print(comida)"
      ],
      "execution_count": 154,
      "outputs": [
        {
          "output_type": "stream",
          "text": [
            "{'feijoada': 'Minha comida preferida', 'queijo': 'Uai, sou mineiro!'}\n"
          ],
          "name": "stdout"
        }
      ]
    },
    {
      "cell_type": "code",
      "metadata": {
        "id": "pl1H8JUlPqkP",
        "outputId": "d88db28f-09be-42ca-9301-c6a1b37da1a5",
        "colab": {
          "base_uri": "https://localhost:8080/",
          "height": 53
        }
      },
      "source": [
        "for key in comida:\n",
        "  print(key,' -> ',comida[key])"
      ],
      "execution_count": 155,
      "outputs": [
        {
          "output_type": "stream",
          "text": [
            "feijoada  ->  Minha comida preferida\n",
            "queijo  ->  Uai, sou mineiro!\n"
          ],
          "name": "stdout"
        }
      ]
    },
    {
      "cell_type": "code",
      "metadata": {
        "id": "b-SPJ_pZwbfY",
        "outputId": "0d187900-5491-47b9-a5bb-a36a7632a851",
        "colab": {
          "base_uri": "https://localhost:8080/",
          "height": 35
        }
      },
      "source": [
        "pares = (2, 4, 6, 8, 10)\n",
        "impares = (1, 3, 5, 7, 9)\n",
        "numeros = {}\n",
        "numeros['pares'] = pares\n",
        "numeros['impares'] = impares\n",
        "print (numeros)"
      ],
      "execution_count": 156,
      "outputs": [
        {
          "output_type": "stream",
          "text": [
            "{'pares': (2, 4, 6, 8, 10), 'impares': (1, 3, 5, 7, 9)}\n"
          ],
          "name": "stdout"
        }
      ]
    },
    {
      "cell_type": "markdown",
      "metadata": {
        "id": "YBJtOqsUKs4K"
      },
      "source": [
        "## Combinando estruturas de dados => Dicionário de tuplas de listas (objetos complexos).\n",
        "\n"
      ]
    },
    {
      "cell_type": "code",
      "metadata": {
        "id": "6SsyDx2UKsCi"
      },
      "source": [
        "eu = {\"família\" : nomes,\n",
        "      \"comidas\" : comida}"
      ],
      "execution_count": 157,
      "outputs": []
    },
    {
      "cell_type": "code",
      "metadata": {
        "id": "99GAVZobKjSr",
        "outputId": "5db5e674-a0c8-4b75-afe0-5f60a4028e93",
        "colab": {
          "base_uri": "https://localhost:8080/",
          "height": 55
        }
      },
      "source": [
        "print(eu)"
      ],
      "execution_count": 158,
      "outputs": [
        {
          "output_type": "stream",
          "text": [
            "{'família': ['Bete', 'Pedro', 'João'], 'comidas': {'feijoada': 'Minha comida preferida', 'queijo': 'Uai, sou mineiro!'}}\n"
          ],
          "name": "stdout"
        }
      ]
    },
    {
      "cell_type": "markdown",
      "metadata": {
        "id": "WE4uqQgPMG05"
      },
      "source": [
        "## Outros exemplos em estrutura de dados => Identificando tipos de dados dos objetos complexos.\n",
        "\n",
        "\n"
      ]
    },
    {
      "cell_type": "code",
      "metadata": {
        "id": "9omwZHleLpK8",
        "outputId": "bdae414f-bdac-4cb4-9bc3-15a298b6dab9",
        "colab": {
          "base_uri": "https://localhost:8080/",
          "height": 35
        }
      },
      "source": [
        " print(sorted(nomes))"
      ],
      "execution_count": 159,
      "outputs": [
        {
          "output_type": "stream",
          "text": [
            "['Bete', 'João', 'Pedro']\n"
          ],
          "name": "stdout"
        }
      ]
    },
    {
      "cell_type": "code",
      "metadata": {
        "id": "evmBdehRMjbo",
        "outputId": "bd3f1293-8c87-4a0c-fdd3-463e1e6b818a",
        "colab": {
          "base_uri": "https://localhost:8080/",
          "height": 89
        }
      },
      "source": [
        "print(type(nome1))\n",
        "print(type(nomes))\n",
        "print(type(primos))\n",
        "print(type(eu))"
      ],
      "execution_count": 160,
      "outputs": [
        {
          "output_type": "stream",
          "text": [
            "<class 'str'>\n",
            "<class 'list'>\n",
            "<class 'tuple'>\n",
            "<class 'dict'>\n"
          ],
          "name": "stdout"
        }
      ]
    },
    {
      "cell_type": "markdown",
      "metadata": {
        "id": "eh-KfktTQDqO"
      },
      "source": [
        "## Pandas => Importação da biblioteca. "
      ]
    },
    {
      "cell_type": "code",
      "metadata": {
        "id": "DFB0P0v1QDDV"
      },
      "source": [
        "import pandas as pd\n",
        "from pandas import Series, DataFrame"
      ],
      "execution_count": 161,
      "outputs": []
    },
    {
      "cell_type": "markdown",
      "metadata": {
        "id": "C2Ks0LZVRC83"
      },
      "source": [
        "## Série => Método da biblioteca Pandas para tratamento de séries de dados."
      ]
    },
    {
      "cell_type": "code",
      "metadata": {
        "id": "wr8pH0kkQnd4",
        "outputId": "53d856cc-201c-4e52-c51e-034dbeb3f69b",
        "colab": {
          "base_uri": "https://localhost:8080/",
          "height": 161
        }
      },
      "source": [
        "ser_1 = Series([1, 1, 2, -3, -5, 8, 13]) # Cria de uma série cuja estrutura se assemelha aos vetores/lista de dados c/ os índices e seus conteúdos.\n",
        "ser_1                                    # Exibe os índices com seus respectivos conteúdos."
      ],
      "execution_count": 162,
      "outputs": [
        {
          "output_type": "execute_result",
          "data": {
            "text/plain": [
              "0     1\n",
              "1     1\n",
              "2     2\n",
              "3    -3\n",
              "4    -5\n",
              "5     8\n",
              "6    13\n",
              "dtype: int64"
            ]
          },
          "metadata": {
            "tags": []
          },
          "execution_count": 162
        }
      ]
    },
    {
      "cell_type": "code",
      "metadata": {
        "id": "z7Ina-Y5RPUL",
        "outputId": "cff44852-3476-45b2-deed-845d4d97eabe",
        "colab": {
          "base_uri": "https://localhost:8080/",
          "height": 53
        }
      },
      "source": [
        "print(ser_1.index)  # Exibe a estrutura dos índices da série.\n",
        "print(ser_1.values) # Exibe os valores da série.\n"
      ],
      "execution_count": 163,
      "outputs": [
        {
          "output_type": "stream",
          "text": [
            "RangeIndex(start=0, stop=7, step=1)\n",
            "[ 1  1  2 -3 -5  8 13]\n"
          ],
          "name": "stdout"
        }
      ]
    },
    {
      "cell_type": "code",
      "metadata": {
        "id": "Nqz_uXCqw8Aa",
        "outputId": "bc22b02a-6572-4c19-8900-4c2f492010f2",
        "colab": {
          "base_uri": "https://localhost:8080/",
          "height": 53
        }
      },
      "source": [
        "ser_teste = Series([1, 1, 2, -3, -5], index=['a', 'b', 'c', 'd', 'e']) # Cria uma série definindo os índices.\n",
        "print(ser_teste.index)  # Exibe a estrutura dos índices da série.\n",
        "print(ser_teste.values) # Exibição os valores da série."
      ],
      "execution_count": 164,
      "outputs": [
        {
          "output_type": "stream",
          "text": [
            "Index(['a', 'b', 'c', 'd', 'e'], dtype='object')\n",
            "[ 1  1  2 -3 -5]\n"
          ],
          "name": "stdout"
        }
      ]
    },
    {
      "cell_type": "code",
      "metadata": {
        "id": "kkUpFyoYRoPQ",
        "outputId": "2135b19f-d2fe-499b-feb7-0e026d0b555e",
        "colab": {
          "base_uri": "https://localhost:8080/",
          "height": 125
        }
      },
      "source": [
        "ser_2 = Series([1, 1, 2, -3, -5], index=['a', 'b', 'c', 'd', 'e']) # Cria identificadores para os índices da série.\n",
        "ser_2 # Exibição do conteúdo da série."
      ],
      "execution_count": 165,
      "outputs": [
        {
          "output_type": "execute_result",
          "data": {
            "text/plain": [
              "a    1\n",
              "b    1\n",
              "c    2\n",
              "d   -3\n",
              "e   -5\n",
              "dtype: int64"
            ]
          },
          "metadata": {
            "tags": []
          },
          "execution_count": 165
        }
      ]
    },
    {
      "cell_type": "code",
      "metadata": {
        "id": "MjQPr7iwR1gB",
        "outputId": "a3544775-3cdf-4022-d1f9-71ec0e2c4712",
        "colab": {
          "base_uri": "https://localhost:8080/",
          "height": 35
        }
      },
      "source": [
        "ser_2['d'] # Exibe o conteúdo (valor) do elemento indicado pelo identificador especificado."
      ],
      "execution_count": 166,
      "outputs": [
        {
          "output_type": "execute_result",
          "data": {
            "text/plain": [
              "-3"
            ]
          },
          "metadata": {
            "tags": []
          },
          "execution_count": 166
        }
      ]
    },
    {
      "cell_type": "code",
      "metadata": {
        "id": "30CUgAWER4XX",
        "outputId": "f8b626c2-339e-402d-8ebe-fc32ea2daa30",
        "colab": {
          "base_uri": "https://localhost:8080/",
          "height": 35
        }
      },
      "source": [
        "ser_2[4] == ser_2['e'] # Compara o valor do elemento especificado pelo identificador atribuído à série com o conteúdo especificado pelo índice da série."
      ],
      "execution_count": 167,
      "outputs": [
        {
          "output_type": "execute_result",
          "data": {
            "text/plain": [
              "True"
            ]
          },
          "metadata": {
            "tags": []
          },
          "execution_count": 167
        }
      ]
    },
    {
      "cell_type": "code",
      "metadata": {
        "id": "J18f_OLMSAyB",
        "outputId": "f58172dc-cf20-407b-9d0d-2770c807a189",
        "colab": {
          "base_uri": "https://localhost:8080/",
          "height": 89
        }
      },
      "source": [
        "ser_2[['c', 'a', 'b']] # Exibe um subconjunto da séire cujos identificadores são especificados como uma lista de índices. "
      ],
      "execution_count": 168,
      "outputs": [
        {
          "output_type": "execute_result",
          "data": {
            "text/plain": [
              "c    2\n",
              "a    1\n",
              "b    1\n",
              "dtype: int64"
            ]
          },
          "metadata": {
            "tags": []
          },
          "execution_count": 168
        }
      ]
    },
    {
      "cell_type": "code",
      "metadata": {
        "id": "0_XYe0glSDyE",
        "outputId": "b8153ad7-c8b5-497a-fa9a-919a4808a4be",
        "colab": {
          "base_uri": "https://localhost:8080/",
          "height": 89
        }
      },
      "source": [
        "ser_2[ser_2 > 0] # Exibe um subconjunto da série cujos valores satisfazem a condição especificada no índice (filtro). "
      ],
      "execution_count": 169,
      "outputs": [
        {
          "output_type": "execute_result",
          "data": {
            "text/plain": [
              "a    1\n",
              "b    1\n",
              "c    2\n",
              "dtype: int64"
            ]
          },
          "metadata": {
            "tags": []
          },
          "execution_count": 169
        }
      ]
    },
    {
      "cell_type": "code",
      "metadata": {
        "id": "QR8K3RXiSG8f",
        "outputId": "0bdd4b28-1b46-4ef5-e573-d78a7351a3c1",
        "colab": {
          "base_uri": "https://localhost:8080/",
          "height": 125
        }
      },
      "source": [
        "ser_2 * (10 - 4) / 2 + 1 # Efetua a operação aritmética especificada sobre os elementos da série."
      ],
      "execution_count": 170,
      "outputs": [
        {
          "output_type": "execute_result",
          "data": {
            "text/plain": [
              "a     4.0\n",
              "b     4.0\n",
              "c     7.0\n",
              "d    -8.0\n",
              "e   -14.0\n",
              "dtype: float64"
            ]
          },
          "metadata": {
            "tags": []
          },
          "execution_count": 170
        }
      ]
    },
    {
      "cell_type": "markdown",
      "metadata": {
        "id": "bPwrvTl62KmD"
      },
      "source": [
        "## NunPy => Importação da biblioteca."
      ]
    },
    {
      "cell_type": "code",
      "metadata": {
        "id": "DsfNFE8KSJzK",
        "outputId": "7ca7d99e-da14-4e84-9029-fe259ac84fb6",
        "colab": {
          "base_uri": "https://localhost:8080/",
          "height": 125
        }
      },
      "source": [
        "import numpy as np # Importa a biblioteca.\n",
        "np.exp(ser_2)      # Aplica o exponecial e**x sobre os elementos da série onde cada elemento da série é o expoente da função."
      ],
      "execution_count": 171,
      "outputs": [
        {
          "output_type": "execute_result",
          "data": {
            "text/plain": [
              "a    2.718282\n",
              "b    2.718282\n",
              "c    7.389056\n",
              "d    0.049787\n",
              "e    0.006738\n",
              "dtype: float64"
            ]
          },
          "metadata": {
            "tags": []
          },
          "execution_count": 171
        }
      ]
    },
    {
      "cell_type": "code",
      "metadata": {
        "id": "OeUMfdiVSMv_",
        "outputId": "9ede0755-f0fa-4e70-f544-d3ff945eb492",
        "colab": {
          "base_uri": "https://localhost:8080/",
          "height": 71
        }
      },
      "source": [
        "ser_3 = Series(eu) # Converte uma estrutura complexa (um dicionário de lista e tuplas) em uma série.\n",
        "ser_3              # Exibe o conteúdo e o formato da estrutura."
      ],
      "execution_count": 172,
      "outputs": [
        {
          "output_type": "execute_result",
          "data": {
            "text/plain": [
              "família                                  [Bete, Pedro, João]\n",
              "comidas    {'feijoada': 'Minha comida preferida', 'queijo...\n",
              "dtype: object"
            ]
          },
          "metadata": {
            "tags": []
          },
          "execution_count": 172
        }
      ]
    },
    {
      "cell_type": "code",
      "metadata": {
        "id": "5M3KMkCiSluS",
        "outputId": "cd24610c-4305-4546-f88e-8a04b565888e",
        "colab": {
          "base_uri": "https://localhost:8080/",
          "height": 71
        }
      },
      "source": [
        "pd.isnull(ser_3) # Verifica a existencia de nulos (NaN) na série."
      ],
      "execution_count": 173,
      "outputs": [
        {
          "output_type": "execute_result",
          "data": {
            "text/plain": [
              "família    False\n",
              "comidas    False\n",
              "dtype: bool"
            ]
          },
          "metadata": {
            "tags": []
          },
          "execution_count": 173
        }
      ]
    },
    {
      "cell_type": "markdown",
      "metadata": {
        "id": "6uM0l3YNTloj"
      },
      "source": [
        "## Dataframe => Utilização da biblioteca Pandas"
      ]
    },
    {
      "cell_type": "code",
      "metadata": {
        "id": "sqh4OJtJTH1j",
        "outputId": "382ef7a4-bc67-4a05-a146-6994636303cc",
        "colab": {
          "base_uri": "https://localhost:8080/",
          "height": 161
        }
      },
      "source": [
        "info = {'estado' : ['MG', 'MG', 'MG', 'SP', 'SP'],\n",
        "        'ano' : [2012, 2013, 2014, 2014, 2015],\n",
        "        'pop' : [5.0, 5.1, 5.2, 4.0, 4.1]}       # Cria uma estrutura complexa de dados (objeto = dicionário de tuplas de listas).\n",
        "print(type(info))                                # Exibe o tipo do objeto.\n",
        "df = DataFrame(info)                             # Converte o objeto criado em um dataframde do Pandas.\n",
        "print(type(df))                                  # Exibe o tipo do objeto criado pelo Pandas.\n",
        "print(df)                                        # Exibe o conteúdo do objeto (dataframe)."
      ],
      "execution_count": 174,
      "outputs": [
        {
          "output_type": "stream",
          "text": [
            "<class 'dict'>\n",
            "<class 'pandas.core.frame.DataFrame'>\n",
            "  estado   ano  pop\n",
            "0     MG  2012  5.0\n",
            "1     MG  2013  5.1\n",
            "2     MG  2014  5.2\n",
            "3     SP  2014  4.0\n",
            "4     SP  2015  4.1\n"
          ],
          "name": "stdout"
        }
      ]
    },
    {
      "cell_type": "code",
      "metadata": {
        "id": "Z_iFFDT3S403",
        "outputId": "77581cc4-be79-417f-b192-ceda2c8caf02",
        "colab": {
          "base_uri": "https://localhost:8080/",
          "height": 204
        }
      },
      "source": [
        "df = DataFrame(info, columns=['ano', 'estado', 'pop', 'desempregados']) # Acrescenta nova coluna ao dataframe.\n",
        "df"
      ],
      "execution_count": 175,
      "outputs": [
        {
          "output_type": "execute_result",
          "data": {
            "text/html": [
              "<div>\n",
              "<style scoped>\n",
              "    .dataframe tbody tr th:only-of-type {\n",
              "        vertical-align: middle;\n",
              "    }\n",
              "\n",
              "    .dataframe tbody tr th {\n",
              "        vertical-align: top;\n",
              "    }\n",
              "\n",
              "    .dataframe thead th {\n",
              "        text-align: right;\n",
              "    }\n",
              "</style>\n",
              "<table border=\"1\" class=\"dataframe\">\n",
              "  <thead>\n",
              "    <tr style=\"text-align: right;\">\n",
              "      <th></th>\n",
              "      <th>ano</th>\n",
              "      <th>estado</th>\n",
              "      <th>pop</th>\n",
              "      <th>desempregados</th>\n",
              "    </tr>\n",
              "  </thead>\n",
              "  <tbody>\n",
              "    <tr>\n",
              "      <th>0</th>\n",
              "      <td>2012</td>\n",
              "      <td>MG</td>\n",
              "      <td>5.0</td>\n",
              "      <td>NaN</td>\n",
              "    </tr>\n",
              "    <tr>\n",
              "      <th>1</th>\n",
              "      <td>2013</td>\n",
              "      <td>MG</td>\n",
              "      <td>5.1</td>\n",
              "      <td>NaN</td>\n",
              "    </tr>\n",
              "    <tr>\n",
              "      <th>2</th>\n",
              "      <td>2014</td>\n",
              "      <td>MG</td>\n",
              "      <td>5.2</td>\n",
              "      <td>NaN</td>\n",
              "    </tr>\n",
              "    <tr>\n",
              "      <th>3</th>\n",
              "      <td>2014</td>\n",
              "      <td>SP</td>\n",
              "      <td>4.0</td>\n",
              "      <td>NaN</td>\n",
              "    </tr>\n",
              "    <tr>\n",
              "      <th>4</th>\n",
              "      <td>2015</td>\n",
              "      <td>SP</td>\n",
              "      <td>4.1</td>\n",
              "      <td>NaN</td>\n",
              "    </tr>\n",
              "  </tbody>\n",
              "</table>\n",
              "</div>"
            ],
            "text/plain": [
              "    ano estado  pop desempregados\n",
              "0  2012     MG  5.0           NaN\n",
              "1  2013     MG  5.1           NaN\n",
              "2  2014     MG  5.2           NaN\n",
              "3  2014     SP  4.0           NaN\n",
              "4  2015     SP  4.1           NaN"
            ]
          },
          "metadata": {
            "tags": []
          },
          "execution_count": 175
        }
      ]
    },
    {
      "cell_type": "code",
      "metadata": {
        "id": "j6BnS3f-Vr5h",
        "outputId": "49e0f1f4-1df1-486d-8ba5-2b0d3f9eec7c",
        "colab": {
          "base_uri": "https://localhost:8080/",
          "height": 233
        }
      },
      "source": [
        "print(df['ano'])          # Exibe uma coluna específica do dataframe tratando a mesma como um vetores. \n",
        "print(df.desempregados)   # Exibe uma coluna específica do dataframe tratando a mesma como um objeto."
      ],
      "execution_count": 176,
      "outputs": [
        {
          "output_type": "stream",
          "text": [
            "0    2012\n",
            "1    2013\n",
            "2    2014\n",
            "3    2014\n",
            "4    2015\n",
            "Name: ano, dtype: int64\n",
            "0    NaN\n",
            "1    NaN\n",
            "2    NaN\n",
            "3    NaN\n",
            "4    NaN\n",
            "Name: desempregados, dtype: object\n"
          ],
          "name": "stdout"
        }
      ]
    },
    {
      "cell_type": "code",
      "metadata": {
        "id": "o2aev0S9V81L",
        "outputId": "5b9cdaf5-ea00-42a4-a023-6286c4fa5183",
        "colab": {
          "base_uri": "https://localhost:8080/",
          "height": 107
        }
      },
      "source": [
        "df.iloc[4] # Exibe o conteúdo da linha do dataframe indicada pelo índice especificado no método \"iloc\".  "
      ],
      "execution_count": 177,
      "outputs": [
        {
          "output_type": "execute_result",
          "data": {
            "text/plain": [
              "ano              2015\n",
              "estado             SP\n",
              "pop               4.1\n",
              "desempregados     NaN\n",
              "Name: 4, dtype: object"
            ]
          },
          "metadata": {
            "tags": []
          },
          "execution_count": 177
        }
      ]
    },
    {
      "cell_type": "code",
      "metadata": {
        "id": "kNULdXkwWSY6",
        "outputId": "9b0e9223-bcd7-481e-ed0d-e44d9d5ca360",
        "colab": {
          "base_uri": "https://localhost:8080/",
          "height": 35
        }
      },
      "source": [
        "type(df.iloc[4])  # Exibe o tipo da linha indicada na função \"iloc\" (obs: como os tipos das colunas em um dataframe variam, as linhas tornam-se séries)."
      ],
      "execution_count": 178,
      "outputs": [
        {
          "output_type": "execute_result",
          "data": {
            "text/plain": [
              "pandas.core.series.Series"
            ]
          },
          "metadata": {
            "tags": []
          },
          "execution_count": 178
        }
      ]
    },
    {
      "cell_type": "code",
      "metadata": {
        "id": "NiGA84CsWdpe",
        "outputId": "e6f3d2b9-63bf-4c64-d983-1ead02ab03a9",
        "colab": {
          "base_uri": "https://localhost:8080/",
          "height": 204
        }
      },
      "source": [
        "df.desempregados = np.random.rand(5) * 1000000 # Atribui valor à coluna \"desempregados\" usando uma função randômica para gerar 5 números aleatórios e multiplica-los por um valor escalar (1 milhão). \n",
        "df"
      ],
      "execution_count": 179,
      "outputs": [
        {
          "output_type": "execute_result",
          "data": {
            "text/html": [
              "<div>\n",
              "<style scoped>\n",
              "    .dataframe tbody tr th:only-of-type {\n",
              "        vertical-align: middle;\n",
              "    }\n",
              "\n",
              "    .dataframe tbody tr th {\n",
              "        vertical-align: top;\n",
              "    }\n",
              "\n",
              "    .dataframe thead th {\n",
              "        text-align: right;\n",
              "    }\n",
              "</style>\n",
              "<table border=\"1\" class=\"dataframe\">\n",
              "  <thead>\n",
              "    <tr style=\"text-align: right;\">\n",
              "      <th></th>\n",
              "      <th>ano</th>\n",
              "      <th>estado</th>\n",
              "      <th>pop</th>\n",
              "      <th>desempregados</th>\n",
              "    </tr>\n",
              "  </thead>\n",
              "  <tbody>\n",
              "    <tr>\n",
              "      <th>0</th>\n",
              "      <td>2012</td>\n",
              "      <td>MG</td>\n",
              "      <td>5.0</td>\n",
              "      <td>445660.588815</td>\n",
              "    </tr>\n",
              "    <tr>\n",
              "      <th>1</th>\n",
              "      <td>2013</td>\n",
              "      <td>MG</td>\n",
              "      <td>5.1</td>\n",
              "      <td>19975.898582</td>\n",
              "    </tr>\n",
              "    <tr>\n",
              "      <th>2</th>\n",
              "      <td>2014</td>\n",
              "      <td>MG</td>\n",
              "      <td>5.2</td>\n",
              "      <td>245256.294470</td>\n",
              "    </tr>\n",
              "    <tr>\n",
              "      <th>3</th>\n",
              "      <td>2014</td>\n",
              "      <td>SP</td>\n",
              "      <td>4.0</td>\n",
              "      <td>687059.804890</td>\n",
              "    </tr>\n",
              "    <tr>\n",
              "      <th>4</th>\n",
              "      <td>2015</td>\n",
              "      <td>SP</td>\n",
              "      <td>4.1</td>\n",
              "      <td>584159.352718</td>\n",
              "    </tr>\n",
              "  </tbody>\n",
              "</table>\n",
              "</div>"
            ],
            "text/plain": [
              "    ano estado  pop  desempregados\n",
              "0  2012     MG  5.0  445660.588815\n",
              "1  2013     MG  5.1   19975.898582\n",
              "2  2014     MG  5.2  245256.294470\n",
              "3  2014     SP  4.0  687059.804890\n",
              "4  2015     SP  4.1  584159.352718"
            ]
          },
          "metadata": {
            "tags": []
          },
          "execution_count": 179
        }
      ]
    },
    {
      "cell_type": "code",
      "metadata": {
        "id": "TD6FiiVrW7Ou",
        "outputId": "83254d7d-57e1-4669-c086-27e74088fa24",
        "colab": {
          "base_uri": "https://localhost:8080/",
          "height": 204
        }
      },
      "source": [
        "df.desempregados = df.desempregados.astype(int) # Converte o tipo da coluna \"desempregados\" (de real para inteiro).\n",
        "df"
      ],
      "execution_count": 180,
      "outputs": [
        {
          "output_type": "execute_result",
          "data": {
            "text/html": [
              "<div>\n",
              "<style scoped>\n",
              "    .dataframe tbody tr th:only-of-type {\n",
              "        vertical-align: middle;\n",
              "    }\n",
              "\n",
              "    .dataframe tbody tr th {\n",
              "        vertical-align: top;\n",
              "    }\n",
              "\n",
              "    .dataframe thead th {\n",
              "        text-align: right;\n",
              "    }\n",
              "</style>\n",
              "<table border=\"1\" class=\"dataframe\">\n",
              "  <thead>\n",
              "    <tr style=\"text-align: right;\">\n",
              "      <th></th>\n",
              "      <th>ano</th>\n",
              "      <th>estado</th>\n",
              "      <th>pop</th>\n",
              "      <th>desempregados</th>\n",
              "    </tr>\n",
              "  </thead>\n",
              "  <tbody>\n",
              "    <tr>\n",
              "      <th>0</th>\n",
              "      <td>2012</td>\n",
              "      <td>MG</td>\n",
              "      <td>5.0</td>\n",
              "      <td>445660</td>\n",
              "    </tr>\n",
              "    <tr>\n",
              "      <th>1</th>\n",
              "      <td>2013</td>\n",
              "      <td>MG</td>\n",
              "      <td>5.1</td>\n",
              "      <td>19975</td>\n",
              "    </tr>\n",
              "    <tr>\n",
              "      <th>2</th>\n",
              "      <td>2014</td>\n",
              "      <td>MG</td>\n",
              "      <td>5.2</td>\n",
              "      <td>245256</td>\n",
              "    </tr>\n",
              "    <tr>\n",
              "      <th>3</th>\n",
              "      <td>2014</td>\n",
              "      <td>SP</td>\n",
              "      <td>4.0</td>\n",
              "      <td>687059</td>\n",
              "    </tr>\n",
              "    <tr>\n",
              "      <th>4</th>\n",
              "      <td>2015</td>\n",
              "      <td>SP</td>\n",
              "      <td>4.1</td>\n",
              "      <td>584159</td>\n",
              "    </tr>\n",
              "  </tbody>\n",
              "</table>\n",
              "</div>"
            ],
            "text/plain": [
              "    ano estado  pop  desempregados\n",
              "0  2012     MG  5.0         445660\n",
              "1  2013     MG  5.1          19975\n",
              "2  2014     MG  5.2         245256\n",
              "3  2014     SP  4.0         687059\n",
              "4  2015     SP  4.1         584159"
            ]
          },
          "metadata": {
            "tags": []
          },
          "execution_count": 180
        }
      ]
    },
    {
      "cell_type": "code",
      "metadata": {
        "id": "fbn7OfLLXj7Y",
        "outputId": "4ce6f3bf-1a42-4261-dadf-27bc77ef6ae9",
        "colab": {
          "base_uri": "https://localhost:8080/",
          "height": 204
        }
      },
      "source": [
        "desempregados = Series([454333, 232111, 242422], index=[2, 3, 4]) # Cria uma série (objeto) definindo valores e índices. \n",
        "df.desempregados = desempregados                                  # Atribui o conteúdo da série criada sobre parte da coluna do dataframe (correspondente aos índices).\n",
        "df"
      ],
      "execution_count": 181,
      "outputs": [
        {
          "output_type": "execute_result",
          "data": {
            "text/html": [
              "<div>\n",
              "<style scoped>\n",
              "    .dataframe tbody tr th:only-of-type {\n",
              "        vertical-align: middle;\n",
              "    }\n",
              "\n",
              "    .dataframe tbody tr th {\n",
              "        vertical-align: top;\n",
              "    }\n",
              "\n",
              "    .dataframe thead th {\n",
              "        text-align: right;\n",
              "    }\n",
              "</style>\n",
              "<table border=\"1\" class=\"dataframe\">\n",
              "  <thead>\n",
              "    <tr style=\"text-align: right;\">\n",
              "      <th></th>\n",
              "      <th>ano</th>\n",
              "      <th>estado</th>\n",
              "      <th>pop</th>\n",
              "      <th>desempregados</th>\n",
              "    </tr>\n",
              "  </thead>\n",
              "  <tbody>\n",
              "    <tr>\n",
              "      <th>0</th>\n",
              "      <td>2012</td>\n",
              "      <td>MG</td>\n",
              "      <td>5.0</td>\n",
              "      <td>NaN</td>\n",
              "    </tr>\n",
              "    <tr>\n",
              "      <th>1</th>\n",
              "      <td>2013</td>\n",
              "      <td>MG</td>\n",
              "      <td>5.1</td>\n",
              "      <td>NaN</td>\n",
              "    </tr>\n",
              "    <tr>\n",
              "      <th>2</th>\n",
              "      <td>2014</td>\n",
              "      <td>MG</td>\n",
              "      <td>5.2</td>\n",
              "      <td>454333.0</td>\n",
              "    </tr>\n",
              "    <tr>\n",
              "      <th>3</th>\n",
              "      <td>2014</td>\n",
              "      <td>SP</td>\n",
              "      <td>4.0</td>\n",
              "      <td>232111.0</td>\n",
              "    </tr>\n",
              "    <tr>\n",
              "      <th>4</th>\n",
              "      <td>2015</td>\n",
              "      <td>SP</td>\n",
              "      <td>4.1</td>\n",
              "      <td>242422.0</td>\n",
              "    </tr>\n",
              "  </tbody>\n",
              "</table>\n",
              "</div>"
            ],
            "text/plain": [
              "    ano estado  pop  desempregados\n",
              "0  2012     MG  5.0            NaN\n",
              "1  2013     MG  5.1            NaN\n",
              "2  2014     MG  5.2       454333.0\n",
              "3  2014     SP  4.0       232111.0\n",
              "4  2015     SP  4.1       242422.0"
            ]
          },
          "metadata": {
            "tags": []
          },
          "execution_count": 181
        }
      ]
    },
    {
      "cell_type": "code",
      "metadata": {
        "id": "D5AvJtkqYfEW",
        "outputId": "64796cb5-c319-45fc-9e26-2d31ac7f5aa8",
        "colab": {
          "base_uri": "https://localhost:8080/",
          "height": 204
        }
      },
      "source": [
        "df['nonsense'] = df.ano * df.desempregados # Cria uma nova coluna (ridúcula) no dataframe (obs: só pra apagar depois... KKKK!)\n",
        "df"
      ],
      "execution_count": 182,
      "outputs": [
        {
          "output_type": "execute_result",
          "data": {
            "text/html": [
              "<div>\n",
              "<style scoped>\n",
              "    .dataframe tbody tr th:only-of-type {\n",
              "        vertical-align: middle;\n",
              "    }\n",
              "\n",
              "    .dataframe tbody tr th {\n",
              "        vertical-align: top;\n",
              "    }\n",
              "\n",
              "    .dataframe thead th {\n",
              "        text-align: right;\n",
              "    }\n",
              "</style>\n",
              "<table border=\"1\" class=\"dataframe\">\n",
              "  <thead>\n",
              "    <tr style=\"text-align: right;\">\n",
              "      <th></th>\n",
              "      <th>ano</th>\n",
              "      <th>estado</th>\n",
              "      <th>pop</th>\n",
              "      <th>desempregados</th>\n",
              "      <th>nonsense</th>\n",
              "    </tr>\n",
              "  </thead>\n",
              "  <tbody>\n",
              "    <tr>\n",
              "      <th>0</th>\n",
              "      <td>2012</td>\n",
              "      <td>MG</td>\n",
              "      <td>5.0</td>\n",
              "      <td>NaN</td>\n",
              "      <td>NaN</td>\n",
              "    </tr>\n",
              "    <tr>\n",
              "      <th>1</th>\n",
              "      <td>2013</td>\n",
              "      <td>MG</td>\n",
              "      <td>5.1</td>\n",
              "      <td>NaN</td>\n",
              "      <td>NaN</td>\n",
              "    </tr>\n",
              "    <tr>\n",
              "      <th>2</th>\n",
              "      <td>2014</td>\n",
              "      <td>MG</td>\n",
              "      <td>5.2</td>\n",
              "      <td>454333.0</td>\n",
              "      <td>915026662.0</td>\n",
              "    </tr>\n",
              "    <tr>\n",
              "      <th>3</th>\n",
              "      <td>2014</td>\n",
              "      <td>SP</td>\n",
              "      <td>4.0</td>\n",
              "      <td>232111.0</td>\n",
              "      <td>467471554.0</td>\n",
              "    </tr>\n",
              "    <tr>\n",
              "      <th>4</th>\n",
              "      <td>2015</td>\n",
              "      <td>SP</td>\n",
              "      <td>4.1</td>\n",
              "      <td>242422.0</td>\n",
              "      <td>488480330.0</td>\n",
              "    </tr>\n",
              "  </tbody>\n",
              "</table>\n",
              "</div>"
            ],
            "text/plain": [
              "    ano estado  pop  desempregados     nonsense\n",
              "0  2012     MG  5.0            NaN          NaN\n",
              "1  2013     MG  5.1            NaN          NaN\n",
              "2  2014     MG  5.2       454333.0  915026662.0\n",
              "3  2014     SP  4.0       232111.0  467471554.0\n",
              "4  2015     SP  4.1       242422.0  488480330.0"
            ]
          },
          "metadata": {
            "tags": []
          },
          "execution_count": 182
        }
      ]
    },
    {
      "cell_type": "code",
      "metadata": {
        "id": "l30qF_ZoYpHw",
        "outputId": "3e144920-88a3-4b7c-ad15-51c0880578c3",
        "colab": {
          "base_uri": "https://localhost:8080/",
          "height": 204
        }
      },
      "source": [
        "del df['nonsense']  # Remove a coluna criada (KKKK!) \n",
        "df"
      ],
      "execution_count": 183,
      "outputs": [
        {
          "output_type": "execute_result",
          "data": {
            "text/html": [
              "<div>\n",
              "<style scoped>\n",
              "    .dataframe tbody tr th:only-of-type {\n",
              "        vertical-align: middle;\n",
              "    }\n",
              "\n",
              "    .dataframe tbody tr th {\n",
              "        vertical-align: top;\n",
              "    }\n",
              "\n",
              "    .dataframe thead th {\n",
              "        text-align: right;\n",
              "    }\n",
              "</style>\n",
              "<table border=\"1\" class=\"dataframe\">\n",
              "  <thead>\n",
              "    <tr style=\"text-align: right;\">\n",
              "      <th></th>\n",
              "      <th>ano</th>\n",
              "      <th>estado</th>\n",
              "      <th>pop</th>\n",
              "      <th>desempregados</th>\n",
              "    </tr>\n",
              "  </thead>\n",
              "  <tbody>\n",
              "    <tr>\n",
              "      <th>0</th>\n",
              "      <td>2012</td>\n",
              "      <td>MG</td>\n",
              "      <td>5.0</td>\n",
              "      <td>NaN</td>\n",
              "    </tr>\n",
              "    <tr>\n",
              "      <th>1</th>\n",
              "      <td>2013</td>\n",
              "      <td>MG</td>\n",
              "      <td>5.1</td>\n",
              "      <td>NaN</td>\n",
              "    </tr>\n",
              "    <tr>\n",
              "      <th>2</th>\n",
              "      <td>2014</td>\n",
              "      <td>MG</td>\n",
              "      <td>5.2</td>\n",
              "      <td>454333.0</td>\n",
              "    </tr>\n",
              "    <tr>\n",
              "      <th>3</th>\n",
              "      <td>2014</td>\n",
              "      <td>SP</td>\n",
              "      <td>4.0</td>\n",
              "      <td>232111.0</td>\n",
              "    </tr>\n",
              "    <tr>\n",
              "      <th>4</th>\n",
              "      <td>2015</td>\n",
              "      <td>SP</td>\n",
              "      <td>4.1</td>\n",
              "      <td>242422.0</td>\n",
              "    </tr>\n",
              "  </tbody>\n",
              "</table>\n",
              "</div>"
            ],
            "text/plain": [
              "    ano estado  pop  desempregados\n",
              "0  2012     MG  5.0            NaN\n",
              "1  2013     MG  5.1            NaN\n",
              "2  2014     MG  5.2       454333.0\n",
              "3  2014     SP  4.0       232111.0\n",
              "4  2015     SP  4.1       242422.0"
            ]
          },
          "metadata": {
            "tags": []
          },
          "execution_count": 183
        }
      ]
    },
    {
      "cell_type": "code",
      "metadata": {
        "id": "2F74_JPeY2Be",
        "outputId": "6269dbe2-c2bf-4498-abba-f1a02dc99776",
        "colab": {
          "base_uri": "https://localhost:8080/",
          "height": 204
        }
      },
      "source": [
        "df2 = df[['ano','pop']]   # Cria um novo dataframe composto por um subconjunto de colunas do dataframe original (obs: o índice do dataframe é uma lista de colunas).\n",
        "df2"
      ],
      "execution_count": 184,
      "outputs": [
        {
          "output_type": "execute_result",
          "data": {
            "text/html": [
              "<div>\n",
              "<style scoped>\n",
              "    .dataframe tbody tr th:only-of-type {\n",
              "        vertical-align: middle;\n",
              "    }\n",
              "\n",
              "    .dataframe tbody tr th {\n",
              "        vertical-align: top;\n",
              "    }\n",
              "\n",
              "    .dataframe thead th {\n",
              "        text-align: right;\n",
              "    }\n",
              "</style>\n",
              "<table border=\"1\" class=\"dataframe\">\n",
              "  <thead>\n",
              "    <tr style=\"text-align: right;\">\n",
              "      <th></th>\n",
              "      <th>ano</th>\n",
              "      <th>pop</th>\n",
              "    </tr>\n",
              "  </thead>\n",
              "  <tbody>\n",
              "    <tr>\n",
              "      <th>0</th>\n",
              "      <td>2012</td>\n",
              "      <td>5.0</td>\n",
              "    </tr>\n",
              "    <tr>\n",
              "      <th>1</th>\n",
              "      <td>2013</td>\n",
              "      <td>5.1</td>\n",
              "    </tr>\n",
              "    <tr>\n",
              "      <th>2</th>\n",
              "      <td>2014</td>\n",
              "      <td>5.2</td>\n",
              "    </tr>\n",
              "    <tr>\n",
              "      <th>3</th>\n",
              "      <td>2014</td>\n",
              "      <td>4.0</td>\n",
              "    </tr>\n",
              "    <tr>\n",
              "      <th>4</th>\n",
              "      <td>2015</td>\n",
              "      <td>4.1</td>\n",
              "    </tr>\n",
              "  </tbody>\n",
              "</table>\n",
              "</div>"
            ],
            "text/plain": [
              "    ano  pop\n",
              "0  2012  5.0\n",
              "1  2013  5.1\n",
              "2  2014  5.2\n",
              "3  2014  4.0\n",
              "4  2015  4.1"
            ]
          },
          "metadata": {
            "tags": []
          },
          "execution_count": 184
        }
      ]
    },
    {
      "cell_type": "code",
      "metadata": {
        "id": "GIJWVRUiZC8U",
        "outputId": "8fd2626c-9a45-4ff2-ee6b-96ae7e985c3d",
        "colab": {
          "base_uri": "https://localhost:8080/",
          "height": 111
        }
      },
      "source": [
        "df2.T # Exibe a transposição do dataframe (função \"T\" = tranposição da matrizes)."
      ],
      "execution_count": 185,
      "outputs": [
        {
          "output_type": "execute_result",
          "data": {
            "text/html": [
              "<div>\n",
              "<style scoped>\n",
              "    .dataframe tbody tr th:only-of-type {\n",
              "        vertical-align: middle;\n",
              "    }\n",
              "\n",
              "    .dataframe tbody tr th {\n",
              "        vertical-align: top;\n",
              "    }\n",
              "\n",
              "    .dataframe thead th {\n",
              "        text-align: right;\n",
              "    }\n",
              "</style>\n",
              "<table border=\"1\" class=\"dataframe\">\n",
              "  <thead>\n",
              "    <tr style=\"text-align: right;\">\n",
              "      <th></th>\n",
              "      <th>0</th>\n",
              "      <th>1</th>\n",
              "      <th>2</th>\n",
              "      <th>3</th>\n",
              "      <th>4</th>\n",
              "    </tr>\n",
              "  </thead>\n",
              "  <tbody>\n",
              "    <tr>\n",
              "      <th>ano</th>\n",
              "      <td>2012.0</td>\n",
              "      <td>2013.0</td>\n",
              "      <td>2014.0</td>\n",
              "      <td>2014.0</td>\n",
              "      <td>2015.0</td>\n",
              "    </tr>\n",
              "    <tr>\n",
              "      <th>pop</th>\n",
              "      <td>5.0</td>\n",
              "      <td>5.1</td>\n",
              "      <td>5.2</td>\n",
              "      <td>4.0</td>\n",
              "      <td>4.1</td>\n",
              "    </tr>\n",
              "  </tbody>\n",
              "</table>\n",
              "</div>"
            ],
            "text/plain": [
              "          0       1       2       3       4\n",
              "ano  2012.0  2013.0  2014.0  2014.0  2015.0\n",
              "pop     5.0     5.1     5.2     4.0     4.1"
            ]
          },
          "metadata": {
            "tags": []
          },
          "execution_count": 185
        }
      ]
    },
    {
      "cell_type": "code",
      "metadata": {
        "id": "ddVqemygZVAU",
        "outputId": "de956bd0-9cb1-4e24-8f2a-e4aa843349aa",
        "colab": {
          "base_uri": "https://localhost:8080/",
          "height": 107
        }
      },
      "source": [
        "df.values  # Exibe o dataframe como um array de listas."
      ],
      "execution_count": 186,
      "outputs": [
        {
          "output_type": "execute_result",
          "data": {
            "text/plain": [
              "array([[2012, 'MG', 5.0, nan],\n",
              "       [2013, 'MG', 5.1, nan],\n",
              "       [2014, 'MG', 5.2, 454333.0],\n",
              "       [2014, 'SP', 4.0, 232111.0],\n",
              "       [2015, 'SP', 4.1, 242422.0]], dtype=object)"
            ]
          },
          "metadata": {
            "tags": []
          },
          "execution_count": 186
        }
      ]
    },
    {
      "cell_type": "code",
      "metadata": {
        "id": "aE2nhfH6ZdQA",
        "outputId": "344062ac-e387-4f6b-d52e-bd2451b6fe23",
        "colab": {
          "base_uri": "https://localhost:8080/",
          "height": 35
        }
      },
      "source": [
        "type(df.values) # Confirma o tipo do retorno (exibição) da função \"values\"."
      ],
      "execution_count": 187,
      "outputs": [
        {
          "output_type": "execute_result",
          "data": {
            "text/plain": [
              "numpy.ndarray"
            ]
          },
          "metadata": {
            "tags": []
          },
          "execution_count": 187
        }
      ]
    },
    {
      "cell_type": "code",
      "metadata": {
        "id": "LQ0pm6h0ZxEI",
        "outputId": "8befd6d6-68af-4a55-9def-f335b23cec4f",
        "colab": {
          "base_uri": "https://localhost:8080/",
          "height": 142
        }
      },
      "source": [
        "df2 = df.copy() # Copia o conteúdo do dataframe original criando um novo dataframe (obs: sem a função \"copy\" o novo objeto faz apenas uma referencia ao objeto original).\n",
        "df.drop([0, 1]) # Elimina as linhas indicadas pela lista de índices (dataframe original)."
      ],
      "execution_count": 188,
      "outputs": [
        {
          "output_type": "execute_result",
          "data": {
            "text/html": [
              "<div>\n",
              "<style scoped>\n",
              "    .dataframe tbody tr th:only-of-type {\n",
              "        vertical-align: middle;\n",
              "    }\n",
              "\n",
              "    .dataframe tbody tr th {\n",
              "        vertical-align: top;\n",
              "    }\n",
              "\n",
              "    .dataframe thead th {\n",
              "        text-align: right;\n",
              "    }\n",
              "</style>\n",
              "<table border=\"1\" class=\"dataframe\">\n",
              "  <thead>\n",
              "    <tr style=\"text-align: right;\">\n",
              "      <th></th>\n",
              "      <th>ano</th>\n",
              "      <th>estado</th>\n",
              "      <th>pop</th>\n",
              "      <th>desempregados</th>\n",
              "    </tr>\n",
              "  </thead>\n",
              "  <tbody>\n",
              "    <tr>\n",
              "      <th>2</th>\n",
              "      <td>2014</td>\n",
              "      <td>MG</td>\n",
              "      <td>5.2</td>\n",
              "      <td>454333.0</td>\n",
              "    </tr>\n",
              "    <tr>\n",
              "      <th>3</th>\n",
              "      <td>2014</td>\n",
              "      <td>SP</td>\n",
              "      <td>4.0</td>\n",
              "      <td>232111.0</td>\n",
              "    </tr>\n",
              "    <tr>\n",
              "      <th>4</th>\n",
              "      <td>2015</td>\n",
              "      <td>SP</td>\n",
              "      <td>4.1</td>\n",
              "      <td>242422.0</td>\n",
              "    </tr>\n",
              "  </tbody>\n",
              "</table>\n",
              "</div>"
            ],
            "text/plain": [
              "    ano estado  pop  desempregados\n",
              "2  2014     MG  5.2       454333.0\n",
              "3  2014     SP  4.0       232111.0\n",
              "4  2015     SP  4.1       242422.0"
            ]
          },
          "metadata": {
            "tags": []
          },
          "execution_count": 188
        }
      ]
    },
    {
      "cell_type": "code",
      "metadata": {
        "id": "H8t1OsD3Z_dN",
        "outputId": "8abc3eb2-7b2e-4f29-8b88-bcc1d00d5d3f",
        "colab": {
          "base_uri": "https://localhost:8080/",
          "height": 204
        }
      },
      "source": [
        "df2"
      ],
      "execution_count": 189,
      "outputs": [
        {
          "output_type": "execute_result",
          "data": {
            "text/html": [
              "<div>\n",
              "<style scoped>\n",
              "    .dataframe tbody tr th:only-of-type {\n",
              "        vertical-align: middle;\n",
              "    }\n",
              "\n",
              "    .dataframe tbody tr th {\n",
              "        vertical-align: top;\n",
              "    }\n",
              "\n",
              "    .dataframe thead th {\n",
              "        text-align: right;\n",
              "    }\n",
              "</style>\n",
              "<table border=\"1\" class=\"dataframe\">\n",
              "  <thead>\n",
              "    <tr style=\"text-align: right;\">\n",
              "      <th></th>\n",
              "      <th>ano</th>\n",
              "      <th>estado</th>\n",
              "      <th>pop</th>\n",
              "      <th>desempregados</th>\n",
              "    </tr>\n",
              "  </thead>\n",
              "  <tbody>\n",
              "    <tr>\n",
              "      <th>0</th>\n",
              "      <td>2012</td>\n",
              "      <td>MG</td>\n",
              "      <td>5.0</td>\n",
              "      <td>NaN</td>\n",
              "    </tr>\n",
              "    <tr>\n",
              "      <th>1</th>\n",
              "      <td>2013</td>\n",
              "      <td>MG</td>\n",
              "      <td>5.1</td>\n",
              "      <td>NaN</td>\n",
              "    </tr>\n",
              "    <tr>\n",
              "      <th>2</th>\n",
              "      <td>2014</td>\n",
              "      <td>MG</td>\n",
              "      <td>5.2</td>\n",
              "      <td>454333.0</td>\n",
              "    </tr>\n",
              "    <tr>\n",
              "      <th>3</th>\n",
              "      <td>2014</td>\n",
              "      <td>SP</td>\n",
              "      <td>4.0</td>\n",
              "      <td>232111.0</td>\n",
              "    </tr>\n",
              "    <tr>\n",
              "      <th>4</th>\n",
              "      <td>2015</td>\n",
              "      <td>SP</td>\n",
              "      <td>4.1</td>\n",
              "      <td>242422.0</td>\n",
              "    </tr>\n",
              "  </tbody>\n",
              "</table>\n",
              "</div>"
            ],
            "text/plain": [
              "    ano estado  pop  desempregados\n",
              "0  2012     MG  5.0            NaN\n",
              "1  2013     MG  5.1            NaN\n",
              "2  2014     MG  5.2       454333.0\n",
              "3  2014     SP  4.0       232111.0\n",
              "4  2015     SP  4.1       242422.0"
            ]
          },
          "metadata": {
            "tags": []
          },
          "execution_count": 189
        }
      ]
    },
    {
      "cell_type": "code",
      "metadata": {
        "id": "IFUApmbYawTu",
        "outputId": "b1bfdf57-966f-47d3-8e4a-9e53ae4404f6",
        "colab": {
          "base_uri": "https://localhost:8080/",
          "height": 125
        }
      },
      "source": [
        "df2.ano > 2013  # Aplica um filtro sobre uma coluna do dataframe exibindo/retornando o valor booleano resultante da expressão lógica. "
      ],
      "execution_count": 190,
      "outputs": [
        {
          "output_type": "execute_result",
          "data": {
            "text/plain": [
              "0    False\n",
              "1    False\n",
              "2     True\n",
              "3     True\n",
              "4     True\n",
              "Name: ano, dtype: bool"
            ]
          },
          "metadata": {
            "tags": []
          },
          "execution_count": 190
        }
      ]
    },
    {
      "cell_type": "code",
      "metadata": {
        "id": "mKkhps67aAqH",
        "outputId": "8dab6923-1325-42af-9339-5208b2f466fa",
        "colab": {
          "base_uri": "https://localhost:8080/",
          "height": 142
        }
      },
      "source": [
        "df2[df2.ano > 2013]  # Aplica um filtro sobre as linhas do dataframe exibindo/retornando aquelas que satisfazem a condição da expressão lógica."
      ],
      "execution_count": 191,
      "outputs": [
        {
          "output_type": "execute_result",
          "data": {
            "text/html": [
              "<div>\n",
              "<style scoped>\n",
              "    .dataframe tbody tr th:only-of-type {\n",
              "        vertical-align: middle;\n",
              "    }\n",
              "\n",
              "    .dataframe tbody tr th {\n",
              "        vertical-align: top;\n",
              "    }\n",
              "\n",
              "    .dataframe thead th {\n",
              "        text-align: right;\n",
              "    }\n",
              "</style>\n",
              "<table border=\"1\" class=\"dataframe\">\n",
              "  <thead>\n",
              "    <tr style=\"text-align: right;\">\n",
              "      <th></th>\n",
              "      <th>ano</th>\n",
              "      <th>estado</th>\n",
              "      <th>pop</th>\n",
              "      <th>desempregados</th>\n",
              "    </tr>\n",
              "  </thead>\n",
              "  <tbody>\n",
              "    <tr>\n",
              "      <th>2</th>\n",
              "      <td>2014</td>\n",
              "      <td>MG</td>\n",
              "      <td>5.2</td>\n",
              "      <td>454333.0</td>\n",
              "    </tr>\n",
              "    <tr>\n",
              "      <th>3</th>\n",
              "      <td>2014</td>\n",
              "      <td>SP</td>\n",
              "      <td>4.0</td>\n",
              "      <td>232111.0</td>\n",
              "    </tr>\n",
              "    <tr>\n",
              "      <th>4</th>\n",
              "      <td>2015</td>\n",
              "      <td>SP</td>\n",
              "      <td>4.1</td>\n",
              "      <td>242422.0</td>\n",
              "    </tr>\n",
              "  </tbody>\n",
              "</table>\n",
              "</div>"
            ],
            "text/plain": [
              "    ano estado  pop  desempregados\n",
              "2  2014     MG  5.2       454333.0\n",
              "3  2014     SP  4.0       232111.0\n",
              "4  2015     SP  4.1       242422.0"
            ]
          },
          "metadata": {
            "tags": []
          },
          "execution_count": 191
        }
      ]
    },
    {
      "cell_type": "code",
      "metadata": {
        "id": "5kpwZAgpasEl",
        "outputId": "89e28256-aa7d-476b-a614-345025b793c5",
        "colab": {
          "base_uri": "https://localhost:8080/",
          "height": 111
        }
      },
      "source": [
        "df2.iloc[2:4]  # Exibe as linhas do dataframe indicadas no intervalo entre os índices da função \"iloc\" (o útimo índice é \"exclusive\")."
      ],
      "execution_count": 192,
      "outputs": [
        {
          "output_type": "execute_result",
          "data": {
            "text/html": [
              "<div>\n",
              "<style scoped>\n",
              "    .dataframe tbody tr th:only-of-type {\n",
              "        vertical-align: middle;\n",
              "    }\n",
              "\n",
              "    .dataframe tbody tr th {\n",
              "        vertical-align: top;\n",
              "    }\n",
              "\n",
              "    .dataframe thead th {\n",
              "        text-align: right;\n",
              "    }\n",
              "</style>\n",
              "<table border=\"1\" class=\"dataframe\">\n",
              "  <thead>\n",
              "    <tr style=\"text-align: right;\">\n",
              "      <th></th>\n",
              "      <th>ano</th>\n",
              "      <th>estado</th>\n",
              "      <th>pop</th>\n",
              "      <th>desempregados</th>\n",
              "    </tr>\n",
              "  </thead>\n",
              "  <tbody>\n",
              "    <tr>\n",
              "      <th>2</th>\n",
              "      <td>2014</td>\n",
              "      <td>MG</td>\n",
              "      <td>5.2</td>\n",
              "      <td>454333.0</td>\n",
              "    </tr>\n",
              "    <tr>\n",
              "      <th>3</th>\n",
              "      <td>2014</td>\n",
              "      <td>SP</td>\n",
              "      <td>4.0</td>\n",
              "      <td>232111.0</td>\n",
              "    </tr>\n",
              "  </tbody>\n",
              "</table>\n",
              "</div>"
            ],
            "text/plain": [
              "    ano estado  pop  desempregados\n",
              "2  2014     MG  5.2       454333.0\n",
              "3  2014     SP  4.0       232111.0"
            ]
          },
          "metadata": {
            "tags": []
          },
          "execution_count": 192
        }
      ]
    },
    {
      "cell_type": "code",
      "metadata": {
        "id": "o9gLiESwbFtO",
        "outputId": "66108ced-64ee-4bed-dc83-31d45e0b6965",
        "colab": {
          "base_uri": "https://localhost:8080/",
          "height": 71
        }
      },
      "source": [
        "df2.iloc[2:4].estado # Exibe o resultado de uma combinação de filtros (aplicados às linhas e colunas simultâneamente)."
      ],
      "execution_count": 193,
      "outputs": [
        {
          "output_type": "execute_result",
          "data": {
            "text/plain": [
              "2    MG\n",
              "3    SP\n",
              "Name: estado, dtype: object"
            ]
          },
          "metadata": {
            "tags": []
          },
          "execution_count": 193
        }
      ]
    },
    {
      "cell_type": "markdown",
      "metadata": {
        "id": "CAmwWFRKbrB0"
      },
      "source": [
        "## Numpy arrays"
      ]
    },
    {
      "cell_type": "markdown",
      "metadata": {
        "id": "6OE4iNaycsLS"
      },
      "source": [
        "### Criando arrays"
      ]
    },
    {
      "cell_type": "code",
      "metadata": {
        "id": "iutsqrptbRM7",
        "outputId": "3dd2ff9c-b3f0-4bbe-85f0-bedcd1f133fb",
        "colab": {
          "base_uri": "https://localhost:8080/",
          "height": 161
        }
      },
      "source": [
        "import numpy as np\n",
        "\n",
        "a = np.array([1, 2, 3])   # Cria um vetor (array) simples com 3 elementos.\n",
        "print(type(a))            # Exibe o tipo do vetor.    \n",
        "print(a.shape)            # Exibe a dimensão do vetor.\n",
        "print(a[0], a[1], a[2])   # Exibe os elementos do vetor um a um explicitando seus índices.\n",
        "a[0] = 5                  # Atribui um valor a um elemento do vetor explicitando o seu índice.\n",
        "print(a)                  # Exibe o vetor atualizado.\n",
        "\n",
        "b = np.array([[1,2,3],[4,5,6]])    # Cria uma matriz (array de arrays).\n",
        "print(b)                           # Exibe o conteúdo da matriz (elementos).\n",
        "print(b.shape)                     # Exibe a dimensão da matriz.\n",
        "print(b[0, 0], b[0, 1], b[1, 0])   # Exibe os elementos da matriz um a um explicitando seus índices."
      ],
      "execution_count": 194,
      "outputs": [
        {
          "output_type": "stream",
          "text": [
            "<class 'numpy.ndarray'>\n",
            "(3,)\n",
            "1 2 3\n",
            "[5 2 3]\n",
            "[[1 2 3]\n",
            " [4 5 6]]\n",
            "(2, 3)\n",
            "1 2 4\n"
          ],
          "name": "stdout"
        }
      ]
    },
    {
      "cell_type": "code",
      "metadata": {
        "id": "ZJGYWKogcCOd",
        "outputId": "9dd07508-6a07-4dbc-cff8-8bdb094951bd",
        "colab": {
          "base_uri": "https://localhost:8080/",
          "height": 197
        }
      },
      "source": [
        "a = np.zeros((2,2))   #Cria matriz 2 X 2 preenchida com zeros.\n",
        "print(a)              \n",
        "                      \n",
        "\n",
        "b = np.ones((1,2))    # Cria matriz 1 X 2 preenchida com \"1s\"\n",
        "print(b)              \n",
        "\n",
        "c = np.full((2,2), 7) # Cria matriz 2 X 2 preenchida com \"7s\" (constante).\n",
        "print(c)               \n",
        "                       \n",
        "\n",
        "d = np.eye(3)         # Cria uma matriz-identidade (matriz quadrada cuja diagonal princial é preenchida com \"1s\" e o restante com \"0s\") de dimensão 3 X 3.\n",
        "print(d)              \n",
        "\n",
        "e = np.random.random((2,2))  # Cria uma matriz 2 X 2 com números aleatórios.\n",
        "print(e)                     \n",
        "                             "
      ],
      "execution_count": 195,
      "outputs": [
        {
          "output_type": "stream",
          "text": [
            "[[0. 0.]\n",
            " [0. 0.]]\n",
            "[[1. 1.]]\n",
            "[[7 7]\n",
            " [7 7]]\n",
            "[[1. 0. 0.]\n",
            " [0. 1. 0.]\n",
            " [0. 0. 1.]]\n",
            "[[0.80931021 0.1737391 ]\n",
            " [0.73415356 0.36666326]]\n"
          ],
          "name": "stdout"
        }
      ]
    },
    {
      "cell_type": "markdown",
      "metadata": {
        "id": "AXQm8X1Ocz62"
      },
      "source": [
        "### Indexando arrays"
      ]
    },
    {
      "cell_type": "code",
      "metadata": {
        "id": "odsmOQaScpGF",
        "outputId": "39ee7063-c579-426c-9ccd-8ca9bd032f1a",
        "colab": {
          "base_uri": "https://localhost:8080/",
          "height": 179
        }
      },
      "source": [
        "a = np.array([[1,2,3,4], [5,6,7,8], [9,10,11,12]]) # Cria matriz 3 X 4.\n",
        "print(a)\n",
        "\n",
        "# Usando slicing para obter sub-array com as primeiras 2 linhas\n",
        "# e as colunas 1 e 2\n",
        "\n",
        "b = a[:2, 1:3]    # Abribui para \"b\" um recorte da matriz \"a\" de dimensão 2 X 2 (linhas 0 e 1 , colunas 1 e 2).\n",
        "print(b)\n",
        "\n",
        "# Uma fatia de um array é uma VISÃO desse mesmo array. Isso significa\n",
        "# que modificar um elemento de \"b\" mudará o valor em \"a\".\n",
        "\n",
        "print(a[0, 1])    # Exibe o elemento da primeira linha e segunda coluna da matriz \"a\".\n",
        "b[0, 0] = 77      # Atribui o valor \"77\" ao elemento da primeira linha e primeira coluna na matriz \"b\" gerada a partir de \"a\".\n",
        "print(a[0, 1])    # \n",
        "\n",
        "c = a[:2, 1:3].copy()\n",
        "print(c)"
      ],
      "execution_count": 196,
      "outputs": [
        {
          "output_type": "stream",
          "text": [
            "[[ 1  2  3  4]\n",
            " [ 5  6  7  8]\n",
            " [ 9 10 11 12]]\n",
            "[[2 3]\n",
            " [6 7]]\n",
            "2\n",
            "77\n",
            "[[77  3]\n",
            " [ 6  7]]\n"
          ],
          "name": "stdout"
        }
      ]
    },
    {
      "cell_type": "code",
      "metadata": {
        "id": "KgIwVMpNMDnM",
        "outputId": "464f220e-459d-402e-8e94-80766b5d6eed",
        "colab": {
          "base_uri": "https://localhost:8080/",
          "height": 179
        }
      },
      "source": [
        "a = np.array([[1,2,3,4], [5,6,7,8], [9,10,11,12]]) # Cria matriz 3 X 4.\n",
        "print(a)\n",
        "\n",
        "# Usando slicing para obter sub-array com as primeiras 2 linhas\n",
        "# e as colunas 1 e 2\n",
        "\n",
        "b = a[:2, 1:3]    # Abribui para \"b\" um recorte da matriz \"a\" de dimensão 2 X 2 (linhas 0 e 1 , colunas 1 e 2).\n",
        "print(b)\n",
        "\n",
        "# Uma fatia de um array é uma VISÃO desse mesmo array. Isso significa\n",
        "# que modificar um elemento de \"b\" mudará o valor em \"a\".\n",
        "\n",
        "print(a[0, 1])    # Exibe o elemento da primeira linha e segunda coluna da matriz \"a\".\n",
        "b[0, 0] = 77      # Atribui o valor \"77\" ao elemento da primeira linha e primeira coluna na matriz \"b\" gerada a partir de \"a\".\n",
        "print(a[0, 1])    # \n",
        "\n",
        "c = a[:2, 1:3].copy()\n",
        "print(c)"
      ],
      "execution_count": 197,
      "outputs": [
        {
          "output_type": "stream",
          "text": [
            "[[ 1  2  3  4]\n",
            " [ 5  6  7  8]\n",
            " [ 9 10 11 12]]\n",
            "[[2 3]\n",
            " [6 7]]\n",
            "2\n",
            "77\n",
            "[[77  3]\n",
            " [ 6  7]]\n"
          ],
          "name": "stdout"
        }
      ]
    },
    {
      "cell_type": "code",
      "metadata": {
        "id": "5R3IWU0mMEzL",
        "outputId": "33ebfc71-afad-467c-9349-2887a1a391a0",
        "colab": {
          "base_uri": "https://localhost:8080/",
          "height": 179
        }
      },
      "source": [
        "a = np.array([[1,2,3,4], [5,6,7,8], [9,10,11,12]]) # Cria matriz 3 X 4.\n",
        "print(a)\n",
        "\n",
        "# Usando slicing para obter sub-array com as primeiras 2 linhas\n",
        "# e as colunas 1 e 2\n",
        "\n",
        "b = a[:2, 1:3]    # Abribui para \"b\" um recorte da matriz \"a\" de dimensão 2 X 2 (linhas 0 e 1 , colunas 1 e 2).\n",
        "print(b)\n",
        "\n",
        "# Uma fatia de um array é uma VISÃO desse mesmo array. Isso significa\n",
        "# que modificar um elemento de \"b\" mudará o valor em \"a\".\n",
        "\n",
        "print(a[0, 1])    # Exibe o elemento da linha 0 (primeira linha) e coluna 1 (segunda coluna) da matriz \"a\".\n",
        "b[0, 0] = 77      # Atribui o valor \"77\" ao elemento da primeira linha e primeira coluna na matriz \"b\" (gerada a partir de \"a\").\n",
        "print(a[0, 1])    # Exibe novamente o elemento da linha 0 (primeira linha) e coluna 1 (segunda coluna) da matriz \"a\", demonstrando que o mesmo foi modificado.\n",
        "\n",
        "c = a[:2, 1:3].copy()  # Cria um novo objeto \"c\", do tipo matriz, atribuindo a ele uma cópia do recorte de \"a\".\n",
        "print(c)               # Exibe a nova matriz."
      ],
      "execution_count": 198,
      "outputs": [
        {
          "output_type": "stream",
          "text": [
            "[[ 1  2  3  4]\n",
            " [ 5  6  7  8]\n",
            " [ 9 10 11 12]]\n",
            "[[2 3]\n",
            " [6 7]]\n",
            "2\n",
            "77\n",
            "[[77  3]\n",
            " [ 6  7]]\n"
          ],
          "name": "stdout"
        }
      ]
    },
    {
      "cell_type": "code",
      "metadata": {
        "id": "vXMuIa4jeGHm",
        "outputId": "1d41c997-9fb1-49ae-81eb-ad16ae599eaa",
        "colab": {
          "base_uri": "https://localhost:8080/",
          "height": 107
        }
      },
      "source": [
        "c[0, 0] = -1000       # Atribui um novo elemento à nova matriz \"c\" (primeira linha e primeira coluna = 0 X 0).\n",
        "print(c)              # Exibe o conteúdo da nova matriz \"c\".\n",
        "print(a)              # Exibe o conteúdo da matriz original (\"a\")."
      ],
      "execution_count": 199,
      "outputs": [
        {
          "output_type": "stream",
          "text": [
            "[[-1000     3]\n",
            " [    6     7]]\n",
            "[[ 1 77  3  4]\n",
            " [ 5  6  7  8]\n",
            " [ 9 10 11 12]]\n"
          ],
          "name": "stdout"
        }
      ]
    },
    {
      "cell_type": "code",
      "metadata": {
        "id": "lt-y8MrPeHdQ",
        "outputId": "ca0a4b74-cebd-4577-c83d-dec4f9641ae5",
        "colab": {
          "base_uri": "https://localhost:8080/",
          "height": 125
        }
      },
      "source": [
        "print (a)            # Exibe o conteúda da matriz \"a\".\n",
        "a > 10               # Exibe uma visão (espelho) da matriz \"a\" cujos elementos corresponde ao resultado da expressão indicada. "
      ],
      "execution_count": 200,
      "outputs": [
        {
          "output_type": "stream",
          "text": [
            "[[ 1 77  3  4]\n",
            " [ 5  6  7  8]\n",
            " [ 9 10 11 12]]\n"
          ],
          "name": "stdout"
        },
        {
          "output_type": "execute_result",
          "data": {
            "text/plain": [
              "array([[False,  True, False, False],\n",
              "       [False, False, False, False],\n",
              "       [False, False,  True,  True]])"
            ]
          },
          "metadata": {
            "tags": []
          },
          "execution_count": 200
        }
      ]
    },
    {
      "cell_type": "code",
      "metadata": {
        "id": "D3sMRzeHe7Vv",
        "outputId": "f3ba1f53-10fb-452c-96c8-c7200e31692e",
        "colab": {
          "base_uri": "https://localhost:8080/",
          "height": 89
        }
      },
      "source": [
        "print (a)         # Exibe o conteúdo da matriz \"a\".\n",
        "a[a > 10]         # Exibe os elementos da matriz \"a\" que satisfazem a expressão indicada."
      ],
      "execution_count": 201,
      "outputs": [
        {
          "output_type": "stream",
          "text": [
            "[[ 1 77  3  4]\n",
            " [ 5  6  7  8]\n",
            " [ 9 10 11 12]]\n"
          ],
          "name": "stdout"
        },
        {
          "output_type": "execute_result",
          "data": {
            "text/plain": [
              "array([77, 11, 12])"
            ]
          },
          "metadata": {
            "tags": []
          },
          "execution_count": 201
        }
      ]
    },
    {
      "cell_type": "markdown",
      "metadata": {
        "id": "DeK7GaHcfVgx"
      },
      "source": [
        "### Operações com arrays"
      ]
    },
    {
      "cell_type": "code",
      "metadata": {
        "id": "ZlG_xq4Re-vN",
        "outputId": "dac3c6ef-0194-4d55-969f-3f98330f82f4",
        "colab": {
          "base_uri": "https://localhost:8080/",
          "height": 197
        }
      },
      "source": [
        "x = np.array([[1,2],[3,4]], dtype=np.float64)  # Cria a matriz x com valores numéricos reais.\n",
        "y = np.array([[5,6],[7,8]], dtype=np.float64)  # Cria a matriz y com valores numéricos reais.\n",
        "\n",
        "print(x + y)       # Soma cada elemento de \"x\" ao correspondente elemento em \"y\" (soma dos elementos das mesmas posições nas duas matrizes). \n",
        "print(x - y)       # Subtrai de cada elemento de \"x\" o correspondente elemento em \"y\" (subtração dos elementos das mesmas posições nas duas matrizes). \n",
        "print(x * y)       # Multiplica cada elemento de \"x\" ao correspondente elemento em \"y\" (multiplicação entre os elementos das mesmas posições nas duas matrizes). \n",
        "print(x / y)       # Divide cada elemento de \"x\" pelo correspondente elemento em \"y\" (divisão entre os elementos das mesmas posições nas duas matrizes). \n",
        "print(np.sqrt(x))  # Extrai a raiz quadrada de cada um dos elementos da matriz \"x\".\n"
      ],
      "execution_count": 202,
      "outputs": [
        {
          "output_type": "stream",
          "text": [
            "[[ 6.  8.]\n",
            " [10. 12.]]\n",
            "[[-4. -4.]\n",
            " [-4. -4.]]\n",
            "[[ 5. 12.]\n",
            " [21. 32.]]\n",
            "[[0.2        0.33333333]\n",
            " [0.42857143 0.5       ]]\n",
            "[[1.         1.41421356]\n",
            " [1.73205081 2.        ]]\n"
          ],
          "name": "stdout"
        }
      ]
    },
    {
      "cell_type": "code",
      "metadata": {
        "id": "-fORHkvbfiQ7",
        "outputId": "1a2fbe71-ca23-4749-fd89-83733dc7576b",
        "colab": {
          "base_uri": "https://localhost:8080/",
          "height": 53
        }
      },
      "source": [
        "print(np.dot(x, y))  # Efetua a multiplicação (matemática) entre as matrizes \"x\" e \"y\" (não entre os elementos) utilizando a função \"dot\". "
      ],
      "execution_count": 203,
      "outputs": [
        {
          "output_type": "stream",
          "text": [
            "[[19. 22.]\n",
            " [43. 50.]]\n"
          ],
          "name": "stdout"
        }
      ]
    },
    {
      "cell_type": "code",
      "metadata": {
        "id": "kp0bG6jmgBr2",
        "outputId": "48fa01f8-5888-418b-fd3c-7b67be94178f",
        "colab": {
          "base_uri": "https://localhost:8080/",
          "height": 107
        }
      },
      "source": [
        "print (x)                       # Exibe a matriz \"x\".\n",
        "print(np.sum(x))                # Retorna o somatório entre todos os elementos da matriz \"x\".\n",
        "print(np.sum(x, axis=0))        # Retorna o somatório entre todos os elementos de cada uma das colunas de \"x\" (somatório vertical).\n",
        "print(np.sum(x, axis=1))        # Retorna o somatório entre todos os elementos de cada uma das linhas de \"x\" (somatório horizontal)."
      ],
      "execution_count": 204,
      "outputs": [
        {
          "output_type": "stream",
          "text": [
            "[[1. 2.]\n",
            " [3. 4.]]\n",
            "10.0\n",
            "[4. 6.]\n",
            "[3. 7.]\n"
          ],
          "name": "stdout"
        }
      ]
    },
    {
      "cell_type": "markdown",
      "metadata": {
        "id": "zSs7SbTxiGQS"
      },
      "source": [
        "### Exercício => Acessar o meu Google Drive para obter uma imagem do Kiko e exibir um pixel da imagem! "
      ]
    },
    {
      "cell_type": "code",
      "metadata": {
        "id": "P2zIaH-UiHu_",
        "outputId": "4b1a5273-f6d3-43c2-892f-d8594efda66f",
        "colab": {
          "base_uri": "https://localhost:8080/",
          "height": 55
        }
      },
      "source": [
        "from google.colab import drive  # Acessa o Google Drive.\n",
        "drive.mount(\"/content/drive\")   # Monta o meu Drive na minha partição."
      ],
      "execution_count": 205,
      "outputs": [
        {
          "output_type": "stream",
          "text": [
            "Drive already mounted at /content/drive; to attempt to forcibly remount, call drive.mount(\"/content/drive\", force_remount=True).\n"
          ],
          "name": "stdout"
        }
      ]
    },
    {
      "cell_type": "code",
      "metadata": {
        "id": "znRt6mssiKFk",
        "outputId": "e15df8b5-3312-4b40-e28e-86c3c0c4f3b0",
        "colab": {
          "base_uri": "https://localhost:8080/",
          "height": 35
        }
      },
      "source": [
        "!ls drive/'My Drive'/Dados_DS/Foto_do_Kiko.jpg # Lista o conteúdo da pasta do Kiko no meu Drive."
      ],
      "execution_count": 206,
      "outputs": [
        {
          "output_type": "stream",
          "text": [
            "'drive/My Drive/Dados_DS/Foto_do_Kiko.jpg'\n"
          ],
          "name": "stdout"
        }
      ]
    },
    {
      "cell_type": "code",
      "metadata": {
        "id": "CBxAdo_WiNyd",
        "outputId": "1ec03742-5bc8-4fdf-f2d3-67d4eebd76e7",
        "colab": {
          "base_uri": "https://localhost:8080/",
          "height": 35
        }
      },
      "source": [
        "!pip install Pillow   # Instala a biblioteca Pillow (manipulação de imagens).\n"
      ],
      "execution_count": 207,
      "outputs": [
        {
          "output_type": "stream",
          "text": [
            "Requirement already satisfied: Pillow in /usr/local/lib/python3.6/dist-packages (7.0.0)\n"
          ],
          "name": "stdout"
        }
      ]
    },
    {
      "cell_type": "code",
      "metadata": {
        "id": "gUION3C4ibwL"
      },
      "source": [
        "from PIL import Image                                         # Importa a Biblioteca Pillow.\n",
        "img = Image.open(\"/content/drive/My Drive/Dados_DS/Foto_do_Kiko.jpg\")     # Acessa a foto do Kiko a partir do meu Drive."
      ],
      "execution_count": 212,
      "outputs": []
    },
    {
      "cell_type": "code",
      "metadata": {
        "id": "B-aT_JBhirfa",
        "outputId": "cff909d8-df3b-4c6e-bdfd-36c745b57e88",
        "colab": {
          "base_uri": "https://localhost:8080/",
          "height": 53
        }
      },
      "source": [
        "print(type(img))             # Exibe o tipo do arquivo (foto).\n",
        "imgnp = np.array(img)        # Carrega o arquivo (foto do kiko) em um objeto (array de 3 dimensões) utilizando o Numpy.\n",
        "print(type(imgnp))           # Exibe o tipo do objeto criado."
      ],
      "execution_count": 213,
      "outputs": [
        {
          "output_type": "stream",
          "text": [
            "<class 'PIL.JpegImagePlugin.JpegImageFile'>\n",
            "<class 'numpy.ndarray'>\n"
          ],
          "name": "stdout"
        }
      ]
    },
    {
      "cell_type": "code",
      "metadata": {
        "id": "vvzzbU87krWh",
        "outputId": "cecb0068-3af6-4199-f6ea-266cbbec5ca3",
        "colab": {
          "base_uri": "https://localhost:8080/",
          "height": 35
        }
      },
      "source": [
        "print(imgnp.shape)           # Exibe a dimensão do objeto (array de pixels com 3 dimessões)."
      ],
      "execution_count": 210,
      "outputs": [
        {
          "output_type": "stream",
          "text": [
            "(600, 800, 3)\n"
          ],
          "name": "stdout"
        }
      ]
    },
    {
      "cell_type": "code",
      "metadata": {
        "id": "N9cfH1LllgQQ",
        "outputId": "3512d519-df07-4ffe-ffce-1fd417a4c8cc",
        "colab": {
          "base_uri": "https://localhost:8080/",
          "height": 35
        }
      },
      "source": [
        "imgnp[100,200]                 # Exibe os dados da coloração de um pontinho (pixel) da foto do Kiko!  "
      ],
      "execution_count": 211,
      "outputs": [
        {
          "output_type": "execute_result",
          "data": {
            "text/plain": [
              "array([253, 255, 252], dtype=uint8)"
            ]
          },
          "metadata": {
            "tags": []
          },
          "execution_count": 211
        }
      ]
    }
  ]
}