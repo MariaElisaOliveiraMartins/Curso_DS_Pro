{
  "nbformat": 4,
  "nbformat_minor": 0,
  "metadata": {
    "colab": {
      "name": "Aula4 (5).ipynb",
      "provenance": [],
      "collapsed_sections": [
        "NsQxPvWzw6oF"
      ],
      "include_colab_link": true
    },
    "kernelspec": {
      "name": "python3",
      "display_name": "Python 3"
    }
  },
  "cells": [
    {
      "cell_type": "markdown",
      "metadata": {
        "id": "view-in-github",
        "colab_type": "text"
      },
      "source": [
        "<a href=\"https://colab.research.google.com/github/MariaElisaOliveiraMartins/Curso_DS_Pro/blob/main/Aula4_(5).ipynb\" target=\"_parent\"><img src=\"https://colab.research.google.com/assets/colab-badge.svg\" alt=\"Open In Colab\"/></a>"
      ]
    },
    {
      "cell_type": "markdown",
      "metadata": {
        "id": "t48XzH3XjlGF"
      },
      "source": [
        "# Aula 04 \n",
        "## Controle de qualidade de dados para Data Science"
      ]
    },
    {
      "cell_type": "code",
      "metadata": {
        "id": "MDjan7N1EWP6",
        "outputId": "a3fd20d0-282d-43e2-c521-0e386642a345",
        "colab": {
          "base_uri": "https://localhost:8080/",
          "height": 122
        }
      },
      "source": [
        "from google.colab import drive\n",
        "drive.mount('/content/drive')"
      ],
      "execution_count": null,
      "outputs": [
        {
          "output_type": "stream",
          "text": [
            "Go to this URL in a browser: https://accounts.google.com/o/oauth2/auth?client_id=947318989803-6bn6qk8qdgf4n4g3pfee6491hc0brc4i.apps.googleusercontent.com&redirect_uri=urn%3aietf%3awg%3aoauth%3a2.0%3aoob&response_type=code&scope=email%20https%3a%2f%2fwww.googleapis.com%2fauth%2fdocs.test%20https%3a%2f%2fwww.googleapis.com%2fauth%2fdrive%20https%3a%2f%2fwww.googleapis.com%2fauth%2fdrive.photos.readonly%20https%3a%2f%2fwww.googleapis.com%2fauth%2fpeopleapi.readonly\n",
            "\n",
            "Enter your authorization code:\n",
            "··········\n",
            "Mounted at /content/drive\n"
          ],
          "name": "stdout"
        }
      ]
    },
    {
      "cell_type": "markdown",
      "metadata": {
        "id": "q6IvzT3b6CmE"
      },
      "source": [
        ""
      ]
    },
    {
      "cell_type": "markdown",
      "metadata": {
        "id": "D1UGygndj02E"
      },
      "source": [
        "## Agenda\n",
        "\n",
        "* A importância do controle de qualidade dos dados em Data Science\n",
        "\n",
        "* Outliers\n",
        "\n",
        "* Técnicas mais eficazes para controle de qualidade de dados\n",
        "\n",
        "* Exercício prático: preparação de dados"
      ]
    },
    {
      "cell_type": "markdown",
      "metadata": {
        "id": "OTJzD5xFkJ4T"
      },
      "source": [
        "### Porque é importante o controle de qualidade dos dados usados em Data Science?\n",
        "\n",
        "* Garbage-in, garbage-out (GIGO)"
      ]
    },
    {
      "cell_type": "code",
      "metadata": {
        "id": "6WOp9dKxjjH4"
      },
      "source": [
        "import pandas as pd # Declaração da biblioteca Pandas.\n",
        "import numpy as np # Declaração da biblioteca NumPy."
      ],
      "execution_count": null,
      "outputs": []
    },
    {
      "cell_type": "code",
      "metadata": {
        "id": "Zu5ZjFmtMpaw"
      },
      "source": [
        "df = pd.read_csv(r'/content/drive/My Drive/Dados_DS/Planilha de Numeros.csv')"
      ],
      "execution_count": null,
      "outputs": []
    },
    {
      "cell_type": "code",
      "metadata": {
        "id": "6qFWYxNJtCyj"
      },
      "source": [
        "df.describe()"
      ],
      "execution_count": null,
      "outputs": []
    },
    {
      "cell_type": "code",
      "metadata": {
        "id": "f8krmtawSDKd"
      },
      "source": [
        "df.columns = ['col_1']\n",
        "df['col_2'] = '' # Acrescenta nova coluna ao dataframe.\n"
      ],
      "execution_count": null,
      "outputs": []
    },
    {
      "cell_type": "code",
      "metadata": {
        "id": "Z_iFFDT3S403"
      },
      "source": [
        "df"
      ],
      "execution_count": null,
      "outputs": []
    },
    {
      "cell_type": "code",
      "metadata": {
        "id": "pE1a6WfNj-Wn"
      },
      "source": [
        "pd.set_option('display.float_format', lambda x: '%.5f' % x)\n",
        "df.info()\n",
        "print(df.shape)"
      ],
      "execution_count": null,
      "outputs": []
    },
    {
      "cell_type": "code",
      "metadata": {
        "id": "vleIoKSl7fwd"
      },
      "source": [
        "df['col_2'] = np.random.rand(df.shape[0]) * 100000\n",
        "df.info()\n"
      ],
      "execution_count": null,
      "outputs": []
    },
    {
      "cell_type": "code",
      "metadata": {
        "id": "v9iSA_mT0Wag"
      },
      "source": [
        "for index, row in df.iterrows() : \n",
        "  df.loc[index, 'col_3'] = np.random.rand(1)"
      ],
      "execution_count": null,
      "outputs": []
    },
    {
      "cell_type": "code",
      "metadata": {
        "id": "ifjT00U1l9sa"
      },
      "source": [
        "df"
      ],
      "execution_count": null,
      "outputs": []
    },
    {
      "cell_type": "code",
      "metadata": {
        "id": "KlN9u4eMLwoZ"
      },
      "source": [
        "df.plot(y='col_1')"
      ],
      "execution_count": null,
      "outputs": []
    },
    {
      "cell_type": "code",
      "metadata": {
        "id": "DqM8_-3CQPdP"
      },
      "source": [
        "import matplotlib.pyplot as plt\n",
        "plt.hist(df.values)"
      ],
      "execution_count": null,
      "outputs": []
    },
    {
      "cell_type": "code",
      "metadata": {
        "id": "yIsfl01GN8Ge"
      },
      "source": [
        "import seaborn as sbn"
      ],
      "execution_count": null,
      "outputs": []
    },
    {
      "cell_type": "code",
      "metadata": {
        "id": "_qunHvr9-Z6_"
      },
      "source": [
        "sbn.boxplot(x=df,orient='vertical') # Exibe a concentração/dispersão dos valores em torno da média excluindo o out layer (desvio padrão)."
      ],
      "execution_count": null,
      "outputs": []
    },
    {
      "cell_type": "code",
      "metadata": {
        "id": "y5iAA8h9PDxK"
      },
      "source": [
        "sbn.violinplot(x=df,orient='vertical') # Exibe a concentração/dispersão dos valores em torno da média excluindo o out layer (desvio padrão)."
      ],
      "execution_count": null,
      "outputs": []
    },
    {
      "cell_type": "code",
      "metadata": {
        "id": "6z2hv9HKO_ov"
      },
      "source": [
        "# Exercício proposto : Neste lugar fazer um gráfico de disperção para verificar a distribuição dos dados da coluna 1, cujo desvio padrão é maior que a média.  ."
      ],
      "execution_count": null,
      "outputs": []
    },
    {
      "cell_type": "code",
      "metadata": {
        "id": "2qK9D38ovRSL"
      },
      "source": [
        "df[df.values > 10000]"
      ],
      "execution_count": null,
      "outputs": []
    },
    {
      "cell_type": "markdown",
      "metadata": {
        "id": "WTIXsEc4vE5k"
      },
      "source": [
        "* Tempo computacional\n",
        "* Qualidade da apresentação dos resultados"
      ]
    },
    {
      "cell_type": "markdown",
      "metadata": {
        "id": "2F4tmCub7kAU"
      },
      "source": [
        "### Evitando \"garbage\" em Machine Learning"
      ]
    },
    {
      "cell_type": "markdown",
      "metadata": {
        "id": "WSzPcVI67zKi"
      },
      "source": [
        "#### Dados imprecisos\n",
        "\n",
        "#### Dados que refletem \"preconceitos humanos\"\n",
        "\n",
        "#### Dados incompletos\n",
        "\n",
        "#### Bias"
      ]
    },
    {
      "cell_type": "markdown",
      "metadata": {
        "id": "GbKpaWTzwafl"
      },
      "source": [
        "#### Reflexos em:\n",
        "\n",
        "* Treinamento\n",
        "* Teste\n",
        "* Estimativa"
      ]
    },
    {
      "cell_type": "markdown",
      "metadata": {
        "id": "-fen_8Af8PxR"
      },
      "source": [
        "#### **Regra de ouro:** O analista de dados TEM QUE TER conhecimento sobre os dados que ele está analizando.\n",
        "\n",
        "Quanto conhecimento?\n",
        "\n",
        "Todo o conhecimento possível."
      ]
    },
    {
      "cell_type": "markdown",
      "metadata": {
        "id": "ryj5EbXIFDJz"
      },
      "source": [
        "#### \"Muitos problemas advém do fato do analista não conhecer os dados e também não conhecer as maneiras pelas quais eles falham\". \n",
        "*Mikey Shulman, ider de machine-learning para a Kensho Technologies.*"
      ]
    },
    {
      "cell_type": "markdown",
      "metadata": {
        "id": "6iC23s6LF8cL"
      },
      "source": [
        "#### \"Causo\" do inventário"
      ]
    },
    {
      "cell_type": "markdown",
      "metadata": {
        "id": "3dVa9sgSE9wb"
      },
      "source": [
        "### Outliers: técnicas para encontrar e remover"
      ]
    },
    {
      "cell_type": "code",
      "metadata": {
        "id": "AsV1ZV2QE9U0"
      },
      "source": [
        "import sklearn.datasets as sds # Importa a biblioteca Skit learning (machine learning) obtendo conjunto de dados prontos.\n",
        "import pandas as pd            # Importa o Pandas."
      ],
      "execution_count": null,
      "outputs": []
    },
    {
      "cell_type": "code",
      "metadata": {
        "id": "KWvfexCk9bfd",
        "outputId": "b47d2d0d-e729-495f-9d44-f4e8febaa143",
        "colab": {
          "base_uri": "https://localhost:8080/",
          "height": 459
        }
      },
      "source": [
        "boston = sds.load_boston()  # Carrega a variável \"boston\" com o conjunto de dados obtidos na biblioteca (residências em Boston)\n",
        "print(type(boston))         # Exibe a estrutura (tipo) do conjunto obtido (obs: não se trata de um dataframe).\n",
        "x = boston.data             # Salva os dados do conjunto em \"x\".\n",
        "y = boston.target           # Salva o objetivo do conjunto em \"y\".\n",
        "columns = boston.feature_names  # Salva o nome das coluna do conjunto em \"columns\".\n",
        "\n",
        "boston_df = pd.DataFrame(boston.data)  # Transforma os dados obtidos no conjunto em dataframe.\n",
        "boston_df.columns = columns            # Atribui os nomes das colunas do conjunto às colunas do dataframe.\n",
        "print(boston_df.count())               # Exibe o número de linhas do dataframe.\n",
        "boston_df.head()                       # Exibe o cabeçalho (nome das colunas e primeiras 6 linhas de dados do dataframe)\n"
      ],
      "execution_count": null,
      "outputs": [
        {
          "output_type": "stream",
          "text": [
            "<class 'sklearn.utils.Bunch'>\n",
            "CRIM       506\n",
            "ZN         506\n",
            "INDUS      506\n",
            "CHAS       506\n",
            "NOX        506\n",
            "RM         506\n",
            "AGE        506\n",
            "DIS        506\n",
            "RAD        506\n",
            "TAX        506\n",
            "PTRATIO    506\n",
            "B          506\n",
            "LSTAT      506\n",
            "dtype: int64\n"
          ],
          "name": "stdout"
        },
        {
          "output_type": "execute_result",
          "data": {
            "text/html": [
              "<div>\n",
              "<style scoped>\n",
              "    .dataframe tbody tr th:only-of-type {\n",
              "        vertical-align: middle;\n",
              "    }\n",
              "\n",
              "    .dataframe tbody tr th {\n",
              "        vertical-align: top;\n",
              "    }\n",
              "\n",
              "    .dataframe thead th {\n",
              "        text-align: right;\n",
              "    }\n",
              "</style>\n",
              "<table border=\"1\" class=\"dataframe\">\n",
              "  <thead>\n",
              "    <tr style=\"text-align: right;\">\n",
              "      <th></th>\n",
              "      <th>CRIM</th>\n",
              "      <th>ZN</th>\n",
              "      <th>INDUS</th>\n",
              "      <th>CHAS</th>\n",
              "      <th>NOX</th>\n",
              "      <th>RM</th>\n",
              "      <th>AGE</th>\n",
              "      <th>DIS</th>\n",
              "      <th>RAD</th>\n",
              "      <th>TAX</th>\n",
              "      <th>PTRATIO</th>\n",
              "      <th>B</th>\n",
              "      <th>LSTAT</th>\n",
              "    </tr>\n",
              "  </thead>\n",
              "  <tbody>\n",
              "    <tr>\n",
              "      <th>0</th>\n",
              "      <td>0.00632</td>\n",
              "      <td>18.0</td>\n",
              "      <td>2.31</td>\n",
              "      <td>0.0</td>\n",
              "      <td>0.538</td>\n",
              "      <td>6.575</td>\n",
              "      <td>65.2</td>\n",
              "      <td>4.0900</td>\n",
              "      <td>1.0</td>\n",
              "      <td>296.0</td>\n",
              "      <td>15.3</td>\n",
              "      <td>396.90</td>\n",
              "      <td>4.98</td>\n",
              "    </tr>\n",
              "    <tr>\n",
              "      <th>1</th>\n",
              "      <td>0.02731</td>\n",
              "      <td>0.0</td>\n",
              "      <td>7.07</td>\n",
              "      <td>0.0</td>\n",
              "      <td>0.469</td>\n",
              "      <td>6.421</td>\n",
              "      <td>78.9</td>\n",
              "      <td>4.9671</td>\n",
              "      <td>2.0</td>\n",
              "      <td>242.0</td>\n",
              "      <td>17.8</td>\n",
              "      <td>396.90</td>\n",
              "      <td>9.14</td>\n",
              "    </tr>\n",
              "    <tr>\n",
              "      <th>2</th>\n",
              "      <td>0.02729</td>\n",
              "      <td>0.0</td>\n",
              "      <td>7.07</td>\n",
              "      <td>0.0</td>\n",
              "      <td>0.469</td>\n",
              "      <td>7.185</td>\n",
              "      <td>61.1</td>\n",
              "      <td>4.9671</td>\n",
              "      <td>2.0</td>\n",
              "      <td>242.0</td>\n",
              "      <td>17.8</td>\n",
              "      <td>392.83</td>\n",
              "      <td>4.03</td>\n",
              "    </tr>\n",
              "    <tr>\n",
              "      <th>3</th>\n",
              "      <td>0.03237</td>\n",
              "      <td>0.0</td>\n",
              "      <td>2.18</td>\n",
              "      <td>0.0</td>\n",
              "      <td>0.458</td>\n",
              "      <td>6.998</td>\n",
              "      <td>45.8</td>\n",
              "      <td>6.0622</td>\n",
              "      <td>3.0</td>\n",
              "      <td>222.0</td>\n",
              "      <td>18.7</td>\n",
              "      <td>394.63</td>\n",
              "      <td>2.94</td>\n",
              "    </tr>\n",
              "    <tr>\n",
              "      <th>4</th>\n",
              "      <td>0.06905</td>\n",
              "      <td>0.0</td>\n",
              "      <td>2.18</td>\n",
              "      <td>0.0</td>\n",
              "      <td>0.458</td>\n",
              "      <td>7.147</td>\n",
              "      <td>54.2</td>\n",
              "      <td>6.0622</td>\n",
              "      <td>3.0</td>\n",
              "      <td>222.0</td>\n",
              "      <td>18.7</td>\n",
              "      <td>396.90</td>\n",
              "      <td>5.33</td>\n",
              "    </tr>\n",
              "  </tbody>\n",
              "</table>\n",
              "</div>"
            ],
            "text/plain": [
              "      CRIM    ZN  INDUS  CHAS    NOX  ...  RAD    TAX  PTRATIO       B  LSTAT\n",
              "0  0.00632  18.0   2.31   0.0  0.538  ...  1.0  296.0     15.3  396.90   4.98\n",
              "1  0.02731   0.0   7.07   0.0  0.469  ...  2.0  242.0     17.8  396.90   9.14\n",
              "2  0.02729   0.0   7.07   0.0  0.469  ...  2.0  242.0     17.8  392.83   4.03\n",
              "3  0.03237   0.0   2.18   0.0  0.458  ...  3.0  222.0     18.7  394.63   2.94\n",
              "4  0.06905   0.0   2.18   0.0  0.458  ...  3.0  222.0     18.7  396.90   5.33\n",
              "\n",
              "[5 rows x 13 columns]"
            ]
          },
          "metadata": {
            "tags": []
          },
          "execution_count": 3
        }
      ]
    },
    {
      "cell_type": "markdown",
      "metadata": {
        "id": "2oHH-9P9J9cJ"
      },
      "source": [
        "Descrição: https://www.cs.toronto.edu/~delve/data/boston/bostonDetail.html\n",
        "\n",
        "* CRIM - taxa de criminalidade per capita por cidade\n",
        "* ZN - proporção de terrenos residenciais divididos em lotes com mais de 25.000 pés quadrados.\n",
        "* INDUS - proporção de acres não comerciais por cidade.\n",
        "* CHAS - Variável fictícia Charles River (1 se o trecho limita o rio; 0 caso contrário)\n",
        "* NOX - concentração de óxidos nítricos (partes por 10 milhões)\n",
        "* RM - número médio de quartos por habitação\n",
        "* AGE - proporção de unidades ocupadas pelo proprietário construídas antes de 1940\n",
        "* DIS - distâncias ponderadas para cinco centros de emprego em Boston\n",
        "* RAD - índice de acessibilidade às rodovias radiais\n",
        "* TAX - taxa de imposto sobre a propriedade de valor total por \\$10,000\n",
        "* PTRATIO - proporção aluno-professor por cidade\n",
        "* B - 1000(Bk - 0.63)^2 em que Bk é a proporção de negros por cidade\n",
        "* LSTAT - /% menor status da população\n",
        "* MEDV - Valor médio das casas ocupadas pelos proprietários em US $ 1000"
      ]
    },
    {
      "cell_type": "markdown",
      "metadata": {
        "id": "US6AxsPpaXV7"
      },
      "source": [
        "**Método 1:** Boxplot"
      ]
    },
    {
      "cell_type": "code",
      "metadata": {
        "id": "9gZaKC6fQwXx",
        "outputId": "e4fde694-a910-4b3a-fb39-5d87778c9a17",
        "colab": {
          "base_uri": "https://localhost:8080/",
          "height": 187
        }
      },
      "source": [
        "print (boston_df.DIS.describe())    # Exibe o resumo estatístico do dataframe com foco na distância das residências (DIS).\n",
        "print (boston_df.DIS.median())      # Exibe o valor da mediana. "
      ],
      "execution_count": null,
      "outputs": [
        {
          "output_type": "stream",
          "text": [
            "count    506.000000\n",
            "mean       3.795043\n",
            "std        2.105710\n",
            "min        1.129600\n",
            "25%        2.100175\n",
            "50%        3.207450\n",
            "75%        5.188425\n",
            "max       12.126500\n",
            "Name: DIS, dtype: float64\n",
            "3.2074499999999997\n"
          ],
          "name": "stdout"
        }
      ]
    },
    {
      "cell_type": "code",
      "metadata": {
        "id": "-h-Y1DbgRHfi",
        "outputId": "8bdb9b5a-875d-4717-c5c3-d3f6f9f5af25",
        "colab": {
          "base_uri": "https://localhost:8080/",
          "height": 323
        }
      },
      "source": [
        "import seaborn as sns                           # Importa a biblioteca seaborn\n",
        "sns.boxplot(x=boston_df['DIS'], orient='vert')  # Analisa os out-layers sob a ótica da distância em relação aos centros de emprego em Boston."
      ],
      "execution_count": null,
      "outputs": [
        {
          "output_type": "stream",
          "text": [
            "/usr/local/lib/python3.6/dist-packages/statsmodels/tools/_testing.py:19: FutureWarning: pandas.util.testing is deprecated. Use the functions in the public API at pandas.testing instead.\n",
            "  import pandas.util.testing as tm\n"
          ],
          "name": "stderr"
        },
        {
          "output_type": "execute_result",
          "data": {
            "text/plain": [
              "<matplotlib.axes._subplots.AxesSubplot at 0x7f0881f21208>"
            ]
          },
          "metadata": {
            "tags": []
          },
          "execution_count": 5
        },
        {
          "output_type": "display_data",
          "data": {
            "image/png": "[encoded data removed]",
            "text/plain": [
              "<Figure size 432x288 with 1 Axes>"
            ]
          },
          "metadata": {
            "tags": [],
            "needs_background": "light"
          }
        }
      ]
    },
    {
      "cell_type": "markdown",
      "metadata": {
        "id": "dYChHHE6fBTF"
      },
      "source": [
        "**Método 2:** Análise de correlação"
      ]
    },
    {
      "cell_type": "code",
      "metadata": {
        "id": "U58Vwko-j_lW",
        "outputId": "39712ee1-69bf-4b8c-c29d-f953f65d078b",
        "colab": {
          "base_uri": "https://localhost:8080/",
          "height": 170
        }
      },
      "source": [
        "print (boston_df.DIS.describe())    # Exibe o resumo estatístico do dataframe com foco na distância das residências (DIS)."
      ],
      "execution_count": null,
      "outputs": [
        {
          "output_type": "stream",
          "text": [
            "count    506.000000\n",
            "mean       3.795043\n",
            "std        2.105710\n",
            "min        1.129600\n",
            "25%        2.100175\n",
            "50%        3.207450\n",
            "75%        5.188425\n",
            "max       12.126500\n",
            "Name: DIS, dtype: float64\n"
          ],
          "name": "stdout"
        }
      ]
    },
    {
      "cell_type": "code",
      "metadata": {
        "id": "2rnjIgmkedjZ",
        "outputId": "6526c87f-88eb-4c47-c541-fd62d565a494",
        "colab": {
          "base_uri": "https://localhost:8080/",
          "height": 393
        }
      },
      "source": [
        "import matplotlib.pyplot as plt             # Importa as funções de visualização (plotagem) da biblioteca \"matplotlib\".\n",
        "%matplotlib inline\n",
        "\n",
        "plt.figure(figsize= (5,5), dpi=80)          # Configura as dimensões do gráfico a ser exibido.\n",
        "sns.heatmap(boston_df.corr())               # Aplica a função \"heatmap\" a qual exibe todas as correlações exitente entre os dados do dataframe.\n",
        "\n",
        "plt.savefig('/content/drive/My Drive/Curso Data Science/DS Pro/Exercícios/aula 4/Exemplo de heatmap.png') # Salva uma imagem (PNG) do gráfico gerado no drive do Google."
      ],
      "execution_count": null,
      "outputs": [
        {
          "output_type": "display_data",
          "data": {
            "image/png": "[encoded data removed]",
            "text/plain": [
              "<Figure size 400x400 with 2 Axes>"
            ]
          },
          "metadata": {
            "tags": [],
            "needs_background": "light"
          }
        }
      ]
    },
    {
      "cell_type": "code",
      "metadata": {
        "id": "Ozrg5deJLa49",
        "outputId": "9b05aa16-9862-47b9-c99f-bb6900a3f753",
        "colab": {
          "base_uri": "https://localhost:8080/",
          "height": 357
        }
      },
      "source": [
        "fig, ax = plt.subplots(figsize=(8,5))                  # Aplica configurações para exibição do gráfico de dispersão.\n",
        "ax.scatter(boston_df['DIS'], boston_df['TAX'])         # Seleciona as informações a serem analisadas na correlação.\n",
        "\n",
        "ax.set_xlabel('Distancia em relação aos centros de trabalhos')   # Define um rótulo explicativo para o eixo X.  \n",
        "ax.set_ylabel('Taxa de imposto sobre o valor total da propriedade por $10,000') # Define um rótulo explicativo para o eixo Y.\n",
        "plt.show()                                              # Exibe o gráfico de dispersão da correlação."
      ],
      "execution_count": null,
      "outputs": [
        {
          "output_type": "display_data",
          "data": {
            "image/png": "[encoded data removed]",
            "text/plain": [
              "<Figure size 576x360 with 1 Axes>"
            ]
          },
          "metadata": {
            "tags": [],
            "needs_background": "light"
          }
        }
      ]
    },
    {
      "cell_type": "markdown",
      "metadata": {
        "id": "YPfZkcmoSYLc"
      },
      "source": [
        "**Método 3:** Usando uma função matemática para descobrir outliers\n",
        "\n",
        "**Teste Z (Z-Score)**\n",
        "\n",
        "Teste estatístico que pressupõe que a distribuição dos valores se aproxima da Distribuição Normal.\n",
        "\n",
        "**Distribuição Normal**"
      ]
    },
    {
      "cell_type": "code",
      "metadata": {
        "id": "b6OQhmnRLs_v",
        "outputId": "54924b62-7478-4eca-b0f1-a000f30011b3",
        "colab": {
          "base_uri": "https://localhost:8080/",
          "height": 265
        }
      },
      "source": [
        "import numpy as np                                # Importa a biblioteca NumPy.\n",
        "import scipy.stats as stats                       # Importa a biblioteca SCIPY.\n",
        "import math                                       # Importa a biblioteca Math.\n",
        "\n",
        "mu = 0                                     # Definição clássica da média da curva normal Z-Score ( média = 0 ).\n",
        "variance = 1                               # Definição clássica da variância em uma curva normal Z-Score ( variância = 1 ). \n",
        "sigma = math.sqrt(variance)                # Obtem a raiz quadrada da variância para calcular a amplitude do gráfico. \n",
        "x = np.linspace(mu - 3*sigma, mu + 3*sigma, 100)  # Calculo a amplitude do gráfico no eixo \"X\".\n",
        "plt.plot(x, stats.norm.pdf(x, mu, sigma))         # Aplica o calculo efetuado na função de plotagem de uma curva normal.\n",
        "plt.show()                                        # Exibe a curva normal."
      ],
      "execution_count": null,
      "outputs": [
        {
          "output_type": "display_data",
          "data": {
            "image/png": "[encoded data removed]",
            "text/plain": [
              "<Figure size 432x288 with 1 Axes>"
            ]
          },
          "metadata": {
            "tags": [],
            "needs_background": "light"
          }
        }
      ]
    },
    {
      "cell_type": "markdown",
      "metadata": {
        "id": "b0P4po2GhDXe"
      },
      "source": [
        "#### Verificando se a distribuição é normal\n",
        "\n"
      ]
    },
    {
      "cell_type": "code",
      "metadata": {
        "id": "LEMDtEZ3hdDu",
        "outputId": "d945ab36-3e95-41d2-b7f7-39da43976837",
        "colab": {
          "base_uri": "https://localhost:8080/",
          "height": 333
        }
      },
      "source": [
        "plt.hist(boston_df.DIS)  # Exibe o histograma de uma dada informação p/ verificar a viabilidade da aplicação do método Z-Score."
      ],
      "execution_count": null,
      "outputs": [
        {
          "output_type": "execute_result",
          "data": {
            "text/plain": [
              "(array([150., 111.,  81.,  61.,  46.,  26.,  19.,   7.,   4.,   1.]),\n",
              " array([ 1.1296 ,  2.22929,  3.32898,  4.42867,  5.52836,  6.62805,\n",
              "         7.72774,  8.82743,  9.92712, 11.02681, 12.1265 ]),\n",
              " <a list of 10 Patch objects>)"
            ]
          },
          "metadata": {
            "tags": []
          },
          "execution_count": 10
        },
        {
          "output_type": "display_data",
          "data": {
            "image/png": "[encoded data removed]",
            "text/plain": [
              "<Figure size 432x288 with 1 Axes>"
            ]
          },
          "metadata": {
            "tags": [],
            "needs_background": "light"
          }
        }
      ]
    },
    {
      "cell_type": "code",
      "metadata": {
        "id": "jedtVBbDWNME",
        "outputId": "90ef8233-dc1a-48d6-d423-2f09eb26b985",
        "colab": {
          "base_uri": "https://localhost:8080/",
          "height": 136
        }
      },
      "source": [
        "from scipy import stats              # Importa a função \"stats\" (aplicação da distribuição normal) da biblioteca scipy.\n",
        "z = np.abs(stats.zscore(boston_df))  # Aplica a distribuição normal sobre os dados do dataframe.\n",
        "print(z)                             # Exibe o resultado (numérico) da distribuição aplicada."
      ],
      "execution_count": null,
      "outputs": [
        {
          "output_type": "stream",
          "text": [
            "[[0.41978194 0.28482986 1.2879095  ... 1.45900038 0.44105193 1.0755623 ]\n",
            " [0.41733926 0.48772236 0.59338101 ... 0.30309415 0.44105193 0.49243937]\n",
            " [0.41734159 0.48772236 0.59338101 ... 0.30309415 0.39642699 1.2087274 ]\n",
            " ...\n",
            " [0.41344658 0.48772236 0.11573841 ... 1.17646583 0.44105193 0.98304761]\n",
            " [0.40776407 0.48772236 0.11573841 ... 1.17646583 0.4032249  0.86530163]\n",
            " [0.41500016 0.48772236 0.11573841 ... 1.17646583 0.44105193 0.66905833]]\n"
          ],
          "name": "stdout"
        }
      ]
    },
    {
      "cell_type": "code",
      "metadata": {
        "id": "gkS2IE5nX5E5",
        "outputId": "a2dbfb08-0f5d-4f5e-9910-b0402cc79a37",
        "colab": {
          "base_uri": "https://localhost:8080/",
          "height": 258
        }
      },
      "source": [
        "threshold = 3              # Define o limite (devio) a ser considerado na seleção dos out-layers (acima e baixo da média).\n",
        "print(np.where(z > 3))     # Exibe os out-layers encontrados com base no limite definido."
      ],
      "execution_count": null,
      "outputs": [
        {
          "output_type": "stream",
          "text": [
            "(array([ 55,  56,  57, 102, 141, 142, 152, 154, 155, 160, 162, 163, 199,\n",
            "       200, 201, 202, 203, 204, 208, 209, 210, 211, 212, 216, 218, 219,\n",
            "       220, 221, 222, 225, 234, 236, 256, 257, 262, 269, 273, 274, 276,\n",
            "       277, 282, 283, 283, 284, 347, 351, 352, 353, 353, 354, 355, 356,\n",
            "       357, 358, 363, 364, 364, 365, 367, 369, 370, 372, 373, 374, 374,\n",
            "       380, 398, 404, 405, 406, 410, 410, 411, 412, 412, 414, 414, 415,\n",
            "       416, 418, 418, 419, 423, 424, 425, 426, 427, 427, 429, 431, 436,\n",
            "       437, 438, 445, 450, 454, 455, 456, 457, 466]), array([ 1,  1,  1, 11, 12,  3,  3,  3,  3,  3,  3,  3,  1,  1,  1,  1,  1,\n",
            "        1,  3,  3,  3,  3,  3,  3,  3,  3,  3,  3,  3,  5,  3,  3,  1,  5,\n",
            "        5,  3,  3,  3,  3,  3,  3,  1,  3,  1,  1,  7,  7,  1,  7,  7,  7,\n",
            "        3,  3,  3,  3,  3,  5,  5,  5,  3,  3,  3, 12,  5, 12,  0,  0,  0,\n",
            "        0,  5,  0, 11, 11, 11, 12,  0, 12, 11, 11,  0, 11, 11, 11, 11, 11,\n",
            "       11,  0, 11, 11, 11, 11, 11, 11, 11, 11, 11, 11, 11, 11, 11]))\n"
          ],
          "name": "stdout"
        }
      ]
    },
    {
      "cell_type": "markdown",
      "metadata": {
        "id": "LWMFTxCvYvMV"
      },
      "source": [
        "**Saída:** O primeiro array contém uma lista de linhas e o segundo array uma lista de colunas. Assim, z[55][1] tem um Z-score maior que três. Isso significa que, se considerarmos o valor do limiar = 3, esse dado é um outlier."
      ]
    },
    {
      "cell_type": "code",
      "metadata": {
        "id": "DibwwphnYSDU",
        "outputId": "1f55cd27-3a95-4e33-ed90-127af4bb3f26",
        "colab": {
          "base_uri": "https://localhost:8080/",
          "height": 34
        }
      },
      "source": [
        "z[55][1] # Exibe o valor de um out-layers com base no método Z-Score (ponto da matriz definida pelos índices selecionados)."
      ],
      "execution_count": null,
      "outputs": [
        {
          "output_type": "execute_result",
          "data": {
            "text/plain": [
              "3.375038763517309"
            ]
          },
          "metadata": {
            "tags": []
          },
          "execution_count": 13
        }
      ]
    },
    {
      "cell_type": "markdown",
      "metadata": {
        "id": "3E-t4jyrbg-q"
      },
      "source": [
        "**Método 4:** Score IQR (Faixa interquartis)\n",
        "\n",
        "*IQR = Q3 − Q1*"
      ]
    },
    {
      "cell_type": "code",
      "metadata": {
        "id": "XL8dlWSDZeIa",
        "outputId": "2bca2b58-3432-409a-afbc-b4f7f8fd5aa0",
        "colab": {
          "base_uri": "https://localhost:8080/",
          "height": 255
        }
      },
      "source": [
        "Q1 = boston_df.quantile(0.25)    # Define o quantil inferior a ser considerado na seleção dos out-layers (abaixo média).\n",
        "Q3 = boston_df.quantile(0.75)    # Define o quantil superior a ser considerado na seleção dos out-layers (p/ cima e p/ baixo da média).\n",
        "IQR = Q3 - Q1                    # Calcula o intervalo entre quantis desconsiderando os out-layers.\n",
        "print(IQR)                       # Exibe as quantidades de informações entre os quantis definidos.\n"
      ],
      "execution_count": null,
      "outputs": [
        {
          "output_type": "stream",
          "text": [
            "CRIM         3.595038\n",
            "ZN          12.500000\n",
            "INDUS       12.910000\n",
            "CHAS         0.000000\n",
            "NOX          0.175000\n",
            "RM           0.738000\n",
            "AGE         49.050000\n",
            "DIS          3.088250\n",
            "RAD         20.000000\n",
            "TAX        387.000000\n",
            "PTRATIO      2.800000\n",
            "B           20.847500\n",
            "LSTAT       10.005000\n",
            "dtype: float64\n"
          ],
          "name": "stdout"
        }
      ]
    },
    {
      "cell_type": "markdown",
      "metadata": {
        "id": "S7BECTWNc4VS"
      },
      "source": [
        "#### Removendo os outliers"
      ]
    },
    {
      "cell_type": "markdown",
      "metadata": {
        "id": "w6-l_8ZhFaks"
      },
      "source": [
        ""
      ]
    },
    {
      "cell_type": "markdown",
      "metadata": {
        "id": "mQTtndkcihed"
      },
      "source": [
        "a) Encontrados pela distribuição normal"
      ]
    },
    {
      "cell_type": "code",
      "metadata": {
        "id": "cUGFBF3HcuP8",
        "outputId": "1f88a3c0-6998-49a1-862e-3f926ffd4bd2",
        "colab": {
          "base_uri": "https://localhost:8080/",
          "height": 51
        }
      },
      "source": [
        "print(boston_df.shape)                        # Exibe a dimensão do dataframe antes da exclusão dos out-layesr.\n",
        "boston_df_o = boston_df[(z < 3).all(axis=1)]  # Aplica a exclusão dos out-layers com base no desvio definido.\n",
        "print(boston_df_o.shape)                      # Exibe a dimensão do dataframe depois da exclusão dos out-layesr."
      ],
      "execution_count": null,
      "outputs": [
        {
          "output_type": "stream",
          "text": [
            "(506, 13)\n",
            "(415, 13)\n"
          ],
          "name": "stdout"
        }
      ]
    },
    {
      "cell_type": "markdown",
      "metadata": {
        "id": "757c4JUqm50Y"
      },
      "source": [
        "b) Encontrado pelo IQR"
      ]
    },
    {
      "cell_type": "code",
      "metadata": {
        "id": "MIQ9I1CsdBjt",
        "outputId": "25a6fc48-c557-4f17-f449-960108db695b",
        "colab": {
          "base_uri": "https://localhost:8080/",
          "height": 34
        }
      },
      "source": [
        "boston_df_out = boston_df_o[~((boston_df_o < (Q1 - 1.5 * IQR)) |(boston_df_o > (Q3 + 1.5 * IQR))).any(axis=1)] # Exclui os out-layers com base nos quantis definidos.\n",
        "print(boston_df_out.shape)   # Exibe a dimensão do dataframe resultante para avaliar a eficácia do método sobre os dados."
      ],
      "execution_count": null,
      "outputs": [
        {
          "output_type": "stream",
          "text": [
            "(274, 13)\n"
          ],
          "name": "stdout"
        }
      ]
    }
  ]
}